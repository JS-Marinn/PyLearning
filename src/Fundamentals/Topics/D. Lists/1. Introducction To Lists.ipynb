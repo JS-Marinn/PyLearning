{
 "cells": [
  {
   "cell_type": "markdown",
   "metadata": {},
   "source": [
    "# Lists: **Introduction To Lists**\n",
    "\n",
    "<p style=\"text-align: center;\">\n",
    "  <img src=\"../img/python-list.webp\" width=\"1000\">\n",
    "</p>\n",
    "\n",
    "*Source: [[Link to the original source](https://realpython.com)]*"
   ]
  },
  {
   "cell_type": "markdown",
   "metadata": {},
   "source": [
    "Lists are one of Python’s most versatile data structures. They allow you to store an ordered collection of items that can be of various types, and you can easily modify them. Lists are widely used in Python programming due to their flexibility and powerful set of built-in functionalities. Let’s go over the basics:"
   ]
  },
  {
   "cell_type": "markdown",
   "metadata": {},
   "source": [
    "## **1. Definition and Creation of Lists**\n",
    "A list in Python is a sequence of elements, each of which can be of any data type. Lists are defined by enclosing elements in square brackets [], separated by commas."
   ]
  },
  {
   "cell_type": "code",
   "execution_count": null,
   "metadata": {},
   "outputs": [],
   "source": [
    "# Creating an empty list\n",
    "empty_list = []\n",
    "\n",
    "# Creating a list of integers\n",
    "numbers = [1, 2, 3, 4, 5]\n",
    "\n",
    "# Creating a list with mixed data types\n",
    "mixed_list = [1, \"Hello\", 3.5, True]"
   ]
  },
  {
   "cell_type": "markdown",
   "metadata": {},
   "source": [
    "### **Characteristics of Lists:**\n",
    "* **Ordered**: Elements retain their position, so you can access them by index.\n",
    "* **Mutable**: You can modify elements after the list is created.\n",
    "* **Allows Duplicates**: Lists can contain duplicate elements, unlike sets."
   ]
  },
  {
   "cell_type": "markdown",
   "metadata": {},
   "source": [
    "## **2. Types of Elements in Lists**\n",
    "A list can contain any type of element, such as integers, strings, floats, booleans, or even other lists. Python allows diverse data types within a single list, making them highly flexible."
   ]
  },
  {
   "cell_type": "code",
   "execution_count": null,
   "metadata": {},
   "outputs": [],
   "source": [
    "# List of strings\n",
    "names = [\"Alice\", \"Bob\", \"Charlie\"]\n",
    "\n",
    "# List of booleans\n",
    "bool_list = [True, False, True]\n",
    "\n",
    "# List of mixed types\n",
    "mixed_data = [100, \"Python\", 3.14, None]"
   ]
  },
  {
   "cell_type": "markdown",
   "metadata": {},
   "source": [
    "## **3. Nested Lists**\n",
    "Nested lists are lists that contain other lists as elements. This structure can create multi-dimensional data, like matrices, and is commonly used to represent complex data."
   ]
  },
  {
   "cell_type": "code",
   "execution_count": null,
   "metadata": {},
   "outputs": [],
   "source": [
    "# Creating a nested list\n",
    "matrix = [\n",
    "    [1, 2, 3],\n",
    "    [4, 5, 6],\n",
    "    [7, 8, 9]\n",
    "]\n",
    "\n",
    "# Accessing elements in a nested list\n",
    "print(matrix[0][1])  # Output: 2 (Second element of the first row)"
   ]
  },
  {
   "cell_type": "markdown",
   "metadata": {},
   "source": [
    "In this example, ``matrix`` is a 3x3 grid where each element is accessible by specifying two indices (row and column)."
   ]
  },
  {
   "cell_type": "markdown",
   "metadata": {},
   "source": [
    "## **4. Common List Operations**\n",
    "Python lists support a variety of operations that allow for flexible manipulation. Here are some examples of common list operations:"
   ]
  },
  {
   "cell_type": "markdown",
   "metadata": {},
   "source": [
    "### **1. Length of a List:**\n",
    "\n",
    "* You can use the ``len()`` function to find the number of elements in a list."
   ]
  },
  {
   "cell_type": "code",
   "execution_count": null,
   "metadata": {},
   "outputs": [],
   "source": [
    "fruits = [\"apple\", \"banana\", \"cherry\"]\n",
    "print(len(fruits))  # Output: 3"
   ]
  },
  {
   "cell_type": "markdown",
   "metadata": {},
   "source": [
    "### **2. Membership Check:**\n",
    "\n",
    "* Use the ``in`` keyword to check if an element exists in a list."
   ]
  },
  {
   "cell_type": "code",
   "execution_count": null,
   "metadata": {},
   "outputs": [],
   "source": [
    "print(\"apple\" in fruits)  # Output: True\n",
    "print(\"grape\" in fruits)  # Output: False"
   ]
  },
  {
   "cell_type": "markdown",
   "metadata": {},
   "source": [
    "### **3. Accessing Elements by Index:**\n",
    "\n",
    "* Each element in a list has an index, starting at ``0``. You can access any element by its index."
   ]
  },
  {
   "cell_type": "code",
   "execution_count": null,
   "metadata": {},
   "outputs": [],
   "source": [
    "print(fruits[1])  # Output: banana"
   ]
  },
  {
   "cell_type": "markdown",
   "metadata": {},
   "source": [
    "### **4. Negative Indexing:**\n",
    "\n",
    "Negative indices start from the end of the list, making it easy to access elements from the end."
   ]
  },
  {
   "cell_type": "code",
   "execution_count": null,
   "metadata": {},
   "outputs": [],
   "source": [
    "print(fruits[-1])  # Output: cherry"
   ]
  },
  {
   "cell_type": "markdown",
   "metadata": {},
   "source": [
    "## **5. Creating Lists with the list() Function**\n",
    "You can also create a list using the ``list()`` constructor. This method is often used to convert other data types, like tuples or strings, into lists."
   ]
  },
  {
   "cell_type": "code",
   "execution_count": null,
   "metadata": {},
   "outputs": [],
   "source": [
    "# Creating a list from a tuple\n",
    "tuple_data = (1, 2, 3)\n",
    "list_from_tuple = list(tuple_data)\n",
    "print(list_from_tuple)  # Output: [1, 2, 3]\n",
    "\n",
    "# Creating a list from a string\n",
    "string_data = \"hello\"\n",
    "list_from_string = list(string_data)\n",
    "print(list_from_string)  # Output: ['h', 'e', 'l', 'l', 'o']"
   ]
  },
  {
   "cell_type": "markdown",
   "metadata": {},
   "source": [
    "## **Summary**\n",
    "* **Lists** are ordered, mutable, and can contain elements of any data type, including other lists.\n",
    "* **Elements** can be accessed via indexing, and lists allow duplicate values.\n",
    "* **Nested lists** enable multi-dimensional data structures.\n",
    "* The ``list()`` function is helpful for converting data types to lists.\n"
   ]
  }
 ],
 "metadata": {
  "language_info": {
   "name": "python"
  }
 },
 "nbformat": 4,
 "nbformat_minor": 2
}
