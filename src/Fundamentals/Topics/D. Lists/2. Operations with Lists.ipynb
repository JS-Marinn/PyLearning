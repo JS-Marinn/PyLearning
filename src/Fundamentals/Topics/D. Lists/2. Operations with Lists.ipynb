{
 "cells": [
  {
   "cell_type": "markdown",
   "metadata": {},
   "source": [
    "# Lists: **Operations with Lists**\n",
    "\n",
    "<p style=\"text-align: center;\">\n",
    "  <img src=\"../img/operation-on-lists.jpg\" width=\"1000\">\n",
    "</p>"
   ]
  },
  {
   "cell_type": "markdown",
   "metadata": {},
   "source": [
    "Lists offer a wide variety of operations to manipulate and interact with their contents. These operations include accessing elements, slicing, concatenating, repeating, and indexing, allowing powerful ways to modify and retrieve data. Let’s look at each of these in detail."
   ]
  },
  {
   "cell_type": "markdown",
   "metadata": {},
   "source": [
    "## **1. Indexing Lists**\n",
    "Each element in a list can be accessed using its index. Python indexing starts at 0, meaning the first element has an index of 0, the second element has an index of 1, and so on."
   ]
  },
  {
   "cell_type": "code",
   "execution_count": null,
   "metadata": {},
   "outputs": [],
   "source": [
    "fruits = [\"apple\", \"banana\", \"cherry\", \"date\"]\n",
    "\n",
    "# Access the first element\n",
    "print(fruits[0])  # Output: apple\n",
    "\n",
    "# Access the last element using negative indexing\n",
    "print(fruits[-1])  # Output: date"
   ]
  },
  {
   "cell_type": "markdown",
   "metadata": {},
   "source": [
    "## **2. Slicing Lists**\n",
    "Slicing allows you to retrieve a specific section of the list by specifying a start and end index. Slicing follows the pattern ``[start:end:step]``, where:\n",
    "\n",
    "* ``start`` is the starting index (included).\n",
    "* ``end`` is the ending index (excluded).\n",
    "* ``step`` is the step size (optional)."
   ]
  },
  {
   "cell_type": "code",
   "execution_count": null,
   "metadata": {},
   "outputs": [],
   "source": [
    "# Define a sample list\n",
    "numbers = [1, 2, 3, 4, 5, 6, 7, 8, 9, 10]\n",
    "\n",
    "# Slicing from index 2 to 5\n",
    "print(numbers[2:6])  # Output: [3, 4, 5, 6]\n",
    "\n",
    "# Slicing with a step of 2\n",
    "print(numbers[::2])  # Output: [1, 3, 5, 7, 9]\n",
    "\n",
    "# Reversing a list using slicing\n",
    "print(numbers[::-1])  # Output: [10, 9, 8, 7, 6, 5, 4, 3, 2, 1]"
   ]
  },
  {
   "cell_type": "markdown",
   "metadata": {},
   "source": [
    "## **3. Concatenating Lists**\n",
    "The ``+`` operator allows you to concatenate lists, meaning you can combine multiple lists into a single list."
   ]
  },
  {
   "cell_type": "code",
   "execution_count": null,
   "metadata": {},
   "outputs": [],
   "source": [
    "# Define two lists\n",
    "list1 = [1, 2, 3]\n",
    "list2 = [4, 5, 6]\n",
    "\n",
    "# Concatenate lists\n",
    "combined = list1 + list2\n",
    "print(combined)  # Output: [1, 2, 3, 4, 5, 6]"
   ]
  },
  {
   "cell_type": "markdown",
   "metadata": {},
   "source": [
    "## **4. Repeating Lists**\n",
    "The ``*`` operator can be used to repeat the elements of a list a specific number of times."
   ]
  },
  {
   "cell_type": "code",
   "execution_count": null,
   "metadata": {},
   "outputs": [],
   "source": [
    "# Repeat the list elements 3 times\n",
    "letters = [\"A\", \"B\", \"C\"]\n",
    "repeated = letters * 3\n",
    "print(repeated)  # Output: ['A', 'B', 'C', 'A', 'B', 'C', 'A', 'B', 'C']"
   ]
  },
  {
   "cell_type": "markdown",
   "metadata": {},
   "source": [
    "## **5. Updating Elements**\n",
    "Since lists are mutable, individual elements can be updated directly by specifying their index and assigning a new value."
   ]
  },
  {
   "cell_type": "code",
   "execution_count": null,
   "metadata": {},
   "outputs": [],
   "source": [
    "# Define a list\n",
    "colors = [\"red\", \"green\", \"blue\"]\n",
    "\n",
    "# Update the second element\n",
    "colors[1] = \"yellow\"\n",
    "print(colors)  # Output: ['red', 'yellow', 'blue']"
   ]
  },
  {
   "cell_type": "markdown",
   "metadata": {},
   "source": [
    "## **6. Removing Elements**\n",
    "Python lists offer multiple ways to remove elements:\n",
    "\n",
    "* ``remove(value)``: Removes the first occurrence of a specified value.\n",
    "* ``pop(index)``: Removes the element at a specified index and returns it. If no index is provided, it removes the last element.\n",
    "* ``del``: Removes an element at a specified index\n",
    "* ``clear()``: Removes all elements from the list."
   ]
  },
  {
   "cell_type": "code",
   "execution_count": null,
   "metadata": {},
   "outputs": [],
   "source": [
    "animals = [\"cat\", \"dog\", \"rabbit\", \"dog\"]\n",
    "\n",
    "# Remove the first occurrence of 'dog'\n",
    "animals.remove(\"dog\")\n",
    "print(animals)  # Output: ['cat', 'rabbit', 'dog']\n",
    "\n",
    "# Remove and return the last element\n",
    "last_animal = animals.pop()\n",
    "print(last_animal)  # Output: dog\n",
    "print(animals)      # Output: ['cat', 'rabbit']\n",
    "\n",
    "# Remove by index\n",
    "del animals[0]\n",
    "print(animals) # Output: ['rabbit']\n",
    "\n",
    "# Clear all elements from the list\n",
    "animals.clear()\n",
    "print(animals)  # Output: []\n"
   ]
  },
  {
   "cell_type": "markdown",
   "metadata": {},
   "source": [
    "## **7. Finding the Length of a List**\n",
    "The ``len()`` function returns the number of elements in a list."
   ]
  },
  {
   "cell_type": "code",
   "execution_count": null,
   "metadata": {},
   "outputs": [],
   "source": [
    "items = [\"apple\", \"banana\", \"cherry\"]\n",
    "print(len(items))  # Output: 3"
   ]
  },
  {
   "cell_type": "markdown",
   "metadata": {},
   "source": [
    "## **8. Membership Testing**\n",
    "You can use the in keyword to check if a certain item exists within a list."
   ]
  },
  {
   "cell_type": "code",
   "execution_count": null,
   "metadata": {},
   "outputs": [],
   "source": [
    "tools = [\"hammer\", \"wrench\", \"screwdriver\"]\n",
    "\n",
    "# Check for membership\n",
    "print(\"hammer\" in tools)  # Output: True\n",
    "print(\"drill\" in tools)   # Output: False"
   ]
  },
  {
   "cell_type": "markdown",
   "metadata": {},
   "source": [
    "## **Summary of List Operations**\n",
    "\n",
    "| Operation      | Example Syntax                      | Description                                     |\n",
    "|----------------|-------------------------------------|-------------------------------------------------|\n",
    "| Indexing       | `list[index]`                      | Accesses an element by index                    |\n",
    "| Slicing        | `list[start:end:step]`            | Retrieves a slice of the list                   |\n",
    "| Concatenation  | `list1 + list2`                    | Combines two lists                              |\n",
    "| Repetition      | `list * n`                         | Repeats the list n times                        |\n",
    "| Updating       | `list[index] = value`              | Updates an element at a specific index          |\n",
    "| Removing       | `list.remove(value)`, `list.pop(index)`, `list.clear()` | Removes elements from a list                     |\n",
    "| Length         | `len(list)`                        | Returns the number of elements                  |\n",
    "| Membership     | `value in list`                    | Checks if a value is in the list                |\n"
   ]
  }
 ],
 "metadata": {
  "kernelspec": {
   "display_name": "env",
   "language": "python",
   "name": "python3"
  },
  "language_info": {
   "codemirror_mode": {
    "name": "ipython",
    "version": 3
   },
   "file_extension": ".py",
   "mimetype": "text/x-python",
   "name": "python",
   "nbconvert_exporter": "python",
   "pygments_lexer": "ipython3",
   "version": "3.12.2"
  }
 },
 "nbformat": 4,
 "nbformat_minor": 2
}
