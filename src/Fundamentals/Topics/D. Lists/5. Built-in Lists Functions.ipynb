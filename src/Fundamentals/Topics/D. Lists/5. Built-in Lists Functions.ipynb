{
 "cells": [
  {
   "cell_type": "markdown",
   "metadata": {},
   "source": [
    "# Lists: **Built-in Lists Functions**\n",
    "\n",
    "<p style=\"text-align: center;\">\n",
    "  <img src=\"../img/pythons-built-in-functions.webp\" width=\"1000\">\n",
    "</p>\n",
    "\n",
    "*Source: [[Link to the original source](https://realpython.com)]*\n"
   ]
  },
  {
   "cell_type": "markdown",
   "metadata": {},
   "source": [
    "Python provides a variety of built-in functions to work with lists, enabling common operations like length measurement, sorting, minimum or maximum value identification, and more. These functions are not exclusive to lists, but they are frequently used with them.\n",
    "\n",
    "Here's a look at the main built-in functions that work well with lists, along with examples.\n",
    "\n"
   ]
  },
  {
   "cell_type": "markdown",
   "metadata": {},
   "source": [
    "## **1. ``len()``**\n",
    "``len()`` returns the number of elements in a list."
   ]
  },
  {
   "cell_type": "code",
   "execution_count": null,
   "metadata": {},
   "outputs": [],
   "source": [
    "items = [1, 2, 3, 4, 5]\n",
    "print(len(items))  # Output: 5"
   ]
  },
  {
   "cell_type": "markdown",
   "metadata": {},
   "source": [
    "## **2. ``sum()``**\n",
    "``sum()`` adds up all the numeric elements in a list."
   ]
  },
  {
   "cell_type": "code",
   "execution_count": null,
   "metadata": {},
   "outputs": [],
   "source": [
    "numbers = [10, 20, 30]\n",
    "print(sum(numbers))  # Output: 60"
   ]
  },
  {
   "cell_type": "markdown",
   "metadata": {},
   "source": [
    "## **3. ``min()``**\n",
    "``min()`` returns the smallest element in the list. All elements must be comparable (e.g., all integers, all strings)."
   ]
  },
  {
   "cell_type": "code",
   "execution_count": null,
   "metadata": {},
   "outputs": [],
   "source": [
    "values = [3, 1, 4, 1, 5]\n",
    "print(min(values))  # Output: 1"
   ]
  },
  {
   "cell_type": "markdown",
   "metadata": {},
   "source": [
    "## **4. ``max()``**\n",
    "``max()`` returns the largest element in the list, with all elements being comparable."
   ]
  },
  {
   "cell_type": "code",
   "execution_count": null,
   "metadata": {},
   "outputs": [],
   "source": [
    "values = [3, 1, 4, 1, 5]\n",
    "print(max(values))  # Output: 5"
   ]
  },
  {
   "cell_type": "markdown",
   "metadata": {},
   "source": [
    "## **5. ``sorted()``**\n",
    "``sorted()`` returns a new sorted list from the elements of the original list, leaving the original list unchanged. It has optional parameters for sorting order (``reverse=True`` for descending) and a custom ``key`` function for sorting criteria."
   ]
  },
  {
   "cell_type": "code",
   "execution_count": null,
   "metadata": {},
   "outputs": [],
   "source": [
    "grades = [88, 92, 75, 93, 85]\n",
    "sorted_grades = sorted(grades)  # Ascending order\n",
    "print(sorted_grades)            # Output: [75, 85, 88, 92, 93]\n",
    "\n",
    "sorted_grades_desc = sorted(grades, reverse=True)\n",
    "print(sorted_grades_desc)       # Output: [93, 92, 88, 85, 75]"
   ]
  },
  {
   "cell_type": "markdown",
   "metadata": {},
   "source": [
    "## **6. ``any()``**\n",
    "``any()`` returns ``True`` if at least one element in the list is ``True`` (or truthy). If the list is empty or all elements are ``False`` (or falsy), it returns ``False``."
   ]
  },
  {
   "cell_type": "code",
   "execution_count": null,
   "metadata": {},
   "outputs": [],
   "source": [
    "flags = [0, 0, 1, 0]\n",
    "print(any(flags))  # Output: True\n",
    "\n",
    "all_false = [0, 0, 0]\n",
    "print(any(all_false))  # Output: False"
   ]
  },
  {
   "cell_type": "markdown",
   "metadata": {},
   "source": [
    "## **7.`` all()``**\n",
    "``all()`` returns ``True`` if every element in the list is ``True`` (or truthy). If any element is ``False`` (or falsy), it returns ``False``.\n",
    "\n"
   ]
  },
  {
   "cell_type": "code",
   "execution_count": null,
   "metadata": {},
   "outputs": [],
   "source": [
    "flags = [1, 1, 1]\n",
    "print(all(flags))  # Output: True\n",
    "\n",
    "mixed_flags = [1, 0, 1]\n",
    "print(all(mixed_flags))  # Output: False"
   ]
  },
  {
   "cell_type": "markdown",
   "metadata": {},
   "source": [
    "## **8. ``enumerate()``**\n",
    "``enumerate()`` returns an iterator that produces tuples of the index and the value for each element in a list. This is useful when you need both the index and the item in a loop."
   ]
  },
  {
   "cell_type": "code",
   "execution_count": null,
   "metadata": {},
   "outputs": [],
   "source": [
    "words = [\"apple\", \"banana\", \"cherry\"]\n",
    "for index, value in enumerate(words):\n",
    "    print(index, value)\n",
    "# Output:\n",
    "# 0 apple\n",
    "# 1 banana\n",
    "# 2 cherry"
   ]
  },
  {
   "cell_type": "markdown",
   "metadata": {},
   "source": [
    "## **9.``zip()``**\n",
    "``zip()`` combines multiple lists (or other iterables) into tuples of corresponding elements. It stops when the shortest input iterable is exhausted."
   ]
  },
  {
   "cell_type": "code",
   "execution_count": null,
   "metadata": {},
   "outputs": [],
   "source": [
    "names = [\"Alice\", \"Bob\", \"Charlie\"]\n",
    "scores = [85, 92, 78]\n",
    "paired = list(zip(names, scores))\n",
    "print(paired)  # Output: [('Alice', 85), ('Bob', 92), ('Charlie', 78)]"
   ]
  },
  {
   "cell_type": "markdown",
   "metadata": {},
   "source": [
    "## **10. reversed()**\n",
    "``reversed()`` returns an iterator that iterates through the list in reverse order. To see the reversed list, you need to convert it back to a list with ``list()``."
   ]
  },
  {
   "cell_type": "code",
   "execution_count": null,
   "metadata": {},
   "outputs": [],
   "source": [
    "numbers = [1, 2, 3, 4]\n",
    "print(list(reversed(numbers)))  # Output: [4, 3, 2, 1]"
   ]
  },
  {
   "cell_type": "markdown",
   "metadata": {},
   "source": [
    "## **11. ``map()``**\n",
    "``map()`` applies a specified function to each item in the list and returns an iterator of the results. You often convert the result to a list with ``list()``."
   ]
  },
  {
   "cell_type": "code",
   "execution_count": null,
   "metadata": {},
   "outputs": [],
   "source": [
    "numbers = [1, 2, 3]\n",
    "squared = list(map(lambda x: x ** 2, numbers))\n",
    "print(squared)  # Output: [1, 4, 9]"
   ]
  },
  {
   "cell_type": "markdown",
   "metadata": {},
   "source": [
    "## **12. ``filter()``**\n",
    "``filter()`` applies a specified function that returns a Boolean value to each item, and it keeps only the elements for which the function returns ``True``."
   ]
  },
  {
   "cell_type": "code",
   "execution_count": null,
   "metadata": {},
   "outputs": [],
   "source": [
    "numbers = [10, 15, 20, 25, 30]\n",
    "evens = list(filter(lambda x: x % 2 == 0, numbers))\n",
    "print(evens)  # Output: [10, 20, 30]"
   ]
  },
  {
   "cell_type": "markdown",
   "metadata": {},
   "source": [
    "## **Summary Table**\n",
    "\n",
    "| Function   | Description                                      |\n",
    "|------------|--------------------------------------------------|\n",
    "| `len()`    | Returns the number of items in the list          |\n",
    "| `sum()`    | Returns the sum of all numeric items in the list |\n",
    "| `min()`    | Returns the smallest item in the list            |\n",
    "| `max()`    | Returns the largest item in the list             |\n",
    "| `sorted()` | Returns a new sorted list                        |\n",
    "| `any()`    | Returns True if any element is truthy            |\n",
    "| `all()`    | Returns True if all elements are truthy          |\n",
    "| `enumerate()` | Returns pairs of index and element            |\n",
    "| `zip()`    | Combines elements from multiple lists into tuples|\n",
    "| `reversed()` | Returns an iterator of the list in reverse order|\n",
    "| `map()`    | Applies a function to each item in the list      |\n",
    "| `filter()` | Filters items based on a function                |\n",
    "\n"
   ]
  }
 ],
 "metadata": {
  "language_info": {
   "name": "python"
  }
 },
 "nbformat": 4,
 "nbformat_minor": 2
}
