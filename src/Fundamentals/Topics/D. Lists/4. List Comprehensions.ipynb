{
 "cells": [
  {
   "cell_type": "markdown",
   "metadata": {},
   "source": [
    "# Lists: **List Comprehensions**\n",
    "\n",
    "<p style=\"text-align: center;\">\n",
    "  <img src=\"../img/list-comprehensions-in-python.webp\" width=\"1000\">\n",
    "</p>\n",
    "\n",
    "*Source: [[Link to the original source](https://realpython.com)]*\n"
   ]
  },
  {
   "cell_type": "markdown",
   "metadata": {},
   "source": [
    "List comprehensions provide a concise way to create lists. They allow you to generate new lists by applying an expression to each element in an iterable, often with optional conditions. List comprehensions are efficient, compact, and more readable compared to traditional ``for`` loops for list generation."
   ]
  },
  {
   "cell_type": "markdown",
   "metadata": {},
   "source": [
    "**The syntax of a basic list comprehension is:**"
   ]
  },
  {
   "cell_type": "markdown",
   "metadata": {},
   "source": [
    "<p style=\"text-align: center;\">\n",
    "  <img src=\"../img/list-comprehension-example-1.png\" width=\"1000\">\n",
    "</p>"
   ]
  },
  {
   "cell_type": "markdown",
   "metadata": {},
   "source": [
    "1. **Expression**: This is the calculation or operation applied to each item.\n",
    "2. **Iterable**: The collection (e.g., list, tuple, or range) from which to generate items.\n",
    "3. **Condition (optional)**: A filter applied to each item."
   ]
  },
  {
   "cell_type": "markdown",
   "metadata": {},
   "source": [
    "Let’s look at some practical examples."
   ]
  },
  {
   "cell_type": "markdown",
   "metadata": {},
   "source": [
    "## **1. Basic List Comprehension**\n",
    "The simplest list comprehension generates a list based on an existing list or iterable.\n",
    "\n",
    "**Example: Square Numbers**\n"
   ]
  },
  {
   "cell_type": "code",
   "execution_count": null,
   "metadata": {},
   "outputs": [],
   "source": [
    "numbers = [1, 2, 3, 4]\n",
    "squares = [x**2 for x in numbers]\n",
    "print(squares)  # Output: [1, 4, 9, 16]"
   ]
  },
  {
   "cell_type": "markdown",
   "metadata": {},
   "source": [
    "## **2. List Comprehension with a Condition**\n",
    "A list comprehension can include a condition to filter items.\n",
    "\n",
    "**Example: Filter Even Numbers**"
   ]
  },
  {
   "cell_type": "code",
   "execution_count": null,
   "metadata": {},
   "outputs": [],
   "source": [
    "numbers = range(10)\n",
    "even_numbers = [x for x in numbers if x % 2 == 0]\n",
    "print(even_numbers)  # Output: [0, 2, 4, 6, 8]"
   ]
  },
  {
   "cell_type": "markdown",
   "metadata": {},
   "source": [
    "## **3. Nested Loops in List Comprehensions**\n",
    "You can use multiple ``for`` clauses to generate combinations from multiple lists.\n",
    "\n",
    "**Example: Cartesian Product of Two Lists**"
   ]
  },
  {
   "cell_type": "code",
   "execution_count": null,
   "metadata": {},
   "outputs": [],
   "source": [
    "colors = [\"red\", \"blue\"]\n",
    "sizes = [\"S\", \"M\", \"L\"]\n",
    "combinations = [(color, size) for color in colors for size in sizes]\n",
    "print(combinations)\n",
    "# Output: [('red', 'S'), ('red', 'M'), ('red', 'L'), ('blue', 'S'), ('blue', 'M'), ('blue', 'L')]"
   ]
  },
  {
   "cell_type": "markdown",
   "metadata": {},
   "source": [
    "## **4. Using Functions with List Comprehensions**\n",
    "You can call a function in the expression part of a comprehension.\n",
    "\n",
    "**Example: Applying a Function to List Elements**"
   ]
  },
  {
   "cell_type": "code",
   "execution_count": null,
   "metadata": {},
   "outputs": [],
   "source": [
    "def square(x):\n",
    "    return x * x\n",
    "\n",
    "numbers = [1, 2, 3, 4]\n",
    "squares = [square(x) for x in numbers]\n",
    "print(squares)  # Output: [1, 4, 9, 16]"
   ]
  },
  {
   "cell_type": "markdown",
   "metadata": {},
   "source": [
    "## **5. Nested List Comprehensions**\n",
    "List comprehensions can be nested to create lists of lists or even to flatten nested lists.\n",
    "\n",
    "**Example: Flatten a Nested List**"
   ]
  },
  {
   "cell_type": "code",
   "execution_count": null,
   "metadata": {},
   "outputs": [],
   "source": [
    "matrix = [[1, 2, 3], [4, 5, 6], [7, 8, 9]]\n",
    "flattened = [element for row in matrix for element in row]\n",
    "print(flattened)  # Output: [1, 2, 3, 4, 5, 6, 7, 8, 9]"
   ]
  },
  {
   "cell_type": "markdown",
   "metadata": {},
   "source": [
    "## **6. List Comprehensions with Multiple Conditions**\n",
    "You can add multiple conditions within a list comprehension.\n",
    "\n",
    "**Example: Filter Odd Numbers That Are Divisible by 3**"
   ]
  },
  {
   "cell_type": "code",
   "execution_count": null,
   "metadata": {},
   "outputs": [],
   "source": [
    "numbers = range(20)\n",
    "filtered_numbers = [x for x in numbers if x % 2 != 0 and x % 3 == 0]\n",
    "print(filtered_numbers)  # Output: [3, 9, 15]"
   ]
  },
  {
   "cell_type": "markdown",
   "metadata": {},
   "source": [
    "## **7. Conditional Expressions in List Comprehensions**\n",
    "You can use conditional expressions to apply different operations based on conditions.\n",
    "\n",
    "**Example: Replace Even Numbers with Their Square, Leave Odd Numbers Unchanged**"
   ]
  },
  {
   "cell_type": "code",
   "execution_count": null,
   "metadata": {},
   "outputs": [],
   "source": [
    "numbers = range(10)\n",
    "result = [x**2 if x % 2 == 0 else x for x in numbers]\n",
    "print(result)  # Output: [0, 1, 4, 3, 16, 5, 36, 7, 64, 9]"
   ]
  },
  {
   "cell_type": "markdown",
   "metadata": {},
   "source": [
    "## **Advantages of List Comprehensions**\n",
    "1. **Compact Syntax**: They replace ``for`` loops and list initialization in fewer lines.\n",
    "2. **Readability**: With simple conditions, list comprehensions are often more readable.\n",
    "3. **Performance**: List comprehensions can be faster than using loops."
   ]
  }
 ],
 "metadata": {
  "kernelspec": {
   "display_name": "env",
   "language": "python",
   "name": "python3"
  },
  "language_info": {
   "codemirror_mode": {
    "name": "ipython",
    "version": 3
   },
   "file_extension": ".py",
   "mimetype": "text/x-python",
   "name": "python",
   "nbconvert_exporter": "python",
   "pygments_lexer": "ipython3",
   "version": "3.12.2"
  }
 },
 "nbformat": 4,
 "nbformat_minor": 2
}
