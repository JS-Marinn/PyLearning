{
 "cells": [
  {
   "cell_type": "markdown",
   "metadata": {},
   "source": [
    "# Lists: **List Methods**\n",
    "\n",
    "<p style=\"text-align: center;\">\n",
    "  <img src=\"../img/python-list-method.jpeg\" width=\"500\">\n",
    "</p>\n",
    "\n"
   ]
  },
  {
   "cell_type": "markdown",
   "metadata": {},
   "source": [
    "Python’s list methods provide many built-in ways to manipulate, query, and organize lists effectively. Here, we'll go over each method, explain its function, and demonstrate with examples."
   ]
  },
  {
   "cell_type": "markdown",
   "metadata": {},
   "source": [
    "## **1. ``append()``**\n",
    "The ``append()`` method adds a single element to the end of the list."
   ]
  },
  {
   "cell_type": "code",
   "execution_count": null,
   "metadata": {},
   "outputs": [],
   "source": [
    "numbers = [1, 2, 3]\n",
    "numbers.append(4)\n",
    "print(numbers)  # Output: [1, 2, 3, 4]"
   ]
  },
  {
   "cell_type": "markdown",
   "metadata": {},
   "source": [
    "## **2. ``extend()``**\n",
    "``extend()`` adds all elements of an iterable (like another list) to the end of the list, effectively combining the two lists.\n",
    "\n"
   ]
  },
  {
   "cell_type": "code",
   "execution_count": null,
   "metadata": {},
   "outputs": [],
   "source": [
    "letters = [\"a\", \"b\", \"c\"]\n",
    "letters.extend([\"d\", \"e\", \"f\"])\n",
    "print(letters)  # Output: ['a', 'b', 'c', 'd', 'e', 'f']"
   ]
  },
  {
   "cell_type": "markdown",
   "metadata": {},
   "source": [
    "## **3. ``insert()``**\n",
    "The ``insert()`` method inserts an element at a specified position. It takes two arguments:\n",
    "\n",
    "* The index at which to insert the element.\n",
    "* The element to insert."
   ]
  },
  {
   "cell_type": "code",
   "execution_count": null,
   "metadata": {},
   "outputs": [],
   "source": [
    "colors = [\"red\", \"blue\", \"green\"]\n",
    "colors.insert(1, \"yellow\")\n",
    "print(colors)  # Output: ['red', 'yellow', 'blue', 'green']"
   ]
  },
  {
   "cell_type": "markdown",
   "metadata": {},
   "source": [
    "## **4. ``remove()``**\n",
    "``remove()`` deletes the first occurrence of a specified value. If the value doesn’t exist, it raises a ``ValueError``."
   ]
  },
  {
   "cell_type": "code",
   "execution_count": null,
   "metadata": {},
   "outputs": [],
   "source": [
    "animals = [\"cat\", \"dog\", \"rabbit\", \"dog\"]\n",
    "animals.remove(\"dog\")\n",
    "print(animals)  # Output: ['cat', 'rabbit', 'dog']"
   ]
  },
  {
   "cell_type": "markdown",
   "metadata": {},
   "source": [
    "## **5. ``pop()``**\n",
    "``pop()`` removes the element at a specified index and returns it. If no index is specified, it removes the last element."
   ]
  },
  {
   "cell_type": "code",
   "execution_count": null,
   "metadata": {},
   "outputs": [],
   "source": [
    "fruits = [\"apple\", \"banana\", \"cherry\"]\n",
    "last_fruit = fruits.pop()\n",
    "print(last_fruit)  # Output: cherry\n",
    "print(fruits)      # Output: ['apple', 'banana']"
   ]
  },
  {
   "cell_type": "markdown",
   "metadata": {},
   "source": [
    "## **6. ``clear()``**\n",
    "The ``clear()`` method removes all elements from a list, leaving it empty."
   ]
  },
  {
   "cell_type": "code",
   "execution_count": null,
   "metadata": {},
   "outputs": [],
   "source": [
    "items = [\"book\", \"pen\", \"notebook\"]\n",
    "items.clear()\n",
    "print(items)  # Output: []"
   ]
  },
  {
   "cell_type": "markdown",
   "metadata": {},
   "source": [
    "## **7. ``index()``**\n",
    "``index()`` returns the index of the first occurrence of a specified value. It raises a ValueError if the value is not found."
   ]
  },
  {
   "cell_type": "code",
   "execution_count": null,
   "metadata": {},
   "outputs": [],
   "source": [
    "numbers = [10, 20, 30, 40, 20]\n",
    "index_of_20 = numbers.index(20)\n",
    "print(index_of_20)  # Output: 1"
   ]
  },
  {
   "cell_type": "markdown",
   "metadata": {},
   "source": [
    "## **8. ``count()``**\n",
    "\n",
    "``count()`` returns the number of times a specified value appears in the list.\n",
    "\n"
   ]
  },
  {
   "cell_type": "code",
   "execution_count": null,
   "metadata": {},
   "outputs": [],
   "source": [
    "elements = [1, 2, 3, 2, 4, 2]\n",
    "num_twos = elements.count(2)\n",
    "print(num_twos)  # Output: 3"
   ]
  },
  {
   "cell_type": "markdown",
   "metadata": {},
   "source": [
    "## **9. ``sort()``**\n",
    "The ``sort()`` method sorts the list in ascending order by default. It takes optional parameters for reverse (to sort in descending order) and key (a function to sort by custom criteria)."
   ]
  },
  {
   "cell_type": "code",
   "execution_count": null,
   "metadata": {},
   "outputs": [],
   "source": [
    "# Sorting in ascending order\n",
    "scores = [40, 10, 30, 20]\n",
    "scores.sort()\n",
    "print(scores)  # Output: [10, 20, 30, 40]\n",
    "\n",
    "# Sorting in descending order\n",
    "scores.sort(reverse=True)\n",
    "print(scores)  # Output: [40, 30, 20, 10]"
   ]
  },
  {
   "cell_type": "markdown",
   "metadata": {},
   "source": [
    "Now using the key"
   ]
  },
  {
   "cell_type": "code",
   "execution_count": null,
   "metadata": {},
   "outputs": [],
   "source": [
    "people = [('Alice', 25), ('Bob', 30), ('Charlie', 20)]\n",
    "\n",
    "people.sort(key=lambda x: x[1])\n",
    "print(people)  # Output: [('Charlie', 20), ('Alice', 25), ('Bob', 30)]"
   ]
  },
  {
   "cell_type": "markdown",
   "metadata": {},
   "source": [
    "## **10. ``reverse()``**\n",
    "``reverse()`` reverses the elements in the list."
   ]
  },
  {
   "cell_type": "code",
   "execution_count": null,
   "metadata": {},
   "outputs": [],
   "source": [
    "letters = [\"a\", \"b\", \"c\", \"d\"]\n",
    "letters.reverse()\n",
    "print(letters)  # Output: ['d', 'c', 'b', 'a']"
   ]
  },
  {
   "cell_type": "markdown",
   "metadata": {},
   "source": [
    "## **11. ``copy()``**\n",
    "``copy()`` creates a shallow copy of the list. This is useful if you want a copy of the list that you can modify without changing the original list."
   ]
  },
  {
   "cell_type": "code",
   "execution_count": null,
   "metadata": {},
   "outputs": [],
   "source": [
    "original = [1, 2, 3]\n",
    "copied = original.copy()\n",
    "copied.append(4)\n",
    "print(original)  # Output: [1, 2, 3]\n",
    "print(copied)    # Output: [1, 2, 3, 4]"
   ]
  },
  {
   "cell_type": "markdown",
   "metadata": {},
   "source": [
    "## **Summary of List Methods**\n",
    "\n",
    "| Method     | Usage               | Description                                   |\n",
    "|------------|----------------------|-----------------------------------------------|\n",
    "| `append()` | `list.append(x)`     | Adds `x` to the end of the list               |\n",
    "| `extend()` | `list.extend(iterable)` | Adds elements from `iterable` to the end   |\n",
    "| `insert()` | `list.insert(i, x)`  | Inserts `x` at position `i`                   |\n",
    "| `remove()` | `list.remove(x)`     | Removes the first occurrence of `x`           |\n",
    "| `pop()`    | `list.pop(i)`        | Removes and returns the item at index `i`     |\n",
    "| `clear()`  | `list.clear()`       | Removes all elements from the list            |\n",
    "| `index()`  | `list.index(x)`      | Returns the index of the first occurrence of `x` |\n",
    "| `count()`  | `list.count(x)`      | Counts occurrences of `x` in the list         |\n",
    "| `sort()`   | `list.sort()`        | Sorts the list in ascending order             |\n",
    "| `reverse()`| `list.reverse()`     | Reverses the order of the list                |\n",
    "| `copy()`   | `list.copy()`        | Returns a shallow copy of the list            |\n"
   ]
  }
 ],
 "metadata": {
  "kernelspec": {
   "display_name": "env",
   "language": "python",
   "name": "python3"
  },
  "language_info": {
   "codemirror_mode": {
    "name": "ipython",
    "version": 3
   },
   "file_extension": ".py",
   "mimetype": "text/x-python",
   "name": "python",
   "nbconvert_exporter": "python",
   "pygments_lexer": "ipython3",
   "version": "3.12.2"
  }
 },
 "nbformat": 4,
 "nbformat_minor": 2
}
