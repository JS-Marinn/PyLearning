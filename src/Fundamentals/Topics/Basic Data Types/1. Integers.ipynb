{
 "cells": [
  {
   "cell_type": "markdown",
   "metadata": {},
   "source": [
    "# Basic Data Types: **Integers**\n",
    "\n",
    "<p style=\"text-align: center;\">\n",
    "  <img src=\"../img/integers-floats.webp\" width=\"1000\">\n",
    "</p>\n",
    "\n",
    "*Source: [[Link to the original source](https://realpython.com)]*"
   ]
  },
  {
   "cell_type": "markdown",
   "metadata": {},
   "source": [
    "> ### ⚠️ **Warning!** Some items cover more advanced topics that will be covered in more depth later. They are included here for future reference. \n",
    "> * #### Topics that will be covered soon will be marked with: 🔶 \n",
    "> \n",
    "> * #### Topics that will be covered further away will be marked with: 🔴"
   ]
  },
  {
   "cell_type": "markdown",
   "metadata": {},
   "source": [
    "**Integers in Python** are one of the most basic and essential data types in the language. They are represented by the `int` class and can store any numeric value without decimals, whether positive or negative. Below, we’ll explore various aspects of integers in Python."
   ]
  },
  {
   "cell_type": "markdown",
   "metadata": {},
   "source": [
    "## 1. **Creating Integers**\n",
    "\n",
    "Creating integers in Python is straightforward: simply assign a numeric value to a variable."
   ]
  },
  {
   "cell_type": "code",
   "execution_count": null,
   "metadata": {},
   "outputs": [],
   "source": [
    "a = 10    # Positive integer\n",
    "b = -5    # Negative integer\n",
    "c = 0     # Zero is also an integer"
   ]
  },
  {
   "cell_type": "markdown",
   "metadata": {},
   "source": [
    "**Importance:**\n",
    "\n",
    "Integers are a fundamental data type in Python, used to represent whole numbers. They are essential for various mathematical operations, counting, indexing, and logical comparisons."
   ]
  },
  {
   "cell_type": "markdown",
   "metadata": {},
   "source": [
    "## 2. **Basic Operations with Integers** 🔶\n",
    "\n",
    "Integers support basic arithmetic operations, such as:\n",
    "\n",
    "* **Addition** (``+``): Adds two numbers.\n",
    "* **Subtraction** (``-``): Subtracts one number from another.\n",
    "* **Multiplication** (``*``): Multiplies two numbers.\n",
    "* **Floor division** (`//`): Divides and returns the integer part of the quotient.\n",
    "* **Modulus** (``%``): Returns the remainder of the division.\n",
    "* **Exponentiation** (``**``): Raises one number to the power of another."
   ]
  },
  {
   "cell_type": "code",
   "execution_count": null,
   "metadata": {},
   "outputs": [],
   "source": [
    "x = 8 + 5      # Addition: 13\n",
    "y = 10 - 4     # Subtraction: 6\n",
    "z = 7 * 3      # Multiplication: 21\n",
    "w = 20 // 3    # Floor division: 6\n",
    "m = 20 % 3     # Modulus (remainder): 2\n",
    "e = 2 ** 3     # Exponentiation: 8"
   ]
  },
  {
   "cell_type": "markdown",
   "metadata": {},
   "source": [
    "**Importance:**\n",
    "\n",
    "Basic arithmetic operations with integers are fundamental to performing calculations, solving mathematical problems, and implementing algorithms in various domains."
   ]
  },
  {
   "cell_type": "markdown",
   "metadata": {},
   "source": [
    "## 3. **Properties of integers**\n",
    "\n",
    "Python supports arbitrarily large integers since there is no predefined limit on their size (except for memory constraints)."
   ]
  },
  {
   "cell_type": "code",
   "execution_count": null,
   "metadata": {},
   "outputs": [],
   "source": [
    "big_number = 9999999999999999999999999999999999999\n",
    "print(big_number)   # Python handles it without issues"
   ]
  },
  {
   "cell_type": "markdown",
   "metadata": {},
   "source": [
    "**Importance:**\n",
    "\n",
    "Python's support for arbitrarily large integers is a significant advantage compared to languages with fixed-size integer types. This flexibility allows you to work with:\n",
    "\n",
    "* **Large numbers:** Perform calculations involving numbers that exceed the maximum value of fixed-size integer types.\n",
    "* **Cryptography:** Implement cryptographic algorithms that require large prime numbers and modular arithmetic.\n",
    "* **Scientific computing:** Handle calculations involving very large or very small numbers without overflow or underflow errors.\n",
    "* **Number theory:** Explore mathematical concepts related to integers, such as prime numbers, factorization, and Diophantine equations."
   ]
  },
  {
   "cell_type": "markdown",
   "metadata": {},
   "source": [
    "## 4. **Comparison Operators** 🔶\n",
    "\n",
    "You can compare integers using comparison operators:\n",
    "\n",
    "* ``==`` (equal to)\n",
    "* ``!=`` (not equal to)\n",
    "* ``<`` (less than)\n",
    "* ``<=`` (less than or equal to)\n",
    "* ``>`` (greater than)\n",
    "* ``>=`` (greater than or equal to)"
   ]
  },
  {
   "cell_type": "code",
   "execution_count": null,
   "metadata": {},
   "outputs": [],
   "source": [
    "a = 10\n",
    "b = 5\n",
    "\n",
    "print(a == b)   # False, because 10 is not equal to 5\n",
    "print(a > b)    # True, because 10 is greater than 5"
   ]
  },
  {
   "cell_type": "markdown",
   "metadata": {},
   "source": [
    "**Importance:**\n",
    "\n",
    "Comparison operators are essential for making decisions and controlling the flow of execution in your Python programs. They allow you to:\n",
    "\n",
    "* **Check conditions:** Determine whether a specific condition is true or false.\n",
    "* **Implement decision-making:** Use if-else statements to execute different code blocks based on comparison results.\n",
    "* **Create loops:** Iterate over a range of values or until a certain condition is met.\n",
    "* **Sort data:** Arrange elements in a specific order based on their comparison.\n",
    "* **Validate input:** Ensure that user input meets certain criteria."
   ]
  },
  {
   "cell_type": "markdown",
   "metadata": {},
   "source": [
    "## 5. **Useful Functions and Methods with Integers** 🔶\n",
    "\n",
    "Python provides several built-in functions and methods that can be applied to integers, offering additional functionality and convenience.\n",
    "\n",
    "Some of them:"
   ]
  },
  {
   "cell_type": "markdown",
   "metadata": {},
   "source": [
    "### ``abs()`` **Function**\n",
    "\n",
    "Returns the absolute value of a number (without the sign)."
   ]
  },
  {
   "cell_type": "code",
   "execution_count": null,
   "metadata": {},
   "outputs": [],
   "source": [
    "print(abs(-10))   # 10"
   ]
  },
  {
   "cell_type": "markdown",
   "metadata": {},
   "source": [
    "### ``pow()`` **Function**\n",
    "\n",
    "Calculates the power of a number or modular power.\n",
    "\n"
   ]
  },
  {
   "cell_type": "code",
   "execution_count": null,
   "metadata": {},
   "outputs": [],
   "source": [
    "print(pow(2, 3))        # 2^3 = 8\n",
    "print(pow(2, 3, 5))     # (2^3) % 5 = 3"
   ]
  },
  {
   "cell_type": "markdown",
   "metadata": {},
   "source": [
    "### ``divmod()`` **Function**\n",
    "\n",
    "Returns a tuple containing the quotient and remainder of a division.\n",
    "\n"
   ]
  },
  {
   "cell_type": "code",
   "execution_count": null,
   "metadata": {},
   "outputs": [],
   "source": [
    "quotient, remainder = divmod(20, 3)\n",
    "print(quotient)   # 6\n",
    "print(remainder)  # 2"
   ]
  },
  {
   "cell_type": "markdown",
   "metadata": {},
   "source": [
    "### ``bin(), oct(), hex()`` **Function**\n",
    "\n",
    "Convert an integer to its binary, octal, or hexadecimal representation.\n",
    "\n"
   ]
  },
  {
   "cell_type": "code",
   "execution_count": null,
   "metadata": {},
   "outputs": [],
   "source": [
    "print(bin(10))    # '0b1010'\n",
    "print(oct(10))    # '0o12'\n",
    "print(hex(10))    # '0xa'"
   ]
  },
  {
   "cell_type": "markdown",
   "metadata": {},
   "source": [
    "## 6. **Type Conversions** 🔶\n",
    "\n",
    "You can convert integers to other data types using type conversion functions.\n",
    "\n",
    "* Convert to float: ``float()``\n",
    "* Convert to string: ``str()``\n",
    "* Convert to boolean: ``bool()``\n"
   ]
  },
  {
   "cell_type": "code",
   "execution_count": null,
   "metadata": {},
   "outputs": [],
   "source": [
    "integer = 5\n",
    "float_num = float(integer)    # 5.0\n",
    "string_num = str(integer)     # '5'\n",
    "boolean_num = bool(integer)   # True, because any non-zero number is True"
   ]
  },
  {
   "cell_type": "markdown",
   "metadata": {},
   "source": [
    "**Importance:**\n",
    "\n",
    "Type conversions are crucial in Python programming as they allow you to manipulate and operate on data of different types. By converting data types, you can perform calculations, combine strings and numbers, and make logical comparisons."
   ]
  },
  {
   "cell_type": "markdown",
   "metadata": {},
   "source": [
    "## 7. **Bitwise Operations** 🔶\n",
    "\n",
    "Integers in Python allow for bitwise operations, which are useful in low-level programming:\n",
    "\n",
    "* AND ``(&)``: Bitwise AND.\n",
    "* OR ``(|)``: Bitwise OR.\n",
    "* XOR ``(^)``: Bitwise XOR.\n",
    "* NOT ``(~)``: Bitwise NOT.\n",
    "* Left shift ``(<<)``: Shifts bits to the left.\n",
    "* Right shift ``(>>)``: Shifts bits to the right."
   ]
  },
  {
   "cell_type": "code",
   "execution_count": null,
   "metadata": {},
   "outputs": [],
   "source": [
    "x = 5    # 0b0101 in binary\n",
    "y = 3    # 0b0011 in binary\n",
    "\n",
    "print(x & y)    # 1, 0b0001\n",
    "print(x | y)    # 7, 0b0111\n",
    "print(x ^ y)    # 6, 0b0110\n",
    "print(~x)       # -6 (bitwise inversion of 5)\n",
    "print(x << 1)   # 10, 0b1010 (left shift of 5)\n",
    "print(x >> 1)   # 2, 0b0010 (right shift of 5)"
   ]
  },
  {
   "cell_type": "markdown",
   "metadata": {},
   "source": [
    "**Importance**\n",
    "\n",
    "Bitwise operations are commonly used in programming for various purposes, such as:\n",
    "\n",
    "* **Bit manipulation**: Setting, clearing, or checking specific bits in a number.\n",
    "* **Data compression**: Reducing the size of data by eliminating redundant bits.\n",
    "* **Cryptography**: Encrypting and decrypting data using bitwise operations.\n",
    "* **Error detection and correction**: Detecting and correcting errors in data transmission.\n",
    "* **Optimization** :Improving the performance of algorithms by using bitwise operations instead of arithmetic operations."
   ]
  },
  {
   "cell_type": "markdown",
   "metadata": {},
   "source": [
    "## 8. **Handling Exceptions with Integers** 🔴\n",
    "\n",
    "It's important to handle potential exceptions that can arise from operations on integers, such as division by zero."
   ]
  },
  {
   "cell_type": "code",
   "execution_count": null,
   "metadata": {},
   "outputs": [],
   "source": [
    "try:\n",
    "    result = 10 // 0\n",
    "except ZeroDivisionError:\n",
    "    print(\"Cannot divide by zero.\")"
   ]
  },
  {
   "cell_type": "markdown",
   "metadata": {},
   "source": [
    "**Importance:** \n",
    "\n",
    "The importance of handling exceptions with integers lies in preventing unexpected behavior and ensuring program stability. When performing operations on integers, there are possibilities of encountering situations that could lead to errors, such as dividing by zero or attempting to perform arithmetic operations on values that exceed the maximum or minimum integer limits."
   ]
  },
  {
   "cell_type": "markdown",
   "metadata": {},
   "source": [
    "## 9. **Fibonacci Numbers Using Integers** 🔴\n",
    "\n",
    "A classic example involving integers is generating the Fibonacci sequence."
   ]
  },
  {
   "cell_type": "code",
   "execution_count": null,
   "metadata": {},
   "outputs": [],
   "source": [
    "def fibonacci(n):\n",
    "    \"\"\"\n",
    "    Generates the first `n` Fibonacci numbers.\n",
    "\n",
    "    Args:\n",
    "        n (int): The number of Fibonacci numbers to generate.\n",
    "\n",
    "    Returns:\n",
    "        None\n",
    "    \"\"\"\n",
    "\n",
    "    # Initialize variables for the first two Fibonacci numbers.\n",
    "    a, b = 0, 1\n",
    "\n",
    "    # Iterate `n` times to generate the desired number of Fibonacci numbers.\n",
    "    for _ in range(n):\n",
    "        # Print the current Fibonacci number.\n",
    "        print(a, end=\" \")\n",
    "\n",
    "        # Calculate the next Fibonacci number by adding the previous two.\n",
    "        a, b = b, a + b"
   ]
  },
  {
   "cell_type": "markdown",
   "metadata": {},
   "source": [
    "**Explanation:**\n",
    "\n",
    "- The code defines a function `is_prime(n)` that checks if a given number `n` is prime.\n",
    "- It handles base cases (0 and 1 are not prime).\n",
    "- It iterates from 2 up to the square root of `n` to check for divisibility.\n",
    "- If no divisors are found, the number is prime."
   ]
  },
  {
   "cell_type": "markdown",
   "metadata": {},
   "source": [
    "## 10. **Prime Number Check Algorithm** 🔴\n",
    "\n",
    "Another common algorithm using integers is checking if a number is prime."
   ]
  },
  {
   "cell_type": "code",
   "execution_count": null,
   "metadata": {},
   "outputs": [],
   "source": [
    "def is_prime(n):\n",
    "    \"\"\"\n",
    "    Checks if a given number is prime.\n",
    "\n",
    "    Args:\n",
    "        n (int): The number to check.\n",
    "\n",
    "    Returns:\n",
    "        bool: True if `n` is prime, False otherwise.\n",
    "    \"\"\"\n",
    "\n",
    "    # Handle base cases: 0 and 1 are not prime.\n",
    "    if n < 2:\n",
    "        return False\n",
    "\n",
    "    # Check divisibility by numbers from 2 up to the square root of `n`.\n",
    "    for i in range(2, int(n**0.5) + 1):\n",
    "        if n % i == 0:  # If `n` is divisible by `i`, it's not prime.\n",
    "            return False\n",
    "\n",
    "    # If no divisors were found, `n` is prime.\n",
    "    return True"
   ]
  },
  {
   "cell_type": "markdown",
   "metadata": {},
   "source": [
    "**Explanation:**\n",
    "\n",
    "- The code defines a function `fibonacci(n)` that generates the first `n` Fibonacci numbers.\n",
    "- It initializes variables for the first two Fibonacci numbers.\n",
    "- It iterates `n` times, printing each Fibonacci number and calculating the next one."
   ]
  },
  {
   "cell_type": "markdown",
   "metadata": {},
   "source": [
    "## **Conclusion**\n",
    "\n",
    "In Python, integers (``int``) are highly versatile and offer a wide range of operations, functions, and methods that allow efficient manipulation of numbers. Their ease of use and integration with other data types make integers a powerful tool for developers of all levels."
   ]
  },
  {
   "cell_type": "markdown",
   "metadata": {},
   "source": [
    "# Exercises\n",
    "\n",
    "Some exercises to practice the concepts learned in this chapter."
   ]
  },
  {
   "cell_type": "markdown",
   "metadata": {},
   "source": [
    "## 1. Integer Creation  \n",
    "\n",
    "Create three integers: one positive, one negative, and one zero. Print each of them."
   ]
  },
  {
   "cell_type": "code",
   "execution_count": null,
   "metadata": {},
   "outputs": [],
   "source": []
  },
  {
   "cell_type": "markdown",
   "metadata": {},
   "source": [
    "## 2. Basic Arithmetic  \n",
    "Given the integers `a = 15` and `b = 4`, perform the following operations and print the results:\n",
    "- Addition\n",
    "- Subtraction\n",
    "- Multiplication\n",
    "- Floor division\n",
    "- Modulus\n",
    "- Exponentiation"
   ]
  },
  {
   "cell_type": "code",
   "execution_count": null,
   "metadata": {},
   "outputs": [],
   "source": []
  },
  {
   "cell_type": "markdown",
   "metadata": {},
   "source": [
    "## 3. Comparison Operators  \n",
    "Create two variables `x = 25` and `y = 30`. Use comparison operators to check and print:\n",
    "- If `x` is equal to `y`\n",
    "- If `x` is less than `y`\n",
    "- If `x` is greater than or equal to `y`"
   ]
  },
  {
   "cell_type": "markdown",
   "metadata": {},
   "source": [
    "## 4. Absolute Value  \n",
    "Write a function that takes an integer as input and returns its absolute value. Test the function with both positive and negative integers."
   ]
  },
  {
   "cell_type": "code",
   "execution_count": null,
   "metadata": {},
   "outputs": [],
   "source": []
  },
  {
   "cell_type": "markdown",
   "metadata": {},
   "source": [
    "## 5. Power Calculation  \n",
    "Use the `pow()` function to calculate:\n",
    "- \\(3^4\\)\n",
    "- \\(5^3\\) modulo \\(7\\)"
   ]
  },
  {
   "cell_type": "code",
   "execution_count": null,
   "metadata": {},
   "outputs": [],
   "source": []
  },
  {
   "cell_type": "markdown",
   "metadata": {},
   "source": [
    "## 6. Divmod Function  \n",
    "Use the `divmod()` function to find the quotient and remainder when dividing `45` by `8`. Print both values."
   ]
  },
  {
   "cell_type": "markdown",
   "metadata": {},
   "source": []
  },
  {
   "cell_type": "markdown",
   "metadata": {},
   "source": [
    "> ### ⚠️ **Warning!** The following exercises are to be done when you have made further progress in the subject."
   ]
  },
  {
   "cell_type": "markdown",
   "metadata": {},
   "source": [
    "## 7. Bitwise Operations  \n",
    "Given two integers `m = 12` (binary `1100`) and `n = 5` (binary `0101`), perform the following bitwise operations and print the results:\n",
    "- Bitwise AND\n",
    "- Bitwise OR\n",
    "- Bitwise XOR\n",
    "- Bitwise NOT of `m`"
   ]
  },
  {
   "cell_type": "code",
   "execution_count": null,
   "metadata": {},
   "outputs": [],
   "source": []
  },
  {
   "cell_type": "markdown",
   "metadata": {},
   "source": [
    "## 8. Exception Handling  \n",
    "Write a code snippet that attempts to divide `50` by an integer input from the user. Handle the potential `ZeroDivisionError` exception and print an appropriate message."
   ]
  },
  {
   "cell_type": "code",
   "execution_count": null,
   "metadata": {},
   "outputs": [],
   "source": []
  },
  {
   "cell_type": "markdown",
   "metadata": {},
   "source": [
    "## 9. Fibonacci Sequence  \n",
    "Write a function to generate the first `n` Fibonacci numbers. Ask the user for the value of `n` and print the Fibonacci sequence."
   ]
  },
  {
   "cell_type": "code",
   "execution_count": null,
   "metadata": {},
   "outputs": [],
   "source": []
  },
  {
   "cell_type": "markdown",
   "metadata": {},
   "source": [
    "## 10. Prime Number Check \n",
    "\n",
    "Implement the `is_prime()` function as shown above and check if the numbers from `1` to `50` are prime. Print the prime numbers."
   ]
  },
  {
   "cell_type": "code",
   "execution_count": null,
   "metadata": {},
   "outputs": [],
   "source": []
  },
  {
   "cell_type": "markdown",
   "metadata": {},
   "source": [
    "# **Solutions**"
   ]
  },
  {
   "cell_type": "markdown",
   "metadata": {},
   "source": [
    "## 1. Integer Creation"
   ]
  },
  {
   "cell_type": "code",
   "execution_count": null,
   "metadata": {},
   "outputs": [],
   "source": [
    "# Create three integers: one positive, one negative, and one zero.\n",
    "positive_integer = 10    # A positive integer\n",
    "negative_integer = -5     # A negative integer\n",
    "zero_integer = 0          # Zero is also an integer\n",
    "\n",
    "# Print each integer\n",
    "print(\"Positive Integer:\", positive_integer)\n",
    "print(\"Negative Integer:\", negative_integer)\n",
    "print(\"Zero Integer:\", zero_integer)"
   ]
  },
  {
   "cell_type": "markdown",
   "metadata": {},
   "source": [
    "## 2. Basic Arithmetic  "
   ]
  },
  {
   "cell_type": "code",
   "execution_count": null,
   "metadata": {},
   "outputs": [],
   "source": [
    "# Given the integers a = 15 and b = 4, perform basic arithmetic operations.\n",
    "a = 15\n",
    "b = 4\n",
    "\n",
    "# Addition\n",
    "addition = a + b\n",
    "print(\"Addition:\", addition)  # 19\n",
    "\n",
    "# Subtraction\n",
    "subtraction = a - b\n",
    "print(\"Subtraction:\", subtraction)  # 11\n",
    "\n",
    "# Multiplication\n",
    "multiplication = a * b\n",
    "print(\"Multiplication:\", multiplication)  # 60\n",
    "\n",
    "# Floor Division\n",
    "floor_division = a // b\n",
    "print(\"Floor Division:\", floor_division)  # 3\n",
    "\n",
    "# Modulus\n",
    "modulus = a % b\n",
    "print(\"Modulus:\", modulus)  # 3\n",
    "\n",
    "# Exponentiation\n",
    "exponentiation = a ** b\n",
    "print(\"Exponentiation:\", exponentiation)  # 50625"
   ]
  },
  {
   "cell_type": "markdown",
   "metadata": {},
   "source": [
    "## 3. Comparison Operators\n"
   ]
  },
  {
   "cell_type": "code",
   "execution_count": null,
   "metadata": {},
   "outputs": [],
   "source": [
    "# Create two variables x = 25 and y = 30 and compare them.\n",
    "x = 25\n",
    "y = 30\n",
    "\n",
    "# Check if x is equal to y\n",
    "is_equal = x == y\n",
    "print(\"x is equal to y:\", is_equal)  # False\n",
    "\n",
    "# Check if x is less than y\n",
    "is_less_than = x < y\n",
    "print(\"x is less than y:\", is_less_than)  # True\n",
    "\n",
    "# Check if x is greater than or equal to y\n",
    "is_greater_or_equal = x >= y\n",
    "print(\"x is greater than or equal to y:\", is_greater_or_equal)  # False"
   ]
  },
  {
   "cell_type": "markdown",
   "metadata": {},
   "source": [
    "## 4. Absolute Value\n"
   ]
  },
  {
   "cell_type": "code",
   "execution_count": null,
   "metadata": {},
   "outputs": [],
   "source": [
    "# Function to return the absolute value of a number\n",
    "def absolute_value(num):\n",
    "    return abs(num)\n",
    "\n",
    "# Test the function with both positive and negative integers\n",
    "print(\"Absolute value of -10:\", absolute_value(-10))  # 10\n",
    "print(\"Absolute value of 10:\", absolute_value(10))    # 10"
   ]
  },
  {
   "cell_type": "markdown",
   "metadata": {},
   "source": [
    "## 5. Power Calculation"
   ]
  },
  {
   "cell_type": "code",
   "execution_count": null,
   "metadata": {},
   "outputs": [],
   "source": [
    "\n",
    "# Use the pow() function to calculate powers\n",
    "power_3_4 = pow(3, 4)  # 3 raised to the power of 4\n",
    "print(\"3^4 =\", power_3_4)  # 81\n",
    "\n",
    "power_5_3_mod_7 = pow(5, 3, 7)  # (5^3) modulo 7\n",
    "print(\"5^3 mod 7 =\", power_5_3_mod_7)  # 6"
   ]
  },
  {
   "cell_type": "markdown",
   "metadata": {},
   "source": [
    "## 6. Divmod Function"
   ]
  },
  {
   "cell_type": "code",
   "execution_count": null,
   "metadata": {},
   "outputs": [],
   "source": [
    "\n",
    "# Use divmod() to find the quotient and remainder when dividing 45 by 8\n",
    "quotient, remainder = divmod(45, 8)\n",
    "print(\"Quotient:\", quotient)  # 5\n",
    "print(\"Remainder:\", remainder)  # 5\n"
   ]
  },
  {
   "cell_type": "markdown",
   "metadata": {},
   "source": [
    "## 7. Bitwise Operations\n"
   ]
  },
  {
   "cell_type": "code",
   "execution_count": null,
   "metadata": {},
   "outputs": [],
   "source": [
    "# Given two integers m = 12 (binary 1100) and n = 5 (binary 0101)\n",
    "m = 12  # 1100 in binary\n",
    "n = 5   # 0101 in binary\n",
    "\n",
    "# Bitwise AND\n",
    "bitwise_and = m & n\n",
    "print(\"Bitwise AND:\", bitwise_and)  # 4 (binary 0100)\n",
    "\n",
    "# Bitwise OR\n",
    "bitwise_or = m | n\n",
    "print(\"Bitwise OR:\", bitwise_or)  # 13 (binary 1101)\n",
    "\n",
    "# Bitwise XOR\n",
    "bitwise_xor = m ^ n\n",
    "print(\"Bitwise XOR:\", bitwise_xor)  # 9 (binary 1001)\n",
    "\n",
    "# Bitwise NOT of m\n",
    "bitwise_not = ~m\n",
    "print(\"Bitwise NOT of m:\", bitwise_not)  # -13"
   ]
  },
  {
   "cell_type": "markdown",
   "metadata": {},
   "source": [
    "## 8. Exception Handling"
   ]
  },
  {
   "cell_type": "code",
   "execution_count": null,
   "metadata": {},
   "outputs": [],
   "source": [
    "\n",
    "# Code snippet that attempts to divide 50 by an integer input from the user\n",
    "try:\n",
    "    user_input = int(input(\"Enter a number to divide 50 by: \"))  # Taking input from user\n",
    "    result = 50 // user_input  # Attempt to divide\n",
    "    print(\"Result:\", result)\n",
    "except ZeroDivisionError:  # Handling division by zero exception\n",
    "    print(\"Cannot divide by zero.\")\n",
    "except ValueError:  # Handling invalid input exception\n",
    "    print(\"Please enter a valid integer.\")"
   ]
  },
  {
   "cell_type": "markdown",
   "metadata": {},
   "source": [
    "## 9. Fibonacci Sequence\n"
   ]
  },
  {
   "cell_type": "code",
   "execution_count": null,
   "metadata": {},
   "outputs": [],
   "source": [
    "\n",
    "# Function to generate the first n Fibonacci numbers\n",
    "def fibonacci(n):\n",
    "    a, b = 0, 1\n",
    "    fib_sequence = []  # List to store Fibonacci numbers\n",
    "    for _ in range(n):\n",
    "        fib_sequence.append(a)  # Append current Fibonacci number to the list\n",
    "        a, b = b, a + b  # Update a and b\n",
    "    return fib_sequence\n",
    "\n",
    "# Ask user for the value of n and print the Fibonacci sequence\n",
    "n = int(input(\"Enter the number of Fibonacci numbers to generate: \"))\n",
    "print(\"Fibonacci sequence:\", fibonacci(n))"
   ]
  },
  {
   "cell_type": "markdown",
   "metadata": {},
   "source": [
    "## 10. Prime Number Check"
   ]
  },
  {
   "cell_type": "code",
   "execution_count": null,
   "metadata": {},
   "outputs": [],
   "source": [
    "# Function to check if a number is prime\n",
    "def is_prime(num):\n",
    "    if num < 2:\n",
    "        return False  # Numbers less than 2 are not prime\n",
    "    for i in range(2, int(num**0.5) + 1):  # Check divisibility from 2 to the square root of num\n",
    "        if num % i == 0:\n",
    "            return False  # If divisible, num is not prime\n",
    "    return True  # If no divisors found, num is prime\n",
    "\n",
    "# Check if numbers from 1 to 50 are prime and print them\n",
    "print(\"Prime numbers from 1 to 50:\")\n",
    "for number in range(1, 51):\n",
    "    if is_prime(number):\n",
    "        print(number, end=\" \")  # Print prime numbers in one line"
   ]
  }
 ],
 "metadata": {
  "kernelspec": {
   "display_name": "env",
   "language": "python",
   "name": "python3"
  },
  "language_info": {
   "codemirror_mode": {
    "name": "ipython",
    "version": 3
   },
   "file_extension": ".py",
   "mimetype": "text/x-python",
   "name": "python",
   "nbconvert_exporter": "python",
   "pygments_lexer": "ipython3",
   "version": "3.12.2"
  }
 },
 "nbformat": 4,
 "nbformat_minor": 2
}
