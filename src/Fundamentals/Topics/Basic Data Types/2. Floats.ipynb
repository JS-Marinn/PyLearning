{
 "cells": [
  {
   "cell_type": "markdown",
   "metadata": {},
   "source": [
    "# Basic Data Types: **Floats**\n",
    "\n",
    "<p style=\"text-align: center;\">\n",
    "  <img src=\"../img/integers-floats.webp\" width=\"1000\">\n",
    "</p>\n",
    "\n",
    "*Source: [[Link to the original source](https://realpython.com)]*"
   ]
  },
  {
   "cell_type": "markdown",
   "metadata": {},
   "source": [
    "> ### ⚠️ **Warning!** Some items cover more advanced topics that will be covered in more depth later. They are included here for future reference. \n",
    "> * #### Topics that will be covered soon will be marked with: 🔶 \n",
    "> \n",
    "> * #### Topics that will be covered further away will be marked with: 🔴"
   ]
  },
  {
   "cell_type": "markdown",
   "metadata": {},
   "source": [
    "**Floating-point numbers (floats)** in Python represent real numbers that include decimal points. They are used to handle more precise values, such as those with fractions or for representing scientific calculations. Floats are represented by the ``float`` class in Python, and Python uses double-precision (64-bit) floating-point numbers, which means floats have a greater range and precision compared to integers."
   ]
  },
  {
   "cell_type": "markdown",
   "metadata": {},
   "source": [
    "## 1. **Creating Floats**\n",
    "\n",
    "A float can be created by assigning a number with a decimal point to a variable, or by using scientific notation to represent very large or very small numbers."
   ]
  },
  {
   "cell_type": "code",
   "execution_count": null,
   "metadata": {},
   "outputs": [],
   "source": [
    "a = 3.14       # A simple float value\n",
    "b = -0.001     # A small negative float\n",
    "c = 1.0        # Even though it looks like an integer, the decimal makes it a float\n",
    "d = 1e5        # Scientific notation (1 * 10^5) = 100000.0\n",
    "e = 2.5e-3     # 2.5 * 10^(-3) = 0.0025"
   ]
  },
  {
   "cell_type": "markdown",
   "metadata": {},
   "source": [
    "**Importance**\n",
    "\n",
    "Floats are essential for representing numbers with decimal points, which are crucial in various mathematical calculations."
   ]
  },
  {
   "cell_type": "markdown",
   "metadata": {},
   "source": [
    "## 2. **Basic Operations with Floats** 🔶\n",
    "\n",
    "Floats support the same arithmetic operations as integers, but with decimal precision. This includes:\n",
    "\n",
    "* **Addition** ``(+)``\n",
    "* **Subtraction** ``(-)``\n",
    "* **Multiplication** ``(*)``\n",
    "* **Division** ``(/)``: Returns a float, even if both numbers are integers.\n",
    "* **Floor division** ``(//)``: Returns the integer part of the quotient, but as a float if one of the operands is a float.\n",
    "* **Modulus** ``(%)``\n",
    "* **Exponentiation** ``(**)``"
   ]
  },
  {
   "cell_type": "code",
   "execution_count": null,
   "metadata": {},
   "outputs": [],
   "source": [
    "x = 10.5 + 3.5    # Addition: 14.0\n",
    "y = 10.5 - 4.2    # Subtraction: 6.3\n",
    "z = 7.0 * 3.5     # Multiplication: 24.5\n",
    "w = 20 / 4        # Division: 5.0 (float result)\n",
    "f = 5.5 // 2      # Floor division: 2.0 (integer part, but as float)\n",
    "m = 10.75 % 4     # Modulus: 2.75\n",
    "p = 2.5 ** 3      # Exponentiation: 15.625"
   ]
  },
  {
   "cell_type": "markdown",
   "metadata": {},
   "source": [
    "**Importance**\n",
    "\n",
    "Floats support a wide range of arithmetic operations, allowing for precise calculations with decimal values."
   ]
  },
  {
   "cell_type": "markdown",
   "metadata": {},
   "source": [
    "## 3. **Precision and Representation**\n",
    "\n",
    "One important thing to understand about floats is that they are not always 100% precise, especially with very small or very large numbers. This is due to how they are stored internally in binary."
   ]
  },
  {
   "cell_type": "code",
   "execution_count": null,
   "metadata": {},
   "outputs": [],
   "source": [
    "a = 0.1 + 0.2\n",
    "print(a)    # 0.30000000000000004, due to floating-point precision limits"
   ]
  },
  {
   "cell_type": "markdown",
   "metadata": {},
   "source": [
    "In cases where exact precision is required (such as financial calculations), the ``decimal`` module can be used, which we'll discuss shortly."
   ]
  },
  {
   "cell_type": "markdown",
   "metadata": {},
   "source": [
    "**Importance**\n",
    "\n",
    "Awareness of floating-point precision helps in avoiding unexpected results and making informed decisions about data representation."
   ]
  },
  {
   "cell_type": "markdown",
   "metadata": {},
   "source": [
    "## 4. **Comparison Operators** 🔶\n",
    "\n",
    "Floats can be compared using standard comparison operators:\n",
    "\n",
    "* ``==``, ``!=``, ``<``, ``<=``, ``>``, ``>=``\n",
    "\n",
    "However, because of precision issues with floats, it's sometimes better to check if two floats are \"close enough\" using the ``math.isclose()`` function.\n",
    "\n",
    "\n"
   ]
  },
  {
   "cell_type": "code",
   "execution_count": null,
   "metadata": {},
   "outputs": [],
   "source": [
    "import math\n",
    "\n",
    "a = 0.1 + 0.2\n",
    "b = 0.3\n",
    "\n",
    "# Direct comparison may fail\n",
    "print(a == b)    # False\n",
    "\n",
    "# Use math.isclose for comparing floats\n",
    "print(math.isclose(a, b))   # True"
   ]
  },
  {
   "cell_type": "markdown",
   "metadata": {},
   "source": [
    "**Importance**\n",
    "\n",
    "Comparison operators enable logical operations on floats, essential for decision-making and control flow."
   ]
  },
  {
   "cell_type": "markdown",
   "metadata": {},
   "source": [
    "## 5. **Common Functions and Methods with Floats** 🔶"
   ]
  },
  {
   "cell_type": "markdown",
   "metadata": {},
   "source": [
    "### ``abs()`` Function\n",
    "\n",
    "Returns the absolute value of a float."
   ]
  },
  {
   "cell_type": "code",
   "execution_count": null,
   "metadata": {},
   "outputs": [],
   "source": [
    "print(abs(-4.2))    # 4.2"
   ]
  },
  {
   "cell_type": "markdown",
   "metadata": {},
   "source": [
    "### ``round()`` Function\n",
    "\n",
    "Rounds a float to the nearest integer or to a specified number of decimal places.\n"
   ]
  },
  {
   "cell_type": "code",
   "execution_count": null,
   "metadata": {},
   "outputs": [],
   "source": [
    "print(round(3.14159, 2))    # 3.14, rounds to 2 decimal places\n",
    "print(round(3.5))           # 4, rounds to nearest whole number"
   ]
  },
  {
   "cell_type": "markdown",
   "metadata": {},
   "source": [
    "### ``math.ceil()`` and ``math.floor()`` Functions\n",
    "\n",
    "The ``math.ceil()`` function rounds a float up to the nearest integer, while ``math.floor()`` rounds it down.\n"
   ]
  },
  {
   "cell_type": "code",
   "execution_count": null,
   "metadata": {},
   "outputs": [],
   "source": [
    "import math\n",
    "\n",
    "print(math.ceil(3.4))    # 4, rounds up\n",
    "print(math.floor(3.9))   # 3, rounds down"
   ]
  },
  {
   "cell_type": "markdown",
   "metadata": {},
   "source": [
    "### ``math.sqrt()`` Function\n",
    "\n",
    "Returns the square root of a number."
   ]
  },
  {
   "cell_type": "code",
   "execution_count": null,
   "metadata": {},
   "outputs": [],
   "source": [
    "print(math.sqrt(16.0))    # 4.0"
   ]
  },
  {
   "cell_type": "markdown",
   "metadata": {},
   "source": [
    "### ``math.pi`` and ``math.e`` Function\n",
    "\n",
    "Python's ``math`` module provides useful constants like ``math.pi`` (π) and ``math.e`` (Euler's number)."
   ]
  },
  {
   "cell_type": "code",
   "execution_count": null,
   "metadata": {},
   "outputs": [],
   "source": [
    "print(math.pi)    # 3.141592653589793\n",
    "print(math.e)     # 2.718281828459045"
   ]
  },
  {
   "cell_type": "markdown",
   "metadata": {},
   "source": [
    "## 6. **Scientific Notation**\n",
    "\n",
    "Floats can be represented in scientific notation, which is useful for very large or small numbers."
   ]
  },
  {
   "cell_type": "code",
   "execution_count": null,
   "metadata": {},
   "outputs": [],
   "source": [
    "small = 1.23e-4     # 1.23 * 10^-4 = 0.000123\n",
    "large = 9.87e6      # 9.87 * 10^6 = 9870000.0"
   ]
  },
  {
   "cell_type": "markdown",
   "metadata": {},
   "source": [
    "**Importance**\n",
    "\n",
    "Scientific notation allows for compact representation of very large or very small numbers, which is often necessary in scientific calculations."
   ]
  },
  {
   "cell_type": "markdown",
   "metadata": {},
   "source": [
    "## 7. **Type Conversion with Floats** 🔶\n",
    "You can convert floats to other types, like integers, strings, or booleans:\n",
    "\n",
    "* Convert to **integer**: ``int()`` -\n",
    "  * Note that converting a float to an integer truncates the decimal part, without rounding.\n",
    "* Convert to **string**: ``str()``\n",
    "* Convert to **boolean**: ``bool()`` -\n",
    "  * Any non-zero float is ``True``; ``0.0`` is ``False``."
   ]
  },
  {
   "cell_type": "code",
   "execution_count": null,
   "metadata": {},
   "outputs": [],
   "source": [
    "a = 3.9\n",
    "print(int(a))    # 3, truncates the decimal\n",
    "print(str(a))    # '3.9', converts to string\n",
    "print(bool(a))   # True, because a is not 0"
   ]
  },
  {
   "cell_type": "markdown",
   "metadata": {},
   "source": [
    "**Importance**\n",
    "\n",
    "Conversion between floats and other data types enables seamless integration in various programming contexts."
   ]
  },
  {
   "cell_type": "markdown",
   "metadata": {},
   "source": [
    "## 8. **Handling Precision with the decimal Module**\n",
    "\n",
    "For applications where precise decimal arithmetic is required, such as in financial calculations, Python provides the ``decimal`` module. This module avoids the precision issues that arise with binary floating-point numbers."
   ]
  },
  {
   "cell_type": "code",
   "execution_count": null,
   "metadata": {},
   "outputs": [],
   "source": [
    "from decimal import Decimal\n",
    "\n",
    "a = Decimal('0.1')\n",
    "b = Decimal('0.2')\n",
    "c = a + b\n",
    "print(c)    # 0.3, exact result without floating-point error\n"
   ]
  },
  {
   "cell_type": "markdown",
   "metadata": {},
   "source": [
    "**Importance**\n",
    "\n",
    "The ``decimal`` module is crucial for applications requiring precise decimal calculations, such as financial calculations."
   ]
  },
  {
   "cell_type": "markdown",
   "metadata": {},
   "source": [
    "## 9. Bitwise Operations with Floats\n",
    "\n",
    "Floats do not support bitwise operations (like ``&``, ``|``, etc.), as these operations are reserved for integers. However, you can use floats in binary formats for IEEE 754 encoding, but this is more advanced.\n"
   ]
  },
  {
   "cell_type": "markdown",
   "metadata": {},
   "source": [
    "## 10. **Using Floats in Algorithms** 🔴\n",
    "\n",
    "An example where floats are essential is calculating the area of a circle. Since ``pi`` is an irrational number, floats allow for a more precise approximation.\n"
   ]
  },
  {
   "cell_type": "code",
   "execution_count": null,
   "metadata": {},
   "outputs": [],
   "source": [
    "import math\n",
    "\n",
    "def area_of_circle(radius):\n",
    "    return math.pi * (radius ** 2)\n",
    "\n",
    "print(area_of_circle(5))    # 78.53981633974483"
   ]
  },
  {
   "cell_type": "markdown",
   "metadata": {},
   "source": [
    "Another example is calculating interest in financial problems."
   ]
  },
  {
   "cell_type": "code",
   "execution_count": null,
   "metadata": {},
   "outputs": [],
   "source": [
    "def compound_interest(principal, rate, time):\n",
    "    # A = P * (1 + r/n)^(nt)\n",
    "    return principal * (1 + rate)**time\n",
    "\n",
    "print(compound_interest(1000, 0.05, 3))    # 1157.6250000000002"
   ]
  },
  {
   "cell_type": "markdown",
   "metadata": {},
   "source": [
    "**Importance**\n",
    "\n",
    "Floats are indispensable in algorithms involving calculations with decimal numbers, such as geometry, finance, and scientific computations."
   ]
  },
  {
   "cell_type": "markdown",
   "metadata": {},
   "source": [
    "## 11. **Floating-Point Exceptions** 🔴\n",
    " \n",
    "Certain operations with floats can raise exceptions, such as dividing by zero. Floats handle division by zero differently from integers."
   ]
  },
  {
   "cell_type": "code",
   "execution_count": null,
   "metadata": {},
   "outputs": [],
   "source": [
    "a = 10.0\n",
    "b = 0.0\n",
    "\n",
    "try:\n",
    "    result = a / b\n",
    "except ZeroDivisionError:\n",
    "    print(\"Division by zero is not allowed.\")"
   ]
  },
  {
   "cell_type": "markdown",
   "metadata": {},
   "source": [
    "Python also has special values for positive and negative infinity and for \"not a number\" (``NaN``), which are returned when floats encounter invalid operations."
   ]
  },
  {
   "cell_type": "code",
   "execution_count": null,
   "metadata": {},
   "outputs": [],
   "source": [
    "print(1.0 / 0.0)       # inf (infinity)\n",
    "print(-1.0 / 0.0)      # -inf\n",
    "print(float('nan'))    # nan (Not a Number)"
   ]
  },
  {
   "cell_type": "markdown",
   "metadata": {},
   "source": [
    "**Importance**\n",
    "\n",
    "Understanding floating-point exceptions (like division by zero) helps in writing robust and error-resistant code."
   ]
  },
  {
   "cell_type": "markdown",
   "metadata": {},
   "source": [
    "## **Conclusion**\n",
    "\n",
    "Floats in Python provide the ability to handle real numbers with precision, making them a critical part of numerical and scientific computing. While floats offer flexibility in working with decimals, it's important to be aware of their limitations with precision. For scenarios requiring high precision, the ``decimal`` module offers a better alternative. Python also provides many built-in and library functions for performing mathematical operations on floats."
   ]
  }
 ],
 "metadata": {
  "kernelspec": {
   "display_name": "env",
   "language": "python",
   "name": "python3"
  },
  "language_info": {
   "codemirror_mode": {
    "name": "ipython",
    "version": 3
   },
   "file_extension": ".py",
   "mimetype": "text/x-python",
   "name": "python",
   "nbconvert_exporter": "python",
   "pygments_lexer": "ipython3",
   "version": "3.12.2"
  }
 },
 "nbformat": 4,
 "nbformat_minor": 2
}
