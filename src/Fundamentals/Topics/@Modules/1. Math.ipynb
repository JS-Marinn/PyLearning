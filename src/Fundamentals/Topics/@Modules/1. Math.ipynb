{
 "cells": [
  {
   "cell_type": "markdown",
   "metadata": {},
   "source": [
    "# Modules: **Math**\n",
    "\n",
    "<p style=\"text-align: center;\">\n",
    "  <img src=\"../img/math-module.webp\" width=\"1000\">\n",
    "</p>\n",
    "\n",
    "*Source: [[Link to the original source](https://realpython.com)]*"
   ]
  },
  {
   "cell_type": "markdown",
   "metadata": {},
   "source": [
    "In Python, the ``math`` **module** provides a wide variety of mathematical functions and constants that help perform advanced calculations. Let's explore the ``math`` module in detail, covering commonly used functions, constants, and practical examples."
   ]
  },
  {
   "cell_type": "markdown",
   "metadata": {},
   "source": [
    "## **1. Importing the ``math`` Module**\n",
    "\n",
    "To use the functions in the ``math`` module, you need to import it using the ``import math`` statement:"
   ]
  },
  {
   "cell_type": "code",
   "execution_count": 2,
   "metadata": {},
   "outputs": [],
   "source": [
    "import math"
   ]
  },
  {
   "cell_type": "markdown",
   "metadata": {},
   "source": [
    "## **2. Mathematical Constants**\n",
    "\n",
    "The ``math`` module provides some predefined mathematical constants:\n",
    "\n",
    "* ``math.pi``: The value of π (approximately 3.14159).\n",
    "* ``math.e``: The base of the natural logarithm (approximately 2.71828).\n",
    "* ``math.tau``: The value of τ, which is 2π (approximately 6.28318).\n",
    "* ``math.inf``: Represents positive infinity (∞).\n",
    "* ``math.nan``: Represents \"Not a Number\" (used to denote undefined values).\n"
   ]
  },
  {
   "cell_type": "code",
   "execution_count": null,
   "metadata": {},
   "outputs": [],
   "source": [
    "import math\n",
    "\n",
    "print(math.pi)    # Output: 3.141592653589793\n",
    "print(math.e)     # Output: 2.718281828459045\n",
    "print(math.tau)   # Output: 6.283185307179586\n",
    "print(math.inf)   # Output: inf\n",
    "print(math.nan)   # Output: nan"
   ]
  },
  {
   "cell_type": "markdown",
   "metadata": {},
   "source": [
    "## **3. Basic Mathematical Functions**\n"
   ]
  },
  {
   "cell_type": "markdown",
   "metadata": {},
   "source": [
    "### **3.1. Rounding Functions**\n",
    "\n",
    "* ``math.ceil(x)``: Returns the smallest integer greater than or equal to ``x`` (rounds up).\n",
    "* ``math.floor(x)``: Returns the largest integer less than or equal to ``x`` (rounds down).\n",
    "* ``math.trunc(x)``: Truncates the decimal part, returning the integer part of ``x``."
   ]
  },
  {
   "cell_type": "code",
   "execution_count": null,
   "metadata": {},
   "outputs": [],
   "source": [
    "x = 4.7\n",
    "\n",
    "print(math.ceil(x))    # Output: 5\n",
    "print(math.floor(x))   # Output: 4\n",
    "print(math.trunc(x))   # Output: 4"
   ]
  },
  {
   "cell_type": "markdown",
   "metadata": {},
   "source": [
    "### **3.2. Power and Logarithmic Functions**\n",
    "\n",
    "* ``math.pow(x, y)``: Returns ``x`` raised to the power of ``y`` (same as ``x ** y``).\n",
    "* ``math.sqrt(x)``: Returns the square root of ``x``.\n",
    "* ``math.log(x, base)``: Returns the logarithm of ``x`` to the given base. If no ``base`` is provided, it defaults to the natural logarithm (base ``e``)."
   ]
  },
  {
   "cell_type": "code",
   "execution_count": null,
   "metadata": {},
   "outputs": [],
   "source": [
    "print(math.pow(2, 3))     # Output: 8.0 (2^3)\n",
    "print(math.sqrt(16))      # Output: 4.0 (square root of 16)\n",
    "print(math.log(10))       # Output: 2.302585092994046 (log base e)\n",
    "print(math.log(100, 10))  # Output: 2.0 (log base 10)"
   ]
  },
  {
   "cell_type": "markdown",
   "metadata": {},
   "source": [
    "### **3.3. Exponential Functions**\n",
    "\n",
    "* ``math.exp(x)``: Returns the value of ``e`` raised to the power of ``x`` (``e^x``)."
   ]
  },
  {
   "cell_type": "code",
   "execution_count": null,
   "metadata": {},
   "outputs": [],
   "source": [
    "print(math.exp(1))    # Output: 2.718281828459045 (e^1)\n",
    "print(math.exp(2))    # Output: 7.38905609893065 (e^2)"
   ]
  },
  {
   "cell_type": "markdown",
   "metadata": {},
   "source": [
    "### **3.4. Factorial and GCD**\n",
    "\n",
    "* ``math.factorial(x)``: Returns the factorial of ``x``, where ``x`` must be a non-negative integer.\n",
    "* ``math.gcd(x, y)``: Returns the greatest common divisor (GCD) of ``x`` and ``y``."
   ]
  },
  {
   "cell_type": "code",
   "execution_count": null,
   "metadata": {},
   "outputs": [],
   "source": [
    "print(math.factorial(5))   # Output: 120 (5 * 4 * 3 * 2 * 1)\n",
    "print(math.gcd(48, 18))    # Output: 6 (GCD of 48 and 18)"
   ]
  },
  {
   "cell_type": "markdown",
   "metadata": {},
   "source": [
    "## **4. Trigonometric Functions**\n",
    "The ``math`` module includes several trigonometric functions for working with angles. The angle values are in radians.\n"
   ]
  },
  {
   "cell_type": "markdown",
   "metadata": {},
   "source": [
    "### **4.1. Basic Trigonometric Functions**\n",
    "* ``math.sin(x)``: Returns the sine of ``x``.\n",
    "* ``math.cos(x)``: Returns the cosine of ``x``.\n",
    "* ``math.tan(x)``: Returns the tangent of ``x``."
   ]
  },
  {
   "cell_type": "code",
   "execution_count": null,
   "metadata": {},
   "outputs": [],
   "source": [
    "angle_in_radians = math.pi / 4  # 45 degrees in radians\n",
    "\n",
    "print(math.sin(angle_in_radians))  # Output: 0.7071067811865475\n",
    "print(math.cos(angle_in_radians))  # Output: 0.7071067811865476\n",
    "print(math.tan(angle_in_radians))  # Output: 0.9999999999999999"
   ]
  },
  {
   "cell_type": "markdown",
   "metadata": {},
   "source": [
    "### **4.2. Inverse Trigonometric Functions**\n",
    "* ``math.asin(x)``: Returns the arc sine of ``x`` (in radians).\n",
    "* ``math.acos(x)``: Returns the arc cosine of ``x`` (in radians).\n",
    "* ``math.atan(x)``: Returns the arc tangent of ``x`` (in radians)."
   ]
  },
  {
   "cell_type": "code",
   "execution_count": null,
   "metadata": {},
   "outputs": [],
   "source": [
    "x = 0.707\n",
    "\n",
    "print(math.asin(x))   # Output: 0.7853981633974483 (in radians)\n",
    "print(math.acos(x))   # Output: 0.7853981633974483 (in radians)\n",
    "print(math.atan(x))   # Output: 0.6154797086703873 (in radians)"
   ]
  },
  {
   "cell_type": "markdown",
   "metadata": {},
   "source": [
    "### **4.3. Converting Between Radians and Degrees**\n",
    "* ``math.degrees(x)``: Converts ``x`` from radians to degrees.\n",
    "* ``math.radians(x)``: Converts ``x`` from degrees to radians."
   ]
  },
  {
   "cell_type": "code",
   "execution_count": null,
   "metadata": {},
   "outputs": [],
   "source": [
    "angle_in_radians = math.pi\n",
    "angle_in_degrees = 180\n",
    "\n",
    "print(math.degrees(angle_in_radians))  # Output: 180.0\n",
    "print(math.radians(angle_in_degrees))  # Output: 3.141592653589793"
   ]
  },
  {
   "cell_type": "markdown",
   "metadata": {},
   "source": [
    "## **5. Hyperbolic Functions**\n",
    "The ``math`` module also includes hyperbolic functions (related to hyperbolas, analogous to the trigonometric functions):\n",
    "\n",
    "* ``math.sinh(x)``: Returns the hyperbolic sine of ``x``.\n",
    "* ``math.cosh(x)``: Returns the hyperbolic cosine of ``x``.\n",
    "* ``math.tanh(x)``: Returns the hyperbolic tangent of ``x``."
   ]
  },
  {
   "cell_type": "code",
   "execution_count": null,
   "metadata": {},
   "outputs": [],
   "source": [
    "x = 1.0\n",
    "\n",
    "print(math.sinh(x))  # Output: 1.1752011936438014\n",
    "print(math.cosh(x))  # Output: 1.5430806348152437\n",
    "print(math.tanh(x))  # Output: 0.7615941559557649"
   ]
  },
  {
   "cell_type": "markdown",
   "metadata": {},
   "source": [
    "## **6. Special Functions**\n",
    "The ``math`` module provides other special functions for advanced mathematical calculations:\n",
    "\n",
    "* ``math.gamma(x)``: Returns the gamma function of ``x`` (similar to factorial but extended to non-integers).\n",
    "* ``math.lgamma(x)``: Returns the natural logarithm of the absolute value of the gamma function.\n",
    "* ``math.erf(x)``: Returns the error function of ``x``.\n",
    "* ``math.erfc(x)``: Returns the complementary error function of ``x``."
   ]
  },
  {
   "cell_type": "code",
   "execution_count": null,
   "metadata": {},
   "outputs": [],
   "source": [
    "x = 5.2\n",
    "\n",
    "print(math.gamma(x))  # Output: 24.0 (similar to factorial of 4)\n",
    "print(math.lgamma(x)) # Output: 3.1780538303479458\n",
    "print(math.erf(1))    # Output: 0.8427007929497148\n",
    "print(math.erfc(1))   # Output: 0.15729920705028513\n"
   ]
  },
  {
   "cell_type": "markdown",
   "metadata": {},
   "source": [
    "## **7. Practical Use Cases**"
   ]
  },
  {
   "cell_type": "markdown",
   "metadata": {},
   "source": [
    "### **7.1. Using math in Geometry**\n",
    "The ``math`` module is useful in geometry for calculating areas and angles. For example, you can calculate the area of a circle given its radius using the formula: ``A = π * r²``."
   ]
  },
  {
   "cell_type": "code",
   "execution_count": null,
   "metadata": {},
   "outputs": [],
   "source": [
    "def area_of_circle(radius):\n",
    "    return math.pi * math.pow(radius, 2)\n",
    "\n",
    "print(area_of_circle(5))  # Output: 78.53981633974483"
   ]
  },
  {
   "cell_type": "markdown",
   "metadata": {},
   "source": [
    "### **7.2. Finding Roots of a Quadratic Equation**\n",
    "The ``math.sqrt()`` function can be used to find the roots of a quadratic equation ``ax² + bx + c = 0``."
   ]
  },
  {
   "cell_type": "code",
   "execution_count": null,
   "metadata": {},
   "outputs": [],
   "source": [
    "def quadratic_roots(a, b, c):\n",
    "    discriminant = math.pow(b, 2) - 4 * a * c\n",
    "    if discriminant >= 0:\n",
    "        root1 = (-b + math.sqrt(discriminant)) / (2 * a)\n",
    "        root2 = (-b - math.sqrt(discriminant)) / (2 * a)\n",
    "        return root1, root2\n",
    "    else:\n",
    "        return None  # No real roots\n",
    "\n",
    "print(quadratic_roots(1, -3, 2))  # Output: (2.0, 1.0)"
   ]
  },
  {
   "cell_type": "markdown",
   "metadata": {},
   "source": [
    "### **7.3. Using Trigonometry to Calculate a Triangle's Side**\n",
    "Given an angle and a side, you can use trigonometric functions to find the length of another side of a right triangle:"
   ]
  },
  {
   "cell_type": "code",
   "execution_count": null,
   "metadata": {},
   "outputs": [],
   "source": [
    "def find_hypotenuse(adjacent, angle_degrees):\n",
    "    angle_radians = math.radians(angle_degrees)\n",
    "    return adjacent / math.cos(angle_radians)\n",
    "\n",
    "print(find_hypotenuse(5, 30))  # Output: 5.773502691896257"
   ]
  },
  {
   "cell_type": "markdown",
   "metadata": {},
   "source": [
    "## **Conclusion**\n",
    "The ``math`` module in Python provides a powerful set of mathematical functions and constants, allowing you to perform basic arithmetic, trigonometric calculations, logarithmic functions, and more advanced mathematical operations like working with hyperbolic functions or finding roots. It's highly useful in various fields like geometry, algebra, and calculus, making it an essential tool for scientific and mathematical programming."
   ]
  }
 ],
 "metadata": {
  "kernelspec": {
   "display_name": "env",
   "language": "python",
   "name": "python3"
  },
  "language_info": {
   "codemirror_mode": {
    "name": "ipython",
    "version": 3
   },
   "file_extension": ".py",
   "mimetype": "text/x-python",
   "name": "python",
   "nbconvert_exporter": "python",
   "pygments_lexer": "ipython3",
   "version": "3.12.2"
  }
 },
 "nbformat": 4,
 "nbformat_minor": 2
}
