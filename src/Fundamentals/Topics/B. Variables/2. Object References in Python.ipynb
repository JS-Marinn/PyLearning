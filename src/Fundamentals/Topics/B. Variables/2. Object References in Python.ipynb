{
 "cells": [
  {
   "cell_type": "markdown",
   "metadata": {},
   "source": [
    "# Variables: **Object references in Python**\n",
    "\n",
    "<p style=\"text-align: center;\">\n",
    "  <!-- <img src=\"../img/variables.webp\" width=\"1000\"> -->\n",
    "</p>"
   ]
  },
  {
   "cell_type": "markdown",
   "metadata": {},
   "source": [
    "> ### ⚠️ **Warning!** Some items cover more advanced topics that will be covered in more depth later. They are included here for future reference. \n",
    "> * #### Topics that will be covered soon will be marked with: 🔶 \n",
    "> \n",
    "> * #### Topics that will be covered further away will be marked with: 🔴"
   ]
  },
  {
   "cell_type": "markdown",
   "metadata": {},
   "source": [
    "## 1. **Python's Object Model**\n",
    "   \n",
    "In Python, **everything is an object**, including integers, strings, functions, and even classes themselves. When a variable is assigned a value, it is not the value that is stored in the variable but a reference (or pointer) to an object in memory that holds the actual value."
   ]
  },
  {
   "cell_type": "code",
   "execution_count": 30,
   "metadata": {},
   "outputs": [],
   "source": [
    "x = 10"
   ]
  },
  {
   "cell_type": "markdown",
   "metadata": {},
   "source": [
    "Here, **x** is a reference to the object **10** in memory. Python variables do not store the data directly but instead point to the object."
   ]
  },
  {
   "cell_type": "markdown",
   "metadata": {},
   "source": [
    "## 2. **Variables and Object References**\n",
    "   \n",
    "Variables in Python are simply names that reference objects. You can think of variables as \"labels\" that point to memory locations where the actual data (object) is stored. Multiple variables can refer to the same object."
   ]
  },
  {
   "cell_type": "code",
   "execution_count": 31,
   "metadata": {},
   "outputs": [],
   "source": [
    "a = 42  # 'a' refers to the object 42\n",
    "b = a   # 'b' also refers to the object 42"
   ]
  },
  {
   "cell_type": "markdown",
   "metadata": {},
   "source": [
    "Both **a** and **b** refer to the same object, the integer **42**, in memory. Changing **b** does not affect **a**, but for mutable objects, both variables might change depending on the operation."
   ]
  },
  {
   "cell_type": "code",
   "execution_count": null,
   "metadata": {},
   "outputs": [],
   "source": [
    "print(id(a))  # Outputs the memory address of the object 42\n",
    "print(id(b))  # Same as a's memory address"
   ]
  },
  {
   "cell_type": "markdown",
   "metadata": {},
   "source": [
    "## 3. **Mutable vs. Immutable Objects**\n",
    "Python objects fall into two categories: **mutable** and **immutable**.\n",
    "\n",
    "* **Immutable Objects**: Cannot be modified after they are created (e.g., integers, floats, strings, tuples).\n",
    "* **Mutable Object**s: Can be modified after creation (e.g., lists, dictionaries, sets)."
   ]
  },
  {
   "cell_type": "markdown",
   "metadata": {},
   "source": [
    "**Immutable Example (Integer):**\n"
   ]
  },
  {
   "cell_type": "code",
   "execution_count": 33,
   "metadata": {},
   "outputs": [],
   "source": [
    "x = 10\n",
    "y = x  # Both x and y point to the same object (10)\n",
    "\n",
    "x = 20  # Now x points to a new object (20), but y still points to 10"
   ]
  },
  {
   "cell_type": "markdown",
   "metadata": {},
   "source": [
    "Here, ``x`` initially refers to ``10``. When ``x`` is reassigned to ``20``, Python creates a new integer object ``20`` and updates the reference of ``x`` to point to the new object. ``y`` remains pointing to ``10``."
   ]
  },
  {
   "cell_type": "markdown",
   "metadata": {},
   "source": [
    "**Mutable Example (List):**\n"
   ]
  },
  {
   "cell_type": "code",
   "execution_count": null,
   "metadata": {},
   "outputs": [],
   "source": [
    "list1 = [1, 2, 3]\n",
    "list2 = list1  # Both variables refer to the same list object\n",
    "\n",
    "list1.append(4)  # Modifies the list\n",
    "print(list1)  # Output: [1, 2, 3, 4]\n",
    "print(list2)  # Output: [1, 2, 3, 4] (list2 also sees the change)"
   ]
  },
  {
   "cell_type": "markdown",
   "metadata": {},
   "source": [
    "Since lists are mutable, modifying **``list1``** through **``append()``** affects both **``list1``** and **``list2``**, as they refer to the same object."
   ]
  },
  {
   "cell_type": "markdown",
   "metadata": {},
   "source": [
    "## **4. Shared References and Their Implications**\n",
    "When two or more variables reference the same mutable object, changing the object through one reference will affect all references. This can lead to unintended side effects if not handled carefully."
   ]
  },
  {
   "cell_type": "code",
   "execution_count": null,
   "metadata": {},
   "outputs": [],
   "source": [
    "a = [1, 2, 3]\n",
    "b = a  # b references the same list as a\n",
    "\n",
    "a.append(4)\n",
    "print(b)  # Output: [1, 2, 3, 4] (b sees the change)"
   ]
  },
  {
   "cell_type": "markdown",
   "metadata": {},
   "source": [
    "In this case, both ``a`` and ``b`` reference the same list object, so modifying ``a`` also affects ``b``."
   ]
  },
  {
   "cell_type": "markdown",
   "metadata": {},
   "source": [
    "## **5. Copying Objects (Shallow vs. Deep Copy)**\n",
    "To avoid unintended side effects of shared references, you can create copies of objects. There are two main types of copying:\n",
    "\n",
    "* **Shallow copy:** Creates a new object, but references the same inner objects (only one level deep).\n",
    "* **Deep copy:** Creates a completely independent object, including copies of all nested objects."
   ]
  },
  {
   "cell_type": "markdown",
   "metadata": {},
   "source": [
    "**Shallow Copy Example:**"
   ]
  },
  {
   "cell_type": "code",
   "execution_count": null,
   "metadata": {},
   "outputs": [],
   "source": [
    "import copy\n",
    "a = [1, 2, [3, 4]]\n",
    "b = copy.copy(a)  # Creates a shallow copy\n",
    "\n",
    "a[2].append(5)\n",
    "print(b)  # Output: [1, 2, [3, 4, 5]] (Nested object is shared)\n",
    "print(id(b))\n",
    "\n",
    "print(a)\n",
    "print(id(a))"
   ]
  },
  {
   "cell_type": "markdown",
   "metadata": {},
   "source": [
    "Even though ``b`` is a shallow copy of ``a``, changes to the inner list (``[3, 4]``) are reflected in ``b``."
   ]
  },
  {
   "cell_type": "markdown",
   "metadata": {},
   "source": [
    "**Deep Copy Example:**"
   ]
  },
  {
   "cell_type": "code",
   "execution_count": null,
   "metadata": {},
   "outputs": [],
   "source": [
    "import copy\n",
    "a = [1, 2, [3, 4]]\n",
    "b = copy.deepcopy(a)  # Creates a deep copy\n",
    "\n",
    "a[2].append(5)\n",
    "print(b)  # Output: [1, 2, [3, 4]] (Inner list is not shared)\n",
    "print(id(b))\n",
    "\n",
    "print(a)\n",
    "print(id(a))"
   ]
  },
  {
   "cell_type": "markdown",
   "metadata": {},
   "source": [
    "In this case, the deep copy creates an independent copy of the inner list, so changes to ``a`` do not affect ``b``."
   ]
  },
  {
   "cell_type": "markdown",
   "metadata": {},
   "source": [
    "## **6. Object References and Functions**\n",
    "   \n",
    "When passing variables to functions, Python passes references to the objects. Whether the function can modify the original object depends on whether the object is mutable or immutable."
   ]
  },
  {
   "cell_type": "markdown",
   "metadata": {},
   "source": [
    "**Example with Immutable Objects:**\n"
   ]
  },
  {
   "cell_type": "code",
   "execution_count": null,
   "metadata": {},
   "outputs": [],
   "source": [
    "def modify_value(x):\n",
    "    x += 10\n",
    "    print(\"Inside function:\", x)\n",
    "\n",
    "a = 5\n",
    "modify_value(a)\n",
    "print(\"Outside function:\", a)  # Output: 5 (a remains unchanged)"
   ]
  },
  {
   "cell_type": "markdown",
   "metadata": {},
   "source": [
    "Since integers are immutable, ``x += 10`` inside the function creates a new object, so ``a`` remains unchanged."
   ]
  },
  {
   "cell_type": "markdown",
   "metadata": {},
   "source": [
    "**Example with Mutable Objects:**"
   ]
  },
  {
   "cell_type": "code",
   "execution_count": null,
   "metadata": {},
   "outputs": [],
   "source": [
    "def modify_list(lst):\n",
    "    lst.append(100)\n",
    "    print(\"Inside function:\", lst)\n",
    "\n",
    "my_list = [1, 2, 3]\n",
    "modify_list(my_list)\n",
    "print(\"Outside function:\", my_list)  # Output: [1, 2, 3, 100] (list is modified)"
   ]
  },
  {
   "cell_type": "markdown",
   "metadata": {},
   "source": [
    "Here, since lists are mutable, the ``append()`` operation modifies the original list ``my_list``."
   ]
  },
  {
   "cell_type": "markdown",
   "metadata": {},
   "source": [
    "## **7. Memory Management and Garbage Collection**\n",
    "\n",
    "Python automatically manages memory using a technique called reference counting and a garbage collector. When an object has no more references pointing to it, Python deallocates its memory."
   ]
  },
  {
   "cell_type": "markdown",
   "metadata": {},
   "source": [
    "**Reference Count:**\n",
    "You can check the reference count of an object using the ``sys`` module's ``getrefcount()`` function."
   ]
  },
  {
   "cell_type": "code",
   "execution_count": null,
   "metadata": {},
   "outputs": [],
   "source": [
    "import sys\n",
    "a = [1, 2, 3]\n",
    "print(sys.getrefcount(a))  # Outputs the reference count of the list object"
   ]
  },
  {
   "cell_type": "markdown",
   "metadata": {},
   "source": [
    "**Example of Garbage Collection:**\n"
   ]
  },
  {
   "cell_type": "code",
   "execution_count": null,
   "metadata": {},
   "outputs": [],
   "source": [
    "import gc\n",
    "\n",
    "a = [1, 2, 3]\n",
    "b = a  # Increases reference count\n",
    "del a  # Decreases reference count\n",
    "\n",
    "gc.collect()  # Forces garbage collection"
   ]
  },
  {
   "cell_type": "markdown",
   "metadata": {},
   "source": [
    "Once all references to an object are deleted, the object becomes eligible for garbage collection."
   ]
  },
  {
   "cell_type": "markdown",
   "metadata": {},
   "source": [
    "## **8. Aliasing**\n",
    "When two variables reference the same object, it is called aliasing. Aliasing can be useful for efficiency, but it requires careful handling when dealing with mutable objects to avoid unintended side effects.\n",
    "\n",
    "Example:"
   ]
  },
  {
   "cell_type": "code",
   "execution_count": null,
   "metadata": {},
   "outputs": [],
   "source": [
    "a = [1, 2, 3]\n",
    "b = a  # b is an alias for a\n",
    "\n",
    "b.append(4)  # Modifies both a and b\n",
    "print(a)  # Output: [1, 2, 3, 4]"
   ]
  },
  {
   "cell_type": "markdown",
   "metadata": {},
   "source": [
    "Here, ``b`` is an alias for ``a``, so modifying ``b`` also modifies ``a``."
   ]
  },
  {
   "cell_type": "markdown",
   "metadata": {},
   "source": [
    "## **9. Identity vs. Equality**\n",
    "In Python, ``is`` checks whether two variables reference the same object (identity), while ``==`` checks if the values of two objects are equal (equality)."
   ]
  },
  {
   "cell_type": "code",
   "execution_count": null,
   "metadata": {},
   "outputs": [],
   "source": [
    "a = [1, 2, 3]\n",
    "b = [1, 2, 3]\n",
    "\n",
    "print(a == b)  # Output: True (they have the same values)\n",
    "print(a is b)  # Output: False (they are different objects)"
   ]
  },
  {
   "cell_type": "markdown",
   "metadata": {},
   "source": [
    "Although ``a`` and ``b`` have the same values, they are different objects in memory, so ``a is b`` is ``False``."
   ]
  },
  {
   "cell_type": "markdown",
   "metadata": {},
   "source": [
    "Conclusion\n",
    "\n",
    "* In Python, variables are **references to objects**, not containers of values.\n",
    "* **Immutable objects** (like integers, strings) do not change in memory, while mutable objects (like lists, dictionaries) can be modified.\n",
    "* Shared references can lead to unintended consequences with mutable objects.\n",
    "* Use **copying techniques** (shallow or deep) to create independent copies of objects.\n",
    "* Python handles memory management through reference counting and garbage collection, automatically freeing memory for objects that are no longer referenced.\n",
    "  \n",
    "Understanding Python’s object references is essential for writing efficient, bug-free code, especially when working with mutable data structures."
   ]
  },
  {
   "cell_type": "markdown",
   "metadata": {},
   "source": [
    "[You can see it in more detail here](https://www.youtube.com/watch?v=dQw4w9WgXcQ)"
   ]
  }
 ],
 "metadata": {
  "kernelspec": {
   "display_name": "env",
   "language": "python",
   "name": "python3"
  },
  "language_info": {
   "codemirror_mode": {
    "name": "ipython",
    "version": 3
   },
   "file_extension": ".py",
   "mimetype": "text/x-python",
   "name": "python",
   "nbconvert_exporter": "python",
   "pygments_lexer": "ipython3",
   "version": "3.12.2"
  }
 },
 "nbformat": 4,
 "nbformat_minor": 2
}
