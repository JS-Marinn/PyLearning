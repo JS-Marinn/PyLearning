{
 "cells": [
  {
   "cell_type": "markdown",
   "metadata": {},
   "source": [
    "# Variables: **References and Scope**\n",
    "\n",
    "<p style=\"text-align: center;\">\n",
    "  <img src=\"../img/scope.jpg\" width=\"1000\">\n",
    "</p>"
   ]
  },
  {
   "cell_type": "markdown",
   "metadata": {},
   "source": [
    "In Python, **references** and scope are essential concepts that govern how variables are accessed, modified, and how long they exist during the execution of a program. Understanding these concepts is important for managing memory effectively and avoiding unexpected behavior.\n",
    "\n"
   ]
  },
  {
   "cell_type": "markdown",
   "metadata": {},
   "source": [
    "## 1 **References in Python**\n",
    "\n",
    "In Python, variables are **references** or **pointers** to objects in memory, rather than storing the actual values themselves. When you assign a value to a variable, you are creating a reference yo an object.\n",
    "\n",
    "**Key Points About References:**\n",
    "\n",
    "* Variables in Python act as labels attached to objects (values).\n",
    "* Multiple variables can refer to the same object in memory.\n",
    "* Python uses a system called reference counting to manage memory. When an object's reference count drops to zero (i.e., no variables refer to it), Python automatically deletes the object to free memory.\n"
   ]
  },
  {
   "cell_type": "code",
   "execution_count": null,
   "metadata": {},
   "outputs": [],
   "source": [
    "a = [1, 2, 3]  # `a` points to a list object\n",
    "b = a          # `b` is now a reference to the same list object\n",
    "\n",
    "print(a is b)  # True, both `a` and `b` point to the same object"
   ]
  },
  {
   "cell_type": "markdown",
   "metadata": {},
   "source": [
    "If you modify the object that ``a`` refers to, you’ll see the changes reflected in ``b`` because both variables point to the same object."
   ]
  },
  {
   "cell_type": "markdown",
   "metadata": {},
   "source": [
    "**Example of Distinct Object Reference:**"
   ]
  },
  {
   "cell_type": "code",
   "execution_count": null,
   "metadata": {},
   "outputs": [],
   "source": [
    "c = a.copy()  # Creates a new list object with the same values\n",
    "print(a is c)  # False, `a` and `c` point to different objects"
   ]
  },
  {
   "cell_type": "markdown",
   "metadata": {},
   "source": [
    "## **2. Scope in Python**\n",
    "\n",
    "**Scope** refers to the region of the program where a variable is accessible. Python has different types of scopes that determine where a variable can be accessed or modified.\n",
    "\n",
    "**The LEGB Rule:** \n",
    "Python uses the **LEGB** rule to resolve variable names. It stands for:\n",
    "\n",
    "1. Local\n",
    "2. Enclosing (for nested functions)\n",
    "3. Global\n",
    "4. Built-in\n",
    "   \n",
    "**Let’s break down these scope levels:**"
   ]
  },
  {
   "cell_type": "markdown",
   "metadata": {},
   "source": [
    "### **a. Local Scope:**\n",
    "\n",
    "* The local scope refers to variables defined inside a function. These variables are only accessible within that function."
   ]
  },
  {
   "cell_type": "code",
   "execution_count": null,
   "metadata": {},
   "outputs": [],
   "source": [
    "def my_function():\n",
    "    x = 10  # Local variable\n",
    "    print(x)\n",
    "\n",
    "my_function()  # Outputs: 10\n",
    "# print(x) would cause an error as `x` is not accessible outside the function"
   ]
  },
  {
   "cell_type": "markdown",
   "metadata": {},
   "source": [
    "### **b. Enclosing Scope:**\n",
    "\n",
    "* Enclosing scope refers to variables that are defined in a parent function and are accessible to inner (nested) functions."
   ]
  },
  {
   "cell_type": "code",
   "execution_count": null,
   "metadata": {},
   "outputs": [],
   "source": [
    "def outer_function():\n",
    "    x = 10  # Enclosing variable\n",
    "\n",
    "    def inner_function():\n",
    "        print(x)  # Can access the enclosing variable `x`\n",
    "\n",
    "    inner_function()\n",
    "\n",
    "outer_function()  # Outputs: 10"
   ]
  },
  {
   "cell_type": "markdown",
   "metadata": {},
   "source": [
    "### **c. Global Scope:**\n",
    "* Variables defined at the top-level of a module or script (outside of any function) are in the global scope. These can be accessed anywhere in the module."
   ]
  },
  {
   "cell_type": "code",
   "execution_count": null,
   "metadata": {},
   "outputs": [],
   "source": [
    "x = 50  # Global variable\n",
    "\n",
    "def my_function():\n",
    "    print(x)  # Can access the global variable\n",
    "\n",
    "my_function()  # Outputs: 50"
   ]
  },
  {
   "cell_type": "markdown",
   "metadata": {},
   "source": [
    "* To modify a global variable inside a function, you need to use the ``global`` keyword.\n",
    "\n"
   ]
  },
  {
   "cell_type": "code",
   "execution_count": null,
   "metadata": {},
   "outputs": [],
   "source": [
    "x = 50\n",
    "\n",
    "def modify_global():\n",
    "    global x\n",
    "    x = 100\n",
    "\n",
    "modify_global()\n",
    "print(x)  # Outputs: 100"
   ]
  },
  {
   "cell_type": "markdown",
   "metadata": {},
   "source": [
    "### **d. Built-in Scope:**\n",
    "* Built-in scope refers to names pre-defined in Python’s built-in modules, such as ``print()``, ``len()``, ``abs()``, etc. These are always available."
   ]
  },
  {
   "cell_type": "code",
   "execution_count": null,
   "metadata": {},
   "outputs": [],
   "source": [
    "print(len([1, 2, 3]))  # Uses built-in `len()` function"
   ]
  },
  {
   "cell_type": "markdown",
   "metadata": {},
   "source": [
    "## **3. Scope and Nested Functions**\n",
    "When functions are nested, the inner function can access variables from the outer function (enclosing scope), but the reverse is not true."
   ]
  },
  {
   "cell_type": "code",
   "execution_count": null,
   "metadata": {},
   "outputs": [],
   "source": [
    "def outer():\n",
    "    x = 5  # Enclosing scope\n",
    "\n",
    "    def inner():\n",
    "        print(x)  # Accesses `x` from the enclosing scope\n",
    "\n",
    "    inner()\n",
    "\n",
    "outer()  # Outputs: 5"
   ]
  },
  {
   "cell_type": "markdown",
   "metadata": {},
   "source": [
    "However, the inner function cannot modify the enclosing variable unless you use the ``nonlocal`` keyword."
   ]
  },
  {
   "cell_type": "code",
   "execution_count": null,
   "metadata": {},
   "outputs": [],
   "source": [
    "def outer():\n",
    "    x = 5  # Enclosing variable\n",
    "\n",
    "    def inner():\n",
    "        nonlocal x\n",
    "        x = 10  # Modify the enclosing variable\n",
    "\n",
    "    inner()\n",
    "    print(x)\n",
    "\n",
    "outer()  # Outputs: 10"
   ]
  },
  {
   "cell_type": "markdown",
   "metadata": {},
   "source": [
    "## **4. Global vs. Local Variables**\n",
    "Variables declared inside functions are local by default, while variables declared outside of any function are global."
   ]
  },
  {
   "cell_type": "markdown",
   "metadata": {},
   "source": [
    "**Shadowing Global Variables:**\n",
    "\n",
    "A global variable can be shadowed by a local variable with the same name inside a function.\n",
    "\n"
   ]
  },
  {
   "cell_type": "code",
   "execution_count": null,
   "metadata": {},
   "outputs": [],
   "source": [
    "x = 50  # Global variable\n",
    "\n",
    "def my_function():\n",
    "    x = 100  # Local variable (shadows global `x`)\n",
    "    print(x)\n",
    "\n",
    "my_function()  # Outputs: 100\n",
    "print(x)       # Outputs: 50 (global variable remains unchanged)"
   ]
  },
  {
   "cell_type": "markdown",
   "metadata": {},
   "source": [
    "To modify the global variable, you need the ``global`` keyword.\n"
   ]
  },
  {
   "cell_type": "markdown",
   "metadata": {},
   "source": [
    "## **5. Reference Counting and Garbage Collection**\n",
    "\n",
    "Python uses reference counting to track how many variables point to an object. When an object’s reference count reaches zero, it is automatically deallocated from memory. Additionally, Python has a garbage collector to handle objects involved in circular references."
   ]
  },
  {
   "cell_type": "code",
   "execution_count": null,
   "metadata": {},
   "outputs": [],
   "source": [
    "import sys\n",
    "\n",
    "a = [1, 2, 3]\n",
    "b = a\n",
    "\n",
    "print(sys.getrefcount(a))  # Output: 3 (b, a, and the temporary reference from `getrefcount`)\n",
    "del b\n",
    "print(sys.getrefcount(a))  # Output: 2"
   ]
  },
  {
   "cell_type": "markdown",
   "metadata": {},
   "source": [
    "## **Conclusion**\n",
    "\n",
    "Understanding references and scope in Python is crucial for managing variable access and memory. Python's scoping rules ensure that variables are only available where they are needed, while references allow variables to point to shared objects in memory. Using tools like ``global``, ``nonlocal``, and understanding the LEGB rule helps control the scope and lifecycle of variables effectively."
   ]
  }
 ],
 "metadata": {
  "kernelspec": {
   "display_name": "env",
   "language": "python",
   "name": "python3"
  },
  "language_info": {
   "codemirror_mode": {
    "name": "ipython",
    "version": 3
   },
   "file_extension": ".py",
   "mimetype": "text/x-python",
   "name": "python",
   "nbconvert_exporter": "python",
   "pygments_lexer": "ipython3",
   "version": "3.12.2"
  }
 },
 "nbformat": 4,
 "nbformat_minor": 2
}
