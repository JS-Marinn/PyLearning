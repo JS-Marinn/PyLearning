{
 "cells": [
  {
   "cell_type": "markdown",
   "metadata": {},
   "source": [
    "# Variables: **Small Integer Caching**\n",
    "\n",
    "<p style=\"text-align: center;\">\n",
    "  <img src=\"../img/small_integer_caching.png\" width=\"1000\">\n",
    "</p>"
   ]
  },
  {
   "cell_type": "markdown",
   "metadata": {},
   "source": [
    "Python optimizes memory usage and performance by implementing small integer caching. This means that certain frequently used integer objects are interned (pre-allocated and shared) to avoid repeatedly creating new objects for the same values.\n",
    "\n",
    "Here’s an in-depth explanation of how small integer caching works, why it’s useful, and how it impacts Python code."
   ]
  },
  {
   "cell_type": "markdown",
   "metadata": {},
   "source": [
    "## **1. What is Small Integer Caching?**\n",
    "\n",
    "In Python, integers are immutable objects, and each time you create a new integer object, memory is allocated for that object. For small integers (typically those in the range ``-5`` to ``256``), Python keeps a pool of pre-created integer objects and reuses them instead of creating a new object every time. This optimization is called small integer caching or integer interning.\n",
    "\n",
    "* Python caches and reuses integers in the range ``-5`` to ``256``.\n",
    "* Integers outside this range are still created as new objects.\n",
    "\n",
    "The idea behind this caching is that small integers are used frequently in programs, so caching them improves memory efficiency and speeds up execution."
   ]
  },
  {
   "cell_type": "markdown",
   "metadata": {},
   "source": [
    "## 2. **How Small Integer Caching Works**\n",
    "\n",
    "When you create an integer within the cached range (e.g., ``x = 10``), Python checks if an object for the number ``10`` already exists in memory. If it does, Python reuses that object. If the number is outside the cached range, Python creates a new integer object in memory."
   ]
  },
  {
   "cell_type": "code",
   "execution_count": null,
   "metadata": {},
   "outputs": [],
   "source": [
    "a = 100\n",
    "b = 200\n",
    "\n",
    "print(a is b)  # Output: True (both refer to the same cached object)"
   ]
  },
  {
   "cell_type": "markdown",
   "metadata": {},
   "source": [
    "Since ``100`` falls within the range of small integer caching, both ``a`` and ``b`` refer to the same object in memory."
   ]
  },
  {
   "cell_type": "markdown",
   "metadata": {},
   "source": [
    "## **3. Effect of Caching for Numbers Outside the Cached Range**\n",
    "   \n",
    "For integers outside the caching range, Python does not cache them. Each time you create a new integer outside this range, Python creates a new object in memory."
   ]
  },
  {
   "cell_type": "code",
   "execution_count": null,
   "metadata": {},
   "outputs": [],
   "source": [
    "x = 500\n",
    "y = 500\n",
    "\n",
    "print(x is y)  # Output: False (two different objects are created)"
   ]
  },
  {
   "cell_type": "markdown",
   "metadata": {},
   "source": [
    "Here, ``500`` is outside the cached range (``-5`` to ``256``), so Python creates separate objects for ``x`` and ``y``, even though they hold the same value."
   ]
  },
  {
   "cell_type": "markdown",
   "metadata": {},
   "source": [
    "## **4. Demonstrating Small Integer Caching**\n",
    "\n",
    "Let’s look at some examples to see the behavior of small integer caching in Python."
   ]
  },
  {
   "cell_type": "markdown",
   "metadata": {},
   "source": [
    "**Cached Integers Example:**"
   ]
  },
  {
   "cell_type": "code",
   "execution_count": null,
   "metadata": {},
   "outputs": [],
   "source": [
    "a = 50\n",
    "b = 50\n",
    "\n",
    "print(a is b)  # Output: True (both refer to the same cached object)\n",
    "print(id(a))   # Output: Memory address of the cached object\n",
    "print(id(b))   # Output: Same memory address as a"
   ]
  },
  {
   "cell_type": "markdown",
   "metadata": {},
   "source": [
    "Both ``a`` and ``b`` refer to the same cached object in memory, as ``50`` is within the cached range."
   ]
  },
  {
   "cell_type": "markdown",
   "metadata": {},
   "source": [
    "**Non-Cached Integers Example:**"
   ]
  },
  {
   "cell_type": "code",
   "execution_count": null,
   "metadata": {},
   "outputs": [],
   "source": [
    "x = 300\n",
    "y = 300\n",
    "\n",
    "print(x is y)  # Output: False (different objects in memory)\n",
    "print(id(x))   # Memory address of x\n",
    "print(id(y))   # Different memory address for y"
   ]
  },
  {
   "cell_type": "markdown",
   "metadata": {},
   "source": [
    "Here, ``300`` is outside the cached range, so ``x`` and ``y`` point to different objects in memory."
   ]
  },
  {
   "cell_type": "markdown",
   "metadata": {},
   "source": [
    "## **5. Why Python Uses Small Integer Caching**\n",
    "   \n",
    "The rationale behind small integer caching is that small numbers (e.g., -5 to 256) are used frequently in most programs. Instead of creating new objects each time an integer in this range is needed, Python reuses pre-existing objects, which has several benefits:\n",
    "\n",
    "* Memory Efficiency: By reusing the same object for frequently used small integers, Python reduces memory consumption.\n",
    "* Performance Optimization: Caching avoids the overhead of repeatedly allocating and deallocating memory for common integers, improving execution speed.\n",
    "\n",
    "This caching behavior is part of Python’s internal optimization mechanism and is not user-configurable. It helps Python perform efficiently without requiring developers to worry about the underlying memory management."
   ]
  },
  {
   "cell_type": "markdown",
   "metadata": {},
   "source": [
    "## **6. Effect on Immutability and Caching**\n",
    "Python integers are immutable objects, meaning their values cannot be changed once they are created. This immutability allows Python to safely cache small integers because you can't modify the value of an existing integer object. If integers were mutable, caching them would lead to issues where changing one variable could inadvertently affect another.\n"
   ]
  },
  {
   "cell_type": "code",
   "execution_count": null,
   "metadata": {},
   "outputs": [],
   "source": [
    "a = 10\n",
    "b = a\n",
    "a += 1\n",
    "\n",
    "print(a)  # Output: 11\n",
    "print(b)  # Output: 10"
   ]
  },
  {
   "cell_type": "markdown",
   "metadata": {},
   "source": [
    "\n",
    "Here, when ``a`` is incremented, Python creates ``a`` new integer object for a (since integers are immutable), so ``b`` remains ``10``. This behavior would not be safe if integers were mutable."
   ]
  },
  {
   "cell_type": "markdown",
   "metadata": {},
   "source": [
    "## **7. Impact on Comparisons (is vs ==)**\n",
    "It’s important to distinguish between the ``is`` operator and the ``==`` operator when working with integers:\n",
    "\n",
    "* ``is`` checks if two variables point to the same object (identity).\n",
    "* ``==`` checks if two variables have the same value (equality).\n",
    "For small integers, ``is`` will return ``True`` because of caching. However, for integers outside the cached range, ``is`` may return ``False``, even if the values are equal."
   ]
  },
  {
   "cell_type": "code",
   "execution_count": null,
   "metadata": {},
   "outputs": [],
   "source": [
    "x = 256\n",
    "y = 256\n",
    "print(x is y)  # True (same object due to caching)\n",
    "\n",
    "x = 257\n",
    "y = 257\n",
    "print(x is y)  # False (different objects for non-cached integers)\n",
    "\n",
    "print(x == y)  # True (values are equal)"
   ]
  },
  {
   "cell_type": "markdown",
   "metadata": {},
   "source": [
    "* In the first case, ``x is y`` is ``True`` because ``256`` is cached.\n",
    "* In the second case, ``257`` is not cached, so ``x`` and ``y`` refer to different objects, but their values are still equal (``x == y``)."
   ]
  },
  {
   "cell_type": "markdown",
   "metadata": {},
   "source": [
    "## **8. Does Caching Apply to All Integers?**\n",
    "No, small integer caching applies only to integers within the range ``-5`` to ``256``. For other immutable types like strings, Python also implements a similar interning mechanism, but the behavior is more complex and depends on the context (e.g., string literals vs. dynamically created strings).\n",
    "\n",
    "Python's small integer caching is an internal implementation detail and should not be relied upon directly in your programs. However, understanding this behavior can help you write more efficient code and avoid unnecessary memory usage."
   ]
  },
  {
   "cell_type": "markdown",
   "metadata": {},
   "source": [
    "## **Conclusion**\n",
    "\n",
    "* **Small Integer Caching:** Python caches integers in the range ``-5`` to ``256`` for performance and memory efficiency. These integers are pre-allocated and shared across the program.\n",
    "* **Impact:** Variables referencing small integers in this range will share the same object in memory, while integers outside this range will create separate objects.\n",
    "* **Immutability**: Since integers are immutable, caching is safe, as the values of integers cannot be changed.\n",
    "* **Performance:** Caching small integers improves memory usage and reduces the overhead of creating new objects for frequently used values.\n",
    "  \n",
    "This optimization is part of Python’s internal mechanisms to improve the performance of common operations involving small integers. While it is good to know about small integer caching, most of the time, Python developers don't need to worry about managing this directly."
   ]
  }
 ],
 "metadata": {
  "kernelspec": {
   "display_name": "env",
   "language": "python",
   "name": "python3"
  },
  "language_info": {
   "codemirror_mode": {
    "name": "ipython",
    "version": 3
   },
   "file_extension": ".py",
   "mimetype": "text/x-python",
   "name": "python",
   "nbconvert_exporter": "python",
   "pygments_lexer": "ipython3",
   "version": "3.12.2"
  }
 },
 "nbformat": 4,
 "nbformat_minor": 2
}
