{
 "cells": [
  {
   "cell_type": "markdown",
   "metadata": {},
   "source": [
    "# Variables: **Naming Conventions**\n",
    "\n",
    "<p style=\"text-align: center;\">\n",
    "  <img src=\"../img/naming-conventions.webp\" width=\"1000\">\n",
    "</p>\n",
    "\n",
    "*Source: [[Link to the original source](https://realpython.com)]*"
   ]
  },
  {
   "cell_type": "markdown",
   "metadata": {},
   "source": [
    "Naming conventions are essential in Python to ensure code readability, maintainability, and consistency. By following established guidelines, developers can write code that is easy to understand and collaborate on. Python's naming conventions are largely influenced by the PEP 8 (Python Enhancement Proposal 8) style guide, which defines standard practices for naming variables, functions, classes, constants, and more.\n",
    "\n",
    "Let’s explore the best practices for naming conventions in Python.\n",
    "\n"
   ]
  },
  {
   "cell_type": "markdown",
   "metadata": {},
   "source": [
    "## **1. General Naming Guidelines**\n",
    "\n",
    "* **Be Descriptive:** Use names that clearly describe what the variable or function does. This improves readability.\n",
    "\n"
   ]
  },
  {
   "cell_type": "code",
   "execution_count": null,
   "metadata": {},
   "outputs": [],
   "source": [
    "file_name = \"data.txt\"  # Clear and descriptive"
   ]
  },
  {
   "cell_type": "markdown",
   "metadata": {},
   "source": [
    "* **Avoid Single-letter Names:** Except for loop counters or simple variables (``i``, ``j``), avoid using single-letter names. They can be confusing and non-descriptive."
   ]
  },
  {
   "cell_type": "markdown",
   "metadata": {},
   "source": [
    "**Bad example:**"
   ]
  },
  {
   "cell_type": "code",
   "execution_count": null,
   "metadata": {},
   "outputs": [],
   "source": [
    "a = 5"
   ]
  },
  {
   "cell_type": "markdown",
   "metadata": {},
   "source": [
    "**Good Example:**"
   ]
  },
  {
   "cell_type": "code",
   "execution_count": null,
   "metadata": {},
   "outputs": [],
   "source": [
    "age = 25"
   ]
  },
  {
   "cell_type": "markdown",
   "metadata": {},
   "source": [
    "* **Consistency**: Stick to one naming convention throughout the codebase for better consistency."
   ]
  },
  {
   "cell_type": "markdown",
   "metadata": {},
   "source": [
    "## **2. Variable Naming**\n",
    "- In Python, variable names should be in snake_case. Snake case uses all lowercase letters and underscores to separate words.\n",
    "\n",
    "  **Example**: \n"
   ]
  },
  {
   "cell_type": "code",
   "execution_count": null,
   "metadata": {},
   "outputs": [],
   "source": [
    "user_name = \"Alice\"\n",
    "total_price = 100.5\n"
   ]
  },
  {
   "cell_type": "markdown",
   "metadata": {},
   "source": [
    "\n",
    "- Avoid using names that overlap with Python's built-in functions or keywords (e.g., list, str, input).\n",
    "\n",
    "  **Bad Example**: \n"
   ]
  },
  {
   "cell_type": "code",
   "execution_count": null,
   "metadata": {},
   "outputs": [],
   "source": [
    "list = [1, 2, 3]  # Overwrites the built-in list function"
   ]
  },
  {
   "cell_type": "markdown",
   "metadata": {},
   "source": [
    "\n",
    "- Names should not start with numbers.\n",
    "\n",
    "  **Bad Example**: \n"
   ]
  },
  {
   "cell_type": "code",
   "execution_count": null,
   "metadata": {},
   "outputs": [],
   "source": [
    "1st_value = 10 "
   ]
  },
  {
   "cell_type": "markdown",
   "metadata": {},
   "source": [
    "## **3. Constant Naming**\n",
    "Constants should be written in UPPERCASE with words separated by underscores. Constants typically represent values that do not change during the program execution."
   ]
  },
  {
   "cell_type": "markdown",
   "metadata": {},
   "source": [
    "* **Use UPPERCASE for constant names:**\n",
    "\n",
    "\n"
   ]
  },
  {
   "cell_type": "code",
   "execution_count": null,
   "metadata": {},
   "outputs": [],
   "source": [
    "MAX_CONNECTIONS = 10\n",
    "PI = 3.14159"
   ]
  },
  {
   "cell_type": "markdown",
   "metadata": {},
   "source": [
    "Python doesn't enforce constants (you can technically modify them), but following this naming convention makes the intention clear to other developers."
   ]
  },
  {
   "cell_type": "markdown",
   "metadata": {},
   "source": [
    "## **4. Function Naming**\n",
    "Functions should follow the snake_case convention (like variables), using lowercase letters with underscores between words. The function name should clearly describe its purpose.\n",
    "\n",
    "* **Functions should be in snake_case:**\n",
    "\n"
   ]
  },
  {
   "cell_type": "code",
   "execution_count": null,
   "metadata": {},
   "outputs": [],
   "source": [
    "def calculate_area(radius):\n",
    "    return 3.14159 * radius * radius"
   ]
  },
  {
   "cell_type": "markdown",
   "metadata": {},
   "source": [
    "* Functions that return a **boolean** value should typically start with words like is, has, or can to indicate they return a True/False value."
   ]
  },
  {
   "cell_type": "code",
   "execution_count": null,
   "metadata": {},
   "outputs": [],
   "source": [
    "def is_valid_user(user_id):\n",
    "    return user_id in user_database"
   ]
  },
  {
   "cell_type": "markdown",
   "metadata": {},
   "source": [
    "## **5. Class Naming**\n",
    "Class names should follow the PascalCase (or CamelCase) convention, where each word starts with an uppercase letter, and there are no underscores between words.\n",
    "\n",
    "**Use PascalCase for class names:**\n"
   ]
  },
  {
   "cell_type": "code",
   "execution_count": null,
   "metadata": {},
   "outputs": [],
   "source": [
    "class UserProfile:\n",
    "    def __init__(self, name, age):\n",
    "        self.name = name\n",
    "        self.age = age"
   ]
  },
  {
   "cell_type": "markdown",
   "metadata": {},
   "source": [
    "Avoid abbreviations unless they are widely understood. The name should describe what the class represents."
   ]
  },
  {
   "cell_type": "markdown",
   "metadata": {},
   "source": [
    "**Bad Example:**"
   ]
  },
  {
   "cell_type": "code",
   "execution_count": null,
   "metadata": {},
   "outputs": [],
   "source": [
    "class UsrProf:  # Not clear what it stands for\n",
    "    ..."
   ]
  },
  {
   "cell_type": "markdown",
   "metadata": {},
   "source": [
    "**Good Example:**"
   ]
  },
  {
   "cell_type": "code",
   "execution_count": null,
   "metadata": {},
   "outputs": [],
   "source": [
    "class UserProfile:\n",
    "    ..."
   ]
  },
  {
   "cell_type": "markdown",
   "metadata": {},
   "source": [
    "## **6. Method Naming (Class Methods)**\n",
    "Methods inside classes should follow the snake_case naming convention, just like regular functions."
   ]
  },
  {
   "cell_type": "code",
   "execution_count": null,
   "metadata": {},
   "outputs": [],
   "source": [
    "class Calculator:\n",
    "    def add_numbers(self, a, b):\n",
    "        return a + b"
   ]
  },
  {
   "cell_type": "markdown",
   "metadata": {},
   "source": [
    "## **7. Module and Package Naming**\n",
    "Modules and packages should be in lowercase, and if necessary, you can use underscores for readability.\n",
    "\n",
    "* **Use lowercase names for modules:**"
   ]
  },
  {
   "cell_type": "code",
   "execution_count": null,
   "metadata": {},
   "outputs": [],
   "source": [
    "import math_tools"
   ]
  },
  {
   "cell_type": "markdown",
   "metadata": {},
   "source": [
    "* Avoid excessively long module names. Keep them concise and clear.\n",
    "\n"
   ]
  },
  {
   "cell_type": "markdown",
   "metadata": {},
   "source": [
    "## **8. Naming Private Variables and Methods**\n",
    "In Python, private variables and methods are indicated by a leading underscore (``_``). This doesn't make the variable or method truly private, but it signals to other developers that it is for internal use only.\n",
    "\n",
    "* **Use a leading underscore to denote a private method or variable:**"
   ]
  },
  {
   "cell_type": "code",
   "execution_count": null,
   "metadata": {},
   "outputs": [],
   "source": [
    "class MyClass:\n",
    "    def __init__(self):\n",
    "        self._private_variable = 42  # For internal use\n",
    "        \n",
    "    def _private_method(self):\n",
    "        print(\"This is a private method\")"
   ]
  },
  {
   "cell_type": "markdown",
   "metadata": {},
   "source": [
    "* **Use double underscores (``__``) to invoke name mangling, which makes it harder to accidentally override attributes in subclasses.**"
   ]
  },
  {
   "cell_type": "code",
   "execution_count": null,
   "metadata": {},
   "outputs": [],
   "source": [
    "class MyClass:\n",
    "    def __init__(self):\n",
    "        self.__mangled_variable = 42  # Name-mangled to prevent accidental access"
   ]
  },
  {
   "cell_type": "markdown",
   "metadata": {},
   "source": [
    "## **9. Dunder (Double Underscore) Methods**\n",
    "Special methods that Python uses internally, known as \"dunder\" methods (short for \"double underscore\"), should always follow the ``__method_name__`` format.\n",
    "\n",
    "* **Avoid defining custom dunder methods unless necessary (e.g., overriding built-in behavior like ``__str__``, ``__init__``).**"
   ]
  },
  {
   "cell_type": "code",
   "execution_count": null,
   "metadata": {},
   "outputs": [],
   "source": [
    "class Person:\n",
    "    def __init__(self, name):\n",
    "        self.name = name\n",
    "\n",
    "    def __str__(self):\n",
    "        return f\"Person: {self.name}\""
   ]
  },
  {
   "cell_type": "markdown",
   "metadata": {},
   "source": [
    "## **10. Naming Exceptions**\n",
    "When creating custom exceptions, the class name should end with the word Error and use PascalCase."
   ]
  },
  {
   "cell_type": "code",
   "execution_count": null,
   "metadata": {},
   "outputs": [],
   "source": [
    "class FileReadError(Exception):\n",
    "    pass"
   ]
  },
  {
   "cell_type": "markdown",
   "metadata": {},
   "source": [
    "## **11. Naming Variables for Loop Counters**\n",
    "In loops, especially when the counter is simple and does not need descriptive names, single-letter names like ``i``, ``j``, or ``k`` are acceptable."
   ]
  },
  {
   "cell_type": "code",
   "execution_count": null,
   "metadata": {},
   "outputs": [],
   "source": [
    "for i in range(10):\n",
    "    print(i)"
   ]
  },
  {
   "cell_type": "markdown",
   "metadata": {},
   "source": [
    "However, for nested loops or complex conditions, use more descriptive names."
   ]
  },
  {
   "cell_type": "markdown",
   "metadata": {},
   "source": [
    "## **12. Global Variables Naming**\n",
    "Global variables, while not encouraged, should follow a similar pattern to constants and be in **UPPERCASE** to differentiate them from regular variables."
   ]
  },
  {
   "cell_type": "code",
   "execution_count": null,
   "metadata": {},
   "outputs": [],
   "source": [
    "GLOBAL_CONFIG = {\"debug\": True}"
   ]
  },
  {
   "cell_type": "markdown",
   "metadata": {},
   "source": [
    "## **13. Avoid Trailing Underscores in Variable Names**\n",
    "Trailing underscores can be used to avoid conflicts with Python keywords."
   ]
  },
  {
   "cell_type": "code",
   "execution_count": null,
   "metadata": {},
   "outputs": [],
   "source": [
    "class_ = \"Physics\"  # Avoids conflict with the keyword 'class'"
   ]
  },
  {
   "cell_type": "markdown",
   "metadata": {},
   "source": [
    "## **14. Avoid Using Double Leading and Trailing Underscores in Custom Variables**\n",
    "Double underscores should only be used for Python's internal methods and system-defined variables, like ``__init__`` or ``__name__``. Avoid creating custom variables with double underscores unless absolutely necessary.\n",
    "\n"
   ]
  },
  {
   "cell_type": "markdown",
   "metadata": {},
   "source": [
    "## **Conclusion**\n",
    "By following these naming conventions:\n",
    "\n",
    "* **Variables**: Use snake_case\n",
    "* **Functions** and Methods: Use snake_case\n",
    "* **Classes**: Use PascalCase\n",
    "* **Constants**: Use UPPERCASE\n",
    "* **Private variables and methods**: Use a leading underscore (_variable)\n",
    "* **Modules**: Use lowercase\n",
    "  \n",
    "Sticking to these guidelines makes your code more readable and helps you follow standard Python practices, which is particularly important when working on collaborative projects or open-source code."
   ]
  }
 ],
 "metadata": {
  "language_info": {
   "name": "python"
  }
 },
 "nbformat": 4,
 "nbformat_minor": 2
}
