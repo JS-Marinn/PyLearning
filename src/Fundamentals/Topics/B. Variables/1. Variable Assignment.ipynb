{
 "cells": [
  {
   "cell_type": "markdown",
   "metadata": {},
   "source": [
    "# Variables: **Variable Assignment**\n",
    "\n",
    "<p style=\"text-align: center;\">\n",
    "  <img src=\"../img/variables.webp\" width=\"1000\">\n",
    "</p>"
   ]
  },
  {
   "cell_type": "markdown",
   "metadata": {},
   "source": [
    "> ### ⚠️ **Warning!** Some items cover more advanced topics that will be covered in more depth later. They are included here for future reference. \n",
    "> * #### Topics that will be covered soon will be marked with: 🔶 \n",
    "> \n",
    "> * #### Topics that will be covered further away will be marked with: 🔴"
   ]
  },
  {
   "cell_type": "markdown",
   "metadata": {},
   "source": [
    "## 1 **Basic Assignment**\n",
    "\n",
    "In Python, the assignment operator ``=`` is used to assign values to variables.\n"
   ]
  },
  {
   "cell_type": "code",
   "execution_count": null,
   "metadata": {},
   "outputs": [],
   "source": [
    "x = 10\n",
    "y = \"Hello\"\n"
   ]
  },
  {
   "cell_type": "markdown",
   "metadata": {},
   "source": [
    "In the above example, the integer ``10`` is assigned to ``x``, and the string ``\"Hello\"`` is assigned to ``y``."
   ]
  },
  {
   "cell_type": "markdown",
   "metadata": {},
   "source": [
    "## **Multiple Assignments (Tuple Unpacking)** 🔴\n",
    "\n",
    "Python allows you to assign multiple variables at once in a single line, which is called tuple unpacking."
   ]
  },
  {
   "cell_type": "code",
   "execution_count": null,
   "metadata": {},
   "outputs": [],
   "source": [
    "x, y, z = 1, 2, 3"
   ]
  },
  {
   "cell_type": "markdown",
   "metadata": {},
   "source": [
    "Here, ``x`` is assigned ``1``, ``y`` is assigned ``2``, and ``z`` is assigned ``3``. This technique is often used when you need to assign multiple variables simultaneously."
   ]
  },
  {
   "cell_type": "markdown",
   "metadata": {},
   "source": [
    "### **Swapping Variables:**\n",
    "Python allows swapping the values of two variables without needing a temporary variable."
   ]
  },
  {
   "cell_type": "code",
   "execution_count": null,
   "metadata": {},
   "outputs": [],
   "source": [
    "a, b = 5, 10\n",
    "a, b = b, a\n",
    "print(a, b)  # Output: 10 5"
   ]
  },
  {
   "cell_type": "markdown",
   "metadata": {},
   "source": [
    "In this example, the values of ``a`` and ``b`` are swapped in one line."
   ]
  },
  {
   "cell_type": "markdown",
   "metadata": {},
   "source": [
    "## 3. **Unpacking with Lists and Tuples**\n",
    "\n",
    "You can unpack values from lists or tuples into variables."
   ]
  },
  {
   "cell_type": "markdown",
   "metadata": {},
   "source": [
    "### **Unpacking Tuples:**\n"
   ]
  },
  {
   "cell_type": "code",
   "execution_count": null,
   "metadata": {},
   "outputs": [],
   "source": [
    "coordinates = (4, 5)\n",
    "x, y = coordinates\n",
    "print(x, y)  # Output: 4 5"
   ]
  },
  {
   "cell_type": "markdown",
   "metadata": {},
   "source": [
    "Here, ``x`` gets the value ``4`` and y gets the value ``5`` by unpacking the tuple ``coordinates``."
   ]
  },
  {
   "cell_type": "markdown",
   "metadata": {},
   "source": [
    "**Unpacking Lists:**"
   ]
  },
  {
   "cell_type": "code",
   "execution_count": null,
   "metadata": {},
   "outputs": [],
   "source": [
    "values = [10, 20, 30]\n",
    "a, b, c = values\n",
    "print(a, b, c)  # Output: 10 20 30"
   ]
  },
  {
   "cell_type": "markdown",
   "metadata": {},
   "source": [
    "## 4. **Extended Unpacking (Using ``*``)**\n",
    "\n",
    "Python allows extended unpacking, where the ``*`` operator can be used to collect multiple values into a list. This is useful when you don’t know how many values there are, or when you want to collect remaining values into a variable.\n",
    "\n",
    "\n"
   ]
  },
  {
   "cell_type": "code",
   "execution_count": null,
   "metadata": {},
   "outputs": [],
   "source": [
    "numbers = [1, 2, 3, 4, 5]\n",
    "first, *middle, last = numbers\n",
    "print(first)   # Output: 1\n",
    "print(middle)  # Output: [2, 3, 4]\n",
    "print(last)    # Output: 5"
   ]
  },
  {
   "cell_type": "markdown",
   "metadata": {},
   "source": [
    "In this case, ``first`` gets the first element, ``last`` gets the last element, and ``middle`` collects all the elements in between as a list."
   ]
  },
  {
   "cell_type": "markdown",
   "metadata": {},
   "source": [
    "### **With strings**"
   ]
  },
  {
   "cell_type": "code",
   "execution_count": null,
   "metadata": {},
   "outputs": [],
   "source": [
    "name = \"Python\"\n",
    "first_letter, *middle_letters, last_letter = name\n",
    "print(first_letter)   # Output: P\n",
    "print(middle_letters) # Output: ['y', 't', 'h', 'o']\n",
    "print(last_letter)    # Output: n"
   ]
  },
  {
   "cell_type": "markdown",
   "metadata": {},
   "source": [
    "## 5. **Assigning the Same Value to Multiple Variables**\n",
    "\n",
    "Python allows assigning the same value to multiple variables in a single line.\n"
   ]
  },
  {
   "cell_type": "code",
   "execution_count": null,
   "metadata": {},
   "outputs": [],
   "source": [
    "x = y = z = 0\n",
    "print(x)\n",
    "print(y)\n",
    "print(z)"
   ]
  },
  {
   "cell_type": "markdown",
   "metadata": {},
   "source": [
    "This assigns ``0`` to all three variables ``x``, ``y``, and ``z``.\n",
    "\n"
   ]
  },
  {
   "cell_type": "markdown",
   "metadata": {},
   "source": [
    "## 6. **Chained Assignment**\n",
    "\n",
    "In Python, you can use chained assignment to assign the same object to multiple variables at the same time.\n",
    "\n",
    "\n"
   ]
  },
  {
   "cell_type": "code",
   "execution_count": null,
   "metadata": {},
   "outputs": [],
   "source": [
    "a = b = c = 42"
   ]
  },
  {
   "cell_type": "markdown",
   "metadata": {},
   "source": [
    "Here, ``a``, ``b``, and ``c`` all refer to the same integer ``42``. If ``42`` is an immutable object, it is safe to share the same value between variables. However, this can lead to issues with mutable objects."
   ]
  },
  {
   "cell_type": "markdown",
   "metadata": {},
   "source": [
    "## 7. **Assigning Values with Arithmetic Operations**\n",
    "\n",
    "You can perform arithmetic operations directly during assignment."
   ]
  },
  {
   "cell_type": "code",
   "execution_count": null,
   "metadata": {},
   "outputs": [],
   "source": [
    "x = 10\n",
    "x += 5  # Same as x = x + 5\n",
    "print(x)  # Output: 15"
   ]
  },
  {
   "cell_type": "markdown",
   "metadata": {},
   "source": [
    "Python supports the following shorthand operators for assignment with operations:\n",
    "\n",
    "* ``+= `` (addition)\n",
    "* ``-= `` (subtraction)\n",
    "* ``*= `` (multiplication)\n",
    "* ``/= `` (division)\n",
    "* ``//=``  (floor division)\n",
    "* ``**=``  (exponentiation)\n",
    "* ``%= `` (modulo)"
   ]
  },
  {
   "cell_type": "markdown",
   "metadata": {},
   "source": [
    "## 8. **Assigning Values with the ``Walrus`` Operator (``:=``)**\n",
    "\n",
    "The walrus operator (``:=``), introduced in Python 3.8, allows assignment and return of a value within an expression. This is particularly useful in loops or conditional statements.\n"
   ]
  },
  {
   "cell_type": "code",
   "execution_count": null,
   "metadata": {},
   "outputs": [],
   "source": [
    "if (n := len(\"Hello\")) > 3:\n",
    "    print(f\"String length is {n}\")"
   ]
  },
  {
   "cell_type": "markdown",
   "metadata": {},
   "source": [
    "This assigns the length of the string to ``n`` and checks if it's greater than 3, all within the ``if`` statement."
   ]
  },
  {
   "cell_type": "markdown",
   "metadata": {},
   "source": [
    "## 9. **Constants**\n",
    "\n",
    "By convention, constants in Python are written in all uppercase letters. Although Python doesn't enforce constants, it's a common practice to indicate that a variable is intended to be constant by naming it in uppercase.\n"
   ]
  },
  {
   "cell_type": "code",
   "execution_count": 20,
   "metadata": {},
   "outputs": [],
   "source": [
    "PI = 3.14159\n",
    "GRAVITY = 9.8"
   ]
  },
  {
   "cell_type": "markdown",
   "metadata": {},
   "source": [
    "Here, **PI** and **GRAVITY** are considered constants, and other developers are expected not to modify their values."
   ]
  },
  {
   "cell_type": "markdown",
   "metadata": {},
   "source": [
    "## 10. **Disallowing Assignment to Built-in Constants or Keywords**\n",
    "    \n",
    "It’s important not to use Python’s built-in constants or keywords (like True, False, None) as variable names. Doing so can cause unexpected behavior and make your code difficult to debug."
   ]
  },
  {
   "cell_type": "code",
   "execution_count": null,
   "metadata": {},
   "outputs": [],
   "source": [
    "True = 10  # This will raise a SyntaxError"
   ]
  },
  {
   "cell_type": "markdown",
   "metadata": {},
   "source": [
    "## 11. **Unpacking with Dictionaries**\n",
    "You can also use unpacking with dictionaries. For example, you can unpack a dictionary’s keys or values using the ** operator."
   ]
  },
  {
   "cell_type": "code",
   "execution_count": null,
   "metadata": {},
   "outputs": [],
   "source": [
    "data = {\"name\": \"Alice\", \"age\": 30}\n",
    "print(\"{name} is {age} years old.\".format(**data))  # Output: Alice is 30 years old."
   ]
  },
  {
   "cell_type": "markdown",
   "metadata": {},
   "source": [
    "Here, the ****data** unpacks the dictionary and passes its keys and values as arguments to the **format()** method."
   ]
  },
  {
   "cell_type": "markdown",
   "metadata": {},
   "source": [
    "## 12. **Unpacking in Function Arguments**\n",
    "Python allows unpacking arguments from lists, tuples, or dictionaries when calling functions."
   ]
  },
  {
   "cell_type": "markdown",
   "metadata": {},
   "source": [
    "\n",
    "**Example (List Unpacking):**"
   ]
  },
  {
   "cell_type": "code",
   "execution_count": null,
   "metadata": {},
   "outputs": [],
   "source": [
    "def add(a, b, c):\n",
    "    return a + b + c\n",
    "\n",
    "numbers = [1, 2, 3]\n",
    "print(add(*numbers))  # Output: 6"
   ]
  },
  {
   "cell_type": "markdown",
   "metadata": {},
   "source": [
    "**Example (Dictionary Unpacking):**"
   ]
  },
  {
   "cell_type": "code",
   "execution_count": null,
   "metadata": {},
   "outputs": [],
   "source": [
    "def display_info(name, age):\n",
    "    print(f\"{name} is {age} years old.\")\n",
    "\n",
    "info = {\"name\": \"Bob\", \"age\": 40}\n",
    "display_info(**info)  # Output: Bob is 40 years old."
   ]
  },
  {
   "cell_type": "markdown",
   "metadata": {},
   "source": [
    "## **Conclusion**\n",
    "Python provides a wide range of assignment techniques:\n",
    "\n",
    "* **Basic assignment** for assigning values to variables.\n",
    "* **Multiple assignment** and unpacking for handling multiple variables in a concise manner.\n",
    "* **Extended unpacking** using the ``*`` operator for more complex scenarios.\n",
    "* **Chained assignment** for assigning the same value to multiple variables at once.\n",
    "* **The walrus operator** (``:=``) for in-line assignments within expressions.\n",
    "  \n",
    "These tools make Python assignments flexible, concise, and readable, allowing you to manage variables more effectively in different situations."
   ]
  }
 ],
 "metadata": {
  "kernelspec": {
   "display_name": "env",
   "language": "python",
   "name": "python3"
  },
  "language_info": {
   "codemirror_mode": {
    "name": "ipython",
    "version": 3
   },
   "file_extension": ".py",
   "mimetype": "text/x-python",
   "name": "python",
   "nbconvert_exporter": "python",
   "pygments_lexer": "ipython3",
   "version": "3.12.2"
  }
 },
 "nbformat": 4,
 "nbformat_minor": 2
}
