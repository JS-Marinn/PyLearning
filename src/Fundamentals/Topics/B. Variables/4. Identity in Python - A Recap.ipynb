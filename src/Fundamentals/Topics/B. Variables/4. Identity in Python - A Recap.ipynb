{
 "cells": [
  {
   "cell_type": "markdown",
   "metadata": {},
   "source": [
    "# Variables: **Identity in Python: A Recap**\n",
    "\n",
    "<p style=\"text-align: center;\">\n",
    "  <img src=\"../img/python.png\" width=\"1000\">\n",
    "</p>"
   ]
  },
  {
   "cell_type": "markdown",
   "metadata": {},
   "source": [
    "In Python, **identity** refers to the uniqueness of an object. Every object in memory has a unique identity that differentiates it from other objects. Understanding how identity works is crucial when working with variables, comparisons, and memory management.\n",
    "\n",
    "Let’s summarize the key concepts of identity in Python, covering:\n",
    "\n",
    "* What is object identity?\n",
    "* The ``id()`` function\n",
    "* The ``is`` operator vs. ``==`` operator\n",
    "* Identity for mutable and immutable objects\n",
    "* Identity in function arguments and assignments"
   ]
  },
  {
   "cell_type": "markdown",
   "metadata": {},
   "source": [
    "## **1. What is Object Identity?**\n",
    "\n",
    "In Python, the identity of an object is a unique integer identifier that corresponds to the memory address of the object. Two variables can point to the same object (same identity), or to different objects (different identities).\n",
    "\n",
    "Each object in Python has:\n",
    "\n",
    "* **Type** (e.g., ``int``, ``str``, ``list``)\n",
    "* **Value** (the data it holds)\n",
    "* **Identity** (the unique identifier associated with the memory location of the object)"
   ]
  },
  {
   "cell_type": "code",
   "execution_count": null,
   "metadata": {},
   "outputs": [],
   "source": [
    "x = 42\n",
    "print(id(x))  # Outputs the memory address or unique ID of the object 42"
   ]
  },
  {
   "cell_type": "markdown",
   "metadata": {},
   "source": [
    "Here, ``id(x)`` returns a unique identifier for the object 42 that resides in memory."
   ]
  },
  {
   "cell_type": "markdown",
   "metadata": {},
   "source": [
    "## **2. The ``id()`` Function**\n",
    "\n",
    "The ``id()`` function returns the identity of an object, which is the object's memory address. This identity is unique for the object during its lifetime."
   ]
  },
  {
   "cell_type": "code",
   "execution_count": null,
   "metadata": {},
   "outputs": [],
   "source": [
    "a = 10\n",
    "b = a\n",
    "\n",
    "print(id(a))  # Outputs the identity (memory address) of the object 10\n",
    "print(id(b))  # Outputs the same identity as a, because a and b refer to the same object"
   ]
  },
  {
   "cell_type": "markdown",
   "metadata": {},
   "source": [
    "When two variables reference the same object, their ``id()`` values will be the same."
   ]
  },
  {
   "cell_type": "markdown",
   "metadata": {},
   "source": [
    "## **3. The ``is`` Operator vs. ``==`` Operator**\n",
    "In Python, ``is`` and ``==`` are both comparison operators, but they serve different purposes:\n",
    "\n",
    "* ``is``: Compares the identity of two objects. It checks if two variables point to the same object in memory.\n",
    "* ``==``: Compares the values of two objects. It checks if the values are equal, regardless of whether they are the same object."
   ]
  },
  {
   "cell_type": "markdown",
   "metadata": {},
   "source": [
    "**Example of ``is``:**"
   ]
  },
  {
   "cell_type": "code",
   "execution_count": null,
   "metadata": {},
   "outputs": [],
   "source": [
    "x = [1, 2, 3]\n",
    "y = x\n",
    "z = [1, 2, 3]\n",
    "\n",
    "print(x is y)  # True (x and y refer to the same object)\n",
    "print(x is z)  # False (x and z have the same value but are different objects)"
   ]
  },
  {
   "cell_type": "markdown",
   "metadata": {},
   "source": [
    "**Example of ``==``:**"
   ]
  },
  {
   "cell_type": "code",
   "execution_count": null,
   "metadata": {},
   "outputs": [],
   "source": [
    "x = [1, 2, 3]\n",
    "z = [1, 2, 3]\n",
    "\n",
    "print(x == z)  # True (x and z have the same value)"
   ]
  },
  {
   "cell_type": "markdown",
   "metadata": {},
   "source": [
    "* ``x is y`` is ``True`` because ``x`` and ``y`` are the same object.\n",
    "* ``x == z`` is ``True`` because ``x`` and ``z`` have the same value, but x is z is False because they are different objects."
   ]
  },
  {
   "cell_type": "markdown",
   "metadata": {},
   "source": [
    "<p style=\"text-align: center;\">\n",
    "  <img src=\"../img/mutable-and-Immutable.webp\" width=\"1000\">\n",
    "</p>\n",
    "\n",
    "*Source: [[Link to the original source](https://realpython.com)]*"
   ]
  },
  {
   "cell_type": "markdown",
   "metadata": {},
   "source": [
    "## **4. Identity for Mutable and Immutable Objects**\n",
    "The behavior of identity is different for mutable and immutable objects in Python:\n",
    "\n",
    "* **Immutable objects** (e.g., integers, strings, tuples) cannot be changed once created, so Python often reuses objects with the same value.\n",
    "* **Mutable objects** (e.g., lists, dictionaries) can be modified, so their identity will remain the same as long as the object is not reassigned."
   ]
  },
  {
   "cell_type": "markdown",
   "metadata": {},
   "source": [
    "**Immutable Example (String):**"
   ]
  },
  {
   "cell_type": "code",
   "execution_count": null,
   "metadata": {},
   "outputs": [],
   "source": [
    "a = \"hello\"\n",
    "b = \"hello\"\n",
    "\n",
    "print(a is b)  # True (Python reuses immutable string objects)"
   ]
  },
  {
   "cell_type": "markdown",
   "metadata": {},
   "source": [
    "**Mutable Example (List):**"
   ]
  },
  {
   "cell_type": "code",
   "execution_count": null,
   "metadata": {},
   "outputs": [],
   "source": [
    "list1 = [1, 2, 3]\n",
    "list2 = list1\n",
    "\n",
    "list2.append(4)\n",
    "\n",
    "print(list1 is list2)  # True (both refer to the same list object)\n",
    "print(list1)  # Output: [1, 2, 3, 4]"
   ]
  },
  {
   "cell_type": "markdown",
   "metadata": {},
   "source": [
    "In this case, since lists are mutable, modifying ``list2`` affects ``list1`` because both variables refer to the same object."
   ]
  },
  {
   "cell_type": "markdown",
   "metadata": {},
   "source": [
    "## **5. Identity in Function Arguments and Assignments**\n",
    "\n",
    "When you pass variables to functions or assign them to other variables, Python passes references to the objects, not the actual data. Whether changes affect the original variable depends on whether the object is mutable or immutable."
   ]
  },
  {
   "cell_type": "markdown",
   "metadata": {},
   "source": [
    "**Example with Immutable Object (Integer):**"
   ]
  },
  {
   "cell_type": "code",
   "execution_count": null,
   "metadata": {},
   "outputs": [],
   "source": [
    "def modify(n):\n",
    "    n += 10\n",
    "    print(\"Inside function:\", n)\n",
    "\n",
    "x = 20\n",
    "modify(x)\n",
    "print(\"Outside function:\", x)  # Output: 20 (x is unchanged)"
   ]
  },
  {
   "cell_type": "markdown",
   "metadata": {},
   "source": [
    "Since integers are immutable, modifying ``n`` inside the function does not affect ``x`` outside the function."
   ]
  },
  {
   "cell_type": "markdown",
   "metadata": {},
   "source": [
    "**Example with Mutable Object (List):**"
   ]
  },
  {
   "cell_type": "code",
   "execution_count": null,
   "metadata": {},
   "outputs": [],
   "source": [
    "def modify_list(lst):\n",
    "    lst.append(100)\n",
    "    print(\"Inside function:\", lst)\n",
    "\n",
    "my_list = [1, 2, 3]\n",
    "modify_list(my_list)\n",
    "print(\"Outside function:\", my_list)  # Output: [1, 2, 3, 100]"
   ]
  },
  {
   "cell_type": "markdown",
   "metadata": {},
   "source": [
    "Since lists are mutable, modifying the list inside the function affects the original ``my_list`` outside the function."
   ]
  },
  {
   "cell_type": "markdown",
   "metadata": {},
   "source": [
    "## **6. Identity and Small Integer Caching**\n",
    " \n",
    "As discussed in the previous section on small integer caching, Python reuses the same objects for integers in the range ``-5`` to ``256``. This means that integers within this range will always have the same identity, even when created multiple times."
   ]
  },
  {
   "cell_type": "code",
   "execution_count": null,
   "metadata": {},
   "outputs": [],
   "source": [
    "a = 100\n",
    "b = 100\n",
    "\n",
    "print(a is b)  # True (cached small integer)"
   ]
  },
  {
   "cell_type": "markdown",
   "metadata": {},
   "source": [
    "For integers outside this range, Python creates new objects, and thus they will have different identities."
   ]
  },
  {
   "cell_type": "markdown",
   "metadata": {},
   "source": [
    "## **7. Aliasing and Identity**\n",
    "When two or more variables refer to the same object, it is called aliasing. These variables share the same object identity, meaning that changes made through one alias affect the others."
   ]
  },
  {
   "cell_type": "code",
   "execution_count": null,
   "metadata": {},
   "outputs": [],
   "source": [
    "a = [1, 2, 3]\n",
    "b = a  # b is an alias for a\n",
    "\n",
    "b.append(4)\n",
    "print(a)  # Output: [1, 2, 3, 4] (both a and b refer to the same list)"
   ]
  },
  {
   "cell_type": "markdown",
   "metadata": {},
   "source": [
    "Both ``a`` and ``b`` refer to the same list object, so modifying ``b`` also affects ``a``."
   ]
  },
  {
   "cell_type": "markdown",
   "metadata": {},
   "source": [
    "## **8. Memory Management and Identity**\n",
    "   \n",
    "Python automatically manages memory for objects using a technique called reference counting. When an object has no more references pointing to it, Python deallocates its memory. Object identity remains consistent while the object is alive."
   ]
  },
  {
   "cell_type": "code",
   "execution_count": null,
   "metadata": {},
   "outputs": [],
   "source": [
    "x = [1, 2, 3]\n",
    "y = x\n",
    "\n",
    "print(id(x))  # Outputs the identity of the list object\n",
    "del x  # Removes reference x\n",
    "print(id(y))  # Same identity as before, because y still refers to the list"
   ]
  },
  {
   "cell_type": "markdown",
   "metadata": {},
   "source": [
    "Once all references to an object are deleted, Python automatically reclaims the memory used by the object (garbage collection)."
   ]
  },
  {
   "cell_type": "markdown",
   "metadata": {},
   "source": [
    "## **Conclusion**\n",
    "\n",
    "* **Identity in Python** refers to the unique identifier (memory address) of an object, returned by the ``id()`` function.\n",
    "* The ``is`` **operator** checks for object identity, while``== checks for value equality.\n",
    "* **Immutable objects** (like integers, strings) may have shared identities for objects with the same value, especially in the case of small integer caching.\n",
    "* **Mutable objects** retain their identity even when their contents are modified.\n",
    "* **Aliasing** occurs when two variables refer to the same object, meaning they share the same identity.\n",
    "  \n",
    "Understanding identity helps clarify how Python handles variables, object references, and memory management. It also highlights the importance of distinguishing between identity and equality, especially when working with mutable objects."
   ]
  }
 ],
 "metadata": {
  "kernelspec": {
   "display_name": "env",
   "language": "python",
   "name": "python3"
  },
  "language_info": {
   "codemirror_mode": {
    "name": "ipython",
    "version": 3
   },
   "file_extension": ".py",
   "mimetype": "text/x-python",
   "name": "python",
   "nbconvert_exporter": "python",
   "pygments_lexer": "ipython3",
   "version": "3.12.2"
  }
 },
 "nbformat": 4,
 "nbformat_minor": 2
}
