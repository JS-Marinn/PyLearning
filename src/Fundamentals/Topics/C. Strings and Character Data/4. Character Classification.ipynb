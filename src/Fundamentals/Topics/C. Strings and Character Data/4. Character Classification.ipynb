{
 "cells": [
  {
   "cell_type": "markdown",
   "metadata": {},
   "source": [
    "# Strings and Character Data: **Character Classification**"
   ]
  },
  {
   "cell_type": "markdown",
   "metadata": {},
   "source": [
    "Character classification involves checking specific properties of characters within a string, such as whether they are alphanumeric, digits, alphabetic, uppercase, lowercase, etc. Python provides several built-in string methods to classify characters efficiently. These methods are typically used to validate user input, process text, and perform data cleaning.\n",
    "\n",
    "Here are the primary character classification methods in Python:\n",
    "\n"
   ]
  },
  {
   "cell_type": "markdown",
   "metadata": {},
   "source": [
    "## **1. ``isalnum()``**\n",
    "The ``isalnum()`` method checks whether all characters in a string are alphanumeric, meaning they consist of letters or digits. If the string contains only alphanumeric characters and is not empty, it returns ``True``. Otherwise, it returns ``False``."
   ]
  },
  {
   "cell_type": "code",
   "execution_count": null,
   "metadata": {},
   "outputs": [],
   "source": [
    "text = \"Python3\"\n",
    "result = text.isalnum()\n",
    "print(result)  # Output: True\n",
    "\n",
    "text_with_space = \"Python 3\"\n",
    "print(text_with_space.isalnum())  # Output: False (contains a space)"
   ]
  },
  {
   "cell_type": "markdown",
   "metadata": {},
   "source": [
    "## **2. ``isalpha()``**\n",
    "The ``isalpha()`` method checks whether all characters in a string are alphabetic (letters only, no digits or special characters). If all characters are alphabetic and the string is not empty, it returns ``True``."
   ]
  },
  {
   "cell_type": "code",
   "execution_count": null,
   "metadata": {},
   "outputs": [],
   "source": [
    "text = \"Python\"\n",
    "print(text.isalpha())  # Output: True\n",
    "\n",
    "text_with_number = \"Python3\"\n",
    "print(text_with_number.isalpha())  # Output: False (contains a digit)"
   ]
  },
  {
   "cell_type": "markdown",
   "metadata": {},
   "source": [
    "## **3. ``isdigit()``**\n",
    "The ``isdigit()`` method checks whether all characters in a string are digits (0-9). If all characters are digits and the string is not empty, it returns ``True``."
   ]
  },
  {
   "cell_type": "code",
   "execution_count": null,
   "metadata": {},
   "outputs": [],
   "source": [
    "text = \"12345\"\n",
    "print(text.isdigit())  # Output: True\n",
    "\n",
    "text_with_letters = \"123abc\"\n",
    "print(text_with_letters.isdigit())  # Output: False (contains letters)"
   ]
  },
  {
   "cell_type": "markdown",
   "metadata": {},
   "source": [
    "## **4. ``isdecimal()``**\n",
    "The ``isdecimal()`` method is similar to ``isdigit()``, but it is stricter in checking only decimal characters (i.e., numbers that are part of a decimal number system). This method is primarily used with Unicode characters, where it distinguishes between different types of numeric characters."
   ]
  },
  {
   "cell_type": "code",
   "execution_count": null,
   "metadata": {},
   "outputs": [],
   "source": [
    "text = \"12345\"\n",
    "print(text.isdecimal())  # Output: True\n",
    "\n",
    "text_with_superscript = \"123\\u00b2\"  # \\u00b2 is a superscript 2\n",
    "print(text_with_superscript.isdecimal())  # Output: False"
   ]
  },
  {
   "cell_type": "markdown",
   "metadata": {},
   "source": [
    "## **5. ``isnumeric()``**\n",
    "The ``isnumeric()`` method checks whether all characters in a string are numeric. This includes digits (0-9) and characters from different languages (like Roman numerals, superscripts, fractions, etc.). If all characters are numeric, it returns ``True``."
   ]
  },
  {
   "cell_type": "code",
   "execution_count": null,
   "metadata": {},
   "outputs": [],
   "source": [
    "text = \"12345\"\n",
    "print(text.isnumeric())  # Output: True\n",
    "\n",
    "fraction = \"½\"  # Unicode for fraction 1/2\n",
    "print(fraction.isnumeric())  # Output: True\n",
    "\n",
    "text_with_letters = \"123abc\"\n",
    "print(text_with_letters.isnumeric())  # Output: False"
   ]
  },
  {
   "cell_type": "markdown",
   "metadata": {},
   "source": [
    "## **6. ``isspace()``**\n",
    "The ``isspace(``) method checks whether all characters in a string are whitespace characters (spaces, tabs, newlines, etc.). If the string consists entirely of whitespace characters and is not empty, it returns ``True``.\n",
    "\n"
   ]
  },
  {
   "cell_type": "code",
   "execution_count": null,
   "metadata": {},
   "outputs": [],
   "source": [
    "space = \"   \"\n",
    "print(space.isspace())  # Output: True\n",
    "\n",
    "mixed_text = \"Python  \"\n",
    "print(mixed_text.isspace())  # Output: False (contains letters)"
   ]
  },
  {
   "cell_type": "markdown",
   "metadata": {},
   "source": [
    "## **7. ``isupper()``**\n",
    "The ``isupper()`` method checks whether all alphabetic characters in a string are uppercase. Non-alphabetic characters are ignored. If all alphabetic characters are uppercase and the string contains at least one alphabetic character, it returns ``True``."
   ]
  },
  {
   "cell_type": "code",
   "execution_count": null,
   "metadata": {},
   "outputs": [],
   "source": [
    "text = \"PYTHON\"\n",
    "print(text.isupper())  # Output: True\n",
    "\n",
    "mixed_case_text = \"Python\"\n",
    "print(mixed_case_text.isupper())  # Output: False"
   ]
  },
  {
   "cell_type": "markdown",
   "metadata": {},
   "source": [
    "## **8. ``islower()``**\n",
    "The ``islower()`` method checks whether all alphabetic characters in a string are lowercase. Non-alphabetic characters are ignored. If all alphabetic characters are lowercase and the string contains at least one alphabetic character, it returns ``True``."
   ]
  },
  {
   "cell_type": "code",
   "execution_count": null,
   "metadata": {},
   "outputs": [],
   "source": [
    "text = \"python\"\n",
    "print(text.islower())  # Output: True\n",
    "\n",
    "mixed_case_text = \"Python\"\n",
    "print(mixed_case_text.islower())  # Output: False "
   ]
  },
  {
   "cell_type": "markdown",
   "metadata": {},
   "source": [
    "## **9. ``istitle()``**\n",
    "The`` istitle()`` method checks whether a string follows title case rules, meaning each word in the string starts with an uppercase letter followed by lowercase letters. If the string meets this condition and is not empty, it returns ``True``."
   ]
  },
  {
   "cell_type": "code",
   "execution_count": null,
   "metadata": {},
   "outputs": [],
   "source": [
    "text = \"Python Is Fun\"\n",
    "print(text.istitle())  # Output: True\n",
    "\n",
    "text_not_title_case = \"python Is Fun\"\n",
    "print(text_not_title_case.istitle())  # Output: False"
   ]
  },
  {
   "cell_type": "markdown",
   "metadata": {},
   "source": [
    "## **10. ``startswith()`` and ``endswith()``**\n",
    "The ``startswith()`` method checks if a string starts with a specified prefix, and ``endswith()`` checks if a string ends with a specified suffix. Both return ``True`` or ``False`` based on the presence of the prefix or suffix."
   ]
  },
  {
   "cell_type": "code",
   "execution_count": null,
   "metadata": {},
   "outputs": [],
   "source": [
    "text = \"Python is fun\"\n",
    "print(text.startswith(\"Python\"))  # Output: True\n",
    "print(text.endswith(\"fun\"))  # Output: True"
   ]
  },
  {
   "cell_type": "markdown",
   "metadata": {},
   "source": [
    "## **Use Case: Validating User Input**\n",
    "Character classification is often used for validating input, such as checking if a string contains only alphabetic characters (e.g., for names) or only numeric characters (e.g., for phone numbers)."
   ]
  },
  {
   "cell_type": "code",
   "execution_count": null,
   "metadata": {},
   "outputs": [],
   "source": [
    "username = input(\"Enter your username: \")\n",
    "\n",
    "if username.isalnum():\n",
    "    print(\"Valid username\")\n",
    "else:\n",
    "    print(\"Invalid username. Only letters and numbers are allowed.\")"
   ]
  },
  {
   "cell_type": "markdown",
   "metadata": {},
   "source": [
    "This example checks if the username consists only of alphanumeric characters.\n",
    "\n"
   ]
  },
  {
   "cell_type": "markdown",
   "metadata": {},
   "source": [
    "## **Summary of Character Classification Methods**\n",
    "\n",
    "| Método        | Descripción                                              | Ejemplo de salida                          |\n",
    "|---------------|----------------------------------------------------------|--------------------------------------------|\n",
    "| `isalnum()`   | Retorna `True` si todos los caracteres son alfanuméricos  | `\"Python3\".isalnum()` → `True`             |\n",
    "| `isalpha()`   | Retorna `True` si todos los caracteres son alfabéticos    | `\"Python\".isalpha()` → `True`              |\n",
    "| `isdigit()`   | Retorna `True` si todos los caracteres son dígitos        | `\"12345\".isdigit()` → `True`               |\n",
    "| `isdecimal()` | Retorna `True` si todos los caracteres son dígitos decimales| `\"12345\".isdecimal()` → `True`           |\n",
    "| `isnumeric()` | Retorna `True` si todos los caracteres son numéricos      | `\"½\".isnumeric()` → `True`                 |\n",
    "| `isspace()`   | Retorna `True` si todos los caracteres son espacios en blanco | `\" \".isspace()` → `True`               |\n",
    "| `isupper()`   | Retorna `True` si todos los caracteres alfabéticos son mayúsculas | `\"PYTHON\".isupper()` → `True`       |\n",
    "| `islower()`   | Retorna `True` si todos los caracteres alfabéticos son minúsculas | `\"python\".islower()` → `True`       |\n",
    "| `istitle()`   | Retorna `True` si la cadena está en formato de título     | `\"Python Is Fun\".istitle()` → `True`       |\n",
    "| `startswith()`| Retorna `True` si la cadena empieza con el prefijo especificado | `\"Python\".startswith(\"Py\")` → `True`  |\n",
    "| `endswith()`  | Retorna `True` si la cadena termina con el sufijo especificado | `\"Python\".endswith(\"on\")` → `True`    |\n",
    "\n",
    "\n",
    "These methods are essential for input validation, text processing, and normalization in Python."
   ]
  }
 ],
 "metadata": {
  "language_info": {
   "name": "python"
  }
 },
 "nbformat": 4,
 "nbformat_minor": 2
}
