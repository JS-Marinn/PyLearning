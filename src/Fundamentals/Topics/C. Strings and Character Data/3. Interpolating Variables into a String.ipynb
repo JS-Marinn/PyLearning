{
 "cells": [
  {
   "cell_type": "markdown",
   "metadata": {},
   "source": [
    "# Strings and Character Data: **Interpolating Variables into a String**\n",
    "\n",
    "<p style=\"text-align: center;\">\n",
    "  <img src=\"../img/string-Interpolation.webp\" width=\"1000\">\n",
    "</p>\n",
    "\n",
    "*Source: [[Link to the original source](https://realpython.com)]*"
   ]
  },
  {
   "cell_type": "markdown",
   "metadata": {},
   "source": [
    "Interpolating variables into a string allows you to insert values into a string dynamically. Python offers several ways to achieve this, depending on the version of Python and the specific use case. These techniques include **concatenation**, **old-style formatting** ``(%),`` **new-style formatting** (``str.format()``), and the more modern **f-strings** introduced in Python 3.6."
   ]
  },
  {
   "cell_type": "markdown",
   "metadata": {},
   "source": [
    "## **1. String Concatenation**\n",
    "The simplest way to combine variables and strings is through concatenation using the ``+`` operator. While this method works, it's not the most efficient or readable for complex cases."
   ]
  },
  {
   "cell_type": "code",
   "execution_count": null,
   "metadata": {},
   "outputs": [],
   "source": [
    "name = \"Sebastian\"\n",
    "age = 30\n",
    "message = \"My name is \" + name + \" and I am \" + str(age) + \" years old.\"\n",
    "print(message)"
   ]
  },
  {
   "cell_type": "markdown",
   "metadata": {},
   "source": [
    "* **Output**: ``\"My name is Sebastian and I am 30 years old.\"``\n",
    "\n",
    "Here, ``name`` is a string, but ``age`` is an integer, so it needs to be converted to a string using ``str(age)`` before concatenation."
   ]
  },
  {
   "cell_type": "markdown",
   "metadata": {},
   "source": [
    "## **2. Old-Style String Formatting (%)**\n",
    "This is an older method of string formatting using the ``%`` operator, similar to the printf-style formatting in C. It's less common in modern Python but still works."
   ]
  },
  {
   "cell_type": "code",
   "execution_count": null,
   "metadata": {},
   "outputs": [],
   "source": [
    "name = \"Sebastian\"\n",
    "age = 30\n",
    "message = \"My name is %s and I am %d years old.\" % (name, age)\n",
    "print(message)"
   ]
  },
  {
   "cell_type": "markdown",
   "metadata": {},
   "source": [
    "* **Output**: ``\"My name is Sebastian and I am 30 years old.\"``\n",
    "\n",
    "``%s`` is a placeholder for a string, and ``%d`` is for an integer. You pass the values as a tuple after the string."
   ]
  },
  {
   "cell_type": "markdown",
   "metadata": {},
   "source": [
    "## **3. New-Style String Formatting (str.format())**\n",
    "Introduced in Python 2.6, the ``str.format()`` method is more powerful and flexible than the % operator. It allows named and positional placeholders."
   ]
  },
  {
   "cell_type": "markdown",
   "metadata": {},
   "source": [
    "### **Positional Arguments**\n",
    "\n",
    "You can insert variables into the string by specifying positions inside curly braces {}."
   ]
  },
  {
   "cell_type": "code",
   "execution_count": null,
   "metadata": {},
   "outputs": [],
   "source": [
    "name = \"Sebastian\"\n",
    "age = 30\n",
    "message = \"My name is {} and I am {} years old.\".format(name, age)\n",
    "print(message)"
   ]
  },
  {
   "cell_type": "markdown",
   "metadata": {},
   "source": [
    "* **Output**: ``\"My name is Sebastian and I am 30 years old.\"``\n"
   ]
  },
  {
   "cell_type": "markdown",
   "metadata": {},
   "source": [
    "### **Named Arguments**\n",
    "\n",
    "You can also use named placeholders for more readable code:\n",
    "\n"
   ]
  },
  {
   "cell_type": "code",
   "execution_count": null,
   "metadata": {},
   "outputs": [],
   "source": [
    "message = \"My name is {name} and I am {age} years old.\".format(name=\"Sebastian\", age=30)\n",
    "print(message)"
   ]
  },
  {
   "cell_type": "markdown",
   "metadata": {},
   "source": [
    "* **Output**: ``\"My name is Sebastian and I am 30 years old.\"``\n",
    "  \n",
    "This is helpful when you have multiple variables and want to assign values clearly."
   ]
  },
  {
   "cell_type": "markdown",
   "metadata": {},
   "source": [
    "### **Reusing Values**\n",
    "\n",
    "You can reference the same variable multiple times:"
   ]
  },
  {
   "cell_type": "code",
   "execution_count": null,
   "metadata": {},
   "outputs": [],
   "source": [
    "message = \"{name} is learning Python. {name} is 30 years old.\".format(name=\"Sebastian\")\n",
    "print(message)"
   ]
  },
  {
   "cell_type": "markdown",
   "metadata": {},
   "source": [
    "* **Output**: ``\"Sebastian is learning Python. Sebastian is 30 years old.\"``"
   ]
  },
  {
   "cell_type": "markdown",
   "metadata": {},
   "source": [
    "## **4. F-Strings (Formatted String Literals)**\n",
    "Introduced in Python 3.6, **f-strings** provide the most concise and readable way to interpolate variables. They allow you to embed expressions directly within string literals, making them more powerful and efficient than the previous methods."
   ]
  },
  {
   "cell_type": "markdown",
   "metadata": {},
   "source": [
    "### **Basic Usage**\n",
    "An f-string is created by prefixing the string with the letter ``f`` (or ``F``), and you can insert variables directly inside curly braces ``{}``."
   ]
  },
  {
   "cell_type": "code",
   "execution_count": null,
   "metadata": {},
   "outputs": [],
   "source": [
    "name = \"Sebastian\"\n",
    "age = 30\n",
    "message = f\"My name is {name} and I am {age} years old.\"\n",
    "print(message)"
   ]
  },
  {
   "cell_type": "markdown",
   "metadata": {},
   "source": [
    "### **Using Expressions Inside F-Strings**\n",
    "F-strings also allow you to include expressions inside the curly braces, not just variables."
   ]
  },
  {
   "cell_type": "code",
   "execution_count": null,
   "metadata": {},
   "outputs": [],
   "source": [
    "length = 5\n",
    "width = 3\n",
    "area_message = f\"The area of the rectangle is {length * width}.\"\n",
    "print(area_message)"
   ]
  },
  {
   "cell_type": "markdown",
   "metadata": {},
   "source": [
    "### **Formatting with F-Strings**\n",
    "You can control the format of numbers, such as decimal places, by using format specifiers directly within f-strings."
   ]
  },
  {
   "cell_type": "code",
   "execution_count": null,
   "metadata": {},
   "outputs": [],
   "source": [
    "pi = 3.141592653589793\n",
    "message = f\"Pi rounded to 3 decimal places is {pi:.3f}.\"\n",
    "print(message)"
   ]
  },
  {
   "cell_type": "markdown",
   "metadata": {},
   "source": [
    "Here, ``:.3f`` tells Python to format the number with 3 decimal places.\n",
    "\n"
   ]
  },
  {
   "cell_type": "markdown",
   "metadata": {},
   "source": [
    "### **Multiline F-Strings**\n",
    "If your f-string is long, you can split it across multiple lines by enclosing it in parentheses or using a backslash."
   ]
  },
  {
   "cell_type": "code",
   "execution_count": null,
   "metadata": {},
   "outputs": [],
   "source": [
    "name = \"Sebastian\"\n",
    "age = 30\n",
    "message = (\n",
    "    f\"My name is {name} \"\n",
    "    f\"and I am {age} years old.\"\n",
    ")\n",
    "print(message)"
   ]
  },
  {
   "cell_type": "markdown",
   "metadata": {},
   "source": [
    "## **5. Comparison of Methods**\n",
    "* **Concatenation**: Suitable for very simple cases but not recommended for readability or performance in complex situations.\n",
    "* **Old-Style Formatting (``%``)**: Outdated, but still used in some legacy codebases.\n",
    "* **New-Style Formatting (``str.format()``)**: Powerful and flexible, allowing both positional and named arguments.\n",
    "* **F-Strings**: The most modern, concise, and efficient way to interpolate variables into strings in Python. They are also highly readable and recommended for most use cases."
   ]
  },
  {
   "cell_type": "markdown",
   "metadata": {},
   "source": [
    "## **Conclusion**\n",
    "Interpolating variables into strings is a fundamental part of working with text in Python. While there are several methods available, f-strings are generally the best choice due to their readability, simplicity, and performance. They allow you to embed expressions directly and are highly versatile for formatting values."
   ]
  }
 ],
 "metadata": {
  "language_info": {
   "name": "python"
  }
 },
 "nbformat": 4,
 "nbformat_minor": 2
}
