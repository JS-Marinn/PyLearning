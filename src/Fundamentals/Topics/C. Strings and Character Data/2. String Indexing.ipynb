{
 "cells": [
  {
   "cell_type": "markdown",
   "metadata": {},
   "source": [
    "# Strings and Character Data: **String Indexing**\n",
    "\n",
    "<p style=\"text-align: center;\">\n",
    "  <img src=\"../img/string-indexing.png\" width=\"1000\">\n",
    "</p>"
   ]
  },
  {
   "cell_type": "markdown",
   "metadata": {},
   "source": [
    "String indexing allows you to access individual characters in a string using their position (or index). Python strings are sequences of characters, and each character in a string is assigned a unique position starting from zero. This system provides a way to access, extract, and manipulate individual characters or groups of characters from a string."
   ]
  },
  {
   "cell_type": "markdown",
   "metadata": {},
   "source": [
    "**Key Points:**\n",
    "\n",
    "* **Zero-Based Indexing**: Python uses zero-based indexing, meaning the first character of the string has index 0.\n",
    "* **Negative Indexing**: Python also supports negative indexing, which counts from the end of the string (-1 refers to the last character)."
   ]
  },
  {
   "cell_type": "markdown",
   "metadata": {},
   "source": [
    "## **1. Basic Indexing**\n",
    "To access a specific character from a string, use square brackets [] with the desired index."
   ]
  },
  {
   "cell_type": "code",
   "execution_count": null,
   "metadata": {},
   "outputs": [],
   "source": [
    "str1 = \"Python\"\n",
    "print(str1[0])  # Output: 'P'\n",
    "print(str1[3])  # Output: 'h'"
   ]
  },
  {
   "cell_type": "markdown",
   "metadata": {},
   "source": [
    "* ``str1[0]`` accesses the first character, ``'P'``.\n",
    "* ``str1[3]`` accesses the fourth character, ``'h'``."
   ]
  },
  {
   "cell_type": "markdown",
   "metadata": {},
   "source": [
    "## 2. Negative Indexing\n",
    "\n",
    "Negative indexing is useful when you want to access characters starting from the end of the string. The last character has an index of ``-1``, the second-to-last character has an index of ``-2``, and so on."
   ]
  },
  {
   "cell_type": "code",
   "execution_count": null,
   "metadata": {},
   "outputs": [],
   "source": [
    "str1 = \"Python\"\n",
    "print(str1[-1])  # Output: 'n'\n",
    "print(str1[-3])  # Output: 't'"
   ]
  },
  {
   "cell_type": "markdown",
   "metadata": {},
   "source": [
    "* ``str1[-1]`` accesses the last character, ``'n'``.\n",
    "* ``str1[-3]`` accesses the third-to-last character, ``'t'``."
   ]
  },
  {
   "cell_type": "markdown",
   "metadata": {},
   "source": [
    "## **3. Slicing**\n",
    "String slicing allows you to extract a substring by specifying a range of indices. The syntax for slicing is:\n",
    "\n",
    "``` \n",
    "string[start:stop:step]\n",
    "\n",
    "```"
   ]
  },
  {
   "cell_type": "markdown",
   "metadata": {},
   "source": [
    "* ``start``: The index where the slice begins (inclusive).\n",
    "* ``stop``: The index where the slice ends (exclusive).\n",
    "* ``step``: Optional. The step or increment between each inde"
   ]
  },
  {
   "cell_type": "markdown",
   "metadata": {},
   "source": [
    "**Example: Slicing with Default Step**"
   ]
  },
  {
   "cell_type": "code",
   "execution_count": null,
   "metadata": {},
   "outputs": [],
   "source": [
    "str1 = \"Python\"\n",
    "print(str1[0:4])  # Output: 'Pyth'\n",
    "print(str1[2:5])  # Output: 'tho'\n"
   ]
  },
  {
   "cell_type": "markdown",
   "metadata": {},
   "source": [
    "* ``str1[0:4]`` extracts the substring from index ``0`` to ``3`` (not including 4), yielding ``'Pyth'``.\n",
    "* ``str1[2:5]`` extracts ``'tho'`` from index ``2`` to ``4``."
   ]
  },
  {
   "cell_type": "markdown",
   "metadata": {},
   "source": [
    "**Example: Slicing with Negative Index**"
   ]
  },
  {
   "cell_type": "code",
   "execution_count": null,
   "metadata": {},
   "outputs": [],
   "source": [
    "str1 = \"Python\"\n",
    "print(str1[-4:-1])  # Output: 'tho'"
   ]
  },
  {
   "cell_type": "markdown",
   "metadata": {},
   "source": [
    "* ``str1[-4:-1]`` extracts from index ``-4`` to ``-2`` (not including ``-1``), yielding ``'tho'``."
   ]
  },
  {
   "cell_type": "markdown",
   "metadata": {},
   "source": [
    "**Example: Slicing with Step**\n",
    "You can specify a ``step`` value to skip characters during slicing."
   ]
  },
  {
   "cell_type": "code",
   "execution_count": null,
   "metadata": {},
   "outputs": [],
   "source": [
    "str1 = \"Python\"\n",
    "print(str1[0:6:2])  # Output: 'Pto'"
   ]
  },
  {
   "cell_type": "markdown",
   "metadata": {},
   "source": [
    "* ``str1[0:6:2]`` extracts every second character from the string, resulting in ``'Pto'``."
   ]
  },
  {
   "cell_type": "markdown",
   "metadata": {},
   "source": [
    "**Example: Reverse Slicing**\n",
    "To reverse a string, use a negative ``step`` value:"
   ]
  },
  {
   "cell_type": "code",
   "execution_count": null,
   "metadata": {},
   "outputs": [],
   "source": [
    "str1 = \"Python\"\n",
    "print(str1[::-1])  # Output: 'nohtyP'"
   ]
  },
  {
   "cell_type": "markdown",
   "metadata": {},
   "source": [
    "* ``str1[::-1``] reverses the string by slicing it with a ``step`` of ``-1``.\n"
   ]
  },
  {
   "cell_type": "markdown",
   "metadata": {},
   "source": [
    "## **4. String Immutability**\n",
    "It's important to note that strings in Python are immutable, meaning you cannot modify a string directly by assigning a value to a specific index."
   ]
  },
  {
   "cell_type": "markdown",
   "metadata": {},
   "source": [
    "**Example (Invalid Operation):**\n",
    "\n"
   ]
  },
  {
   "cell_type": "code",
   "execution_count": null,
   "metadata": {},
   "outputs": [],
   "source": [
    "str1 = \"Python\"\n",
    "str1[0] = 'J'  # Error! Strings are immutable."
   ]
  },
  {
   "cell_type": "markdown",
   "metadata": {},
   "source": [
    "To \"modify\" a string, you need to create a new string."
   ]
  },
  {
   "cell_type": "markdown",
   "metadata": {},
   "source": [
    "**Example (Valid Operation):**\n",
    "\n"
   ]
  },
  {
   "cell_type": "code",
   "execution_count": 1,
   "metadata": {},
   "outputs": [
    {
     "name": "stdout",
     "output_type": "stream",
     "text": [
      "JPython\n"
     ]
    }
   ],
   "source": [
    "str1 = \"Python\"\n",
    "str1_modified = 'J' + str1[1:]\n",
    "print(str1_modified)  # Output: 'Jython'"
   ]
  },
  {
   "cell_type": "markdown",
   "metadata": {},
   "source": [
    "## **5. Out-of-Bounds Indexing**\n",
    "If you try to access an index that is out of the range of the string, Python will raise an ``IndexError``."
   ]
  },
  {
   "cell_type": "code",
   "execution_count": null,
   "metadata": {},
   "outputs": [],
   "source": [
    "str1 = \"Python\"\n",
    "print(str1[10])  # IndexError: string index out of range"
   ]
  },
  {
   "cell_type": "markdown",
   "metadata": {},
   "source": [
    "To avoid this error, ensure that the index falls within the length of the string ``(0 <= index < len(string))``."
   ]
  },
  {
   "cell_type": "markdown",
   "metadata": {},
   "source": [
    "## **Conclusion**\n",
    "String indexing and slicing are powerful tools for accessing and manipulating individual characters or substrings in Python. With positive and negative indexing, you can easily work with strings from the beginning or the end. While strings are immutable, you can still \"modify\" strings by creating new strings through slicing and concatenation."
   ]
  }
 ],
 "metadata": {
  "kernelspec": {
   "display_name": "env",
   "language": "python",
   "name": "python3"
  },
  "language_info": {
   "codemirror_mode": {
    "name": "ipython",
    "version": 3
   },
   "file_extension": ".py",
   "mimetype": "text/x-python",
   "name": "python",
   "nbconvert_exporter": "python",
   "pygments_lexer": "ipython3",
   "version": "3.12.2"
  }
 },
 "nbformat": 4,
 "nbformat_minor": 2
}
