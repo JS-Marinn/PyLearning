{
 "cells": [
  {
   "cell_type": "markdown",
   "metadata": {},
   "source": [
    "# Strings and Character Data: **Interpolating Variables into a String**\n",
    "\n",
    "<p style=\"text-align: center;\">\n",
    "  <img src=\"../img/string-slicing.jpg\" width=\"1000\">\n",
    "</p>"
   ]
  },
  {
   "cell_type": "markdown",
   "metadata": {},
   "source": [
    "String slicing is the process of extracting a portion of a string (substring) by specifying a range of indices. It's a powerful tool for manipulating text in Python. The syntax for slicing is as follows:"
   ]
  }
 ],
 "metadata": {
  "language_info": {
   "name": "python"
  }
 },
 "nbformat": 4,
 "nbformat_minor": 2
}
