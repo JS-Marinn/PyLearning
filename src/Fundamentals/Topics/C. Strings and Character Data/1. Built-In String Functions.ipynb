{
 "cells": [
  {
   "cell_type": "markdown",
   "metadata": {},
   "source": [
    "# Strings and Character Data: **Built-In String Functions**\n",
    "\n",
    "<p style=\"text-align: center;\">\n",
    "  <img src=\"../img/built-in-functions.png\" width=\"1000\">\n",
    "</p>"
   ]
  },
  {
   "cell_type": "markdown",
   "metadata": {},
   "source": [
    "Python provides a variety of built-in functions specifically designed for handling and manipulating strings. These functions allow you to perform tasks such as evaluating, modifying, and formatting strings. Below, we cover some of the most important built-in string functions."
   ]
  },
  {
   "cell_type": "markdown",
   "metadata": {},
   "source": [
    "## **1. `len()`** \n",
    "The `len()` function returns the length of a string, i.e., the number of characters in the string."
   ]
  },
  {
   "cell_type": "code",
   "execution_count": null,
   "metadata": {},
   "outputs": [],
   "source": [
    "str1 = \"Hello, World!\"\n",
    "print(len(str1))  # Output: 13"
   ]
  },
  {
   "cell_type": "markdown",
   "metadata": {},
   "source": [
    "## **2. `str()`** \n",
    "The ``str()`` function converts an object into a string. This is useful when you need to convert numbers or other data types into string format."
   ]
  },
  {
   "cell_type": "code",
   "execution_count": null,
   "metadata": {},
   "outputs": [],
   "source": [
    "num = 123\n",
    "result = str(num)\n",
    "print(result)  # Output: \"123\""
   ]
  },
  {
   "cell_type": "markdown",
   "metadata": {},
   "source": [
    "## **3. ``ord()``**\n",
    "The ``ord()`` function returns the Unicode code point of a given character."
   ]
  },
  {
   "cell_type": "code",
   "execution_count": null,
   "metadata": {},
   "outputs": [],
   "source": [
    "char = 'A'\n",
    "print(ord(char))  # Output: 65"
   ]
  },
  {
   "cell_type": "markdown",
   "metadata": {},
   "source": [
    "## **4. ``chr()``**\n",
    "The ``chr()`` function returns the character associated with a given Unicode code point."
   ]
  },
  {
   "cell_type": "code",
   "execution_count": null,
   "metadata": {},
   "outputs": [],
   "source": [
    "unicode_val = 65\n",
    "print(chr(unicode_val))  # Output: 'A'"
   ]
  },
  {
   "cell_type": "markdown",
   "metadata": {},
   "source": [
    "## **5. ``ascii()``**\n",
    "The ``ascii()`` function returns a string containing a printable representation of an object. Any non-ASCII characters in the string are escaped using Unicode escape sequences."
   ]
  },
  {
   "cell_type": "code",
   "execution_count": null,
   "metadata": {},
   "outputs": [],
   "source": [
    "str1 = \"Pythön\"\n",
    "print(ascii(str1))  # Output: 'Pyth\\xf6n'"
   ]
  },
  {
   "cell_type": "markdown",
   "metadata": {},
   "source": [
    "## **6. ``format()``**\n",
    "The ``format()`` function is used to format a string by placing values within placeholders (denoted by {}). This method is useful for creating formatted output."
   ]
  },
  {
   "cell_type": "code",
   "execution_count": null,
   "metadata": {},
   "outputs": [],
   "source": [
    "name = \"Alice\"\n",
    "age = 30\n",
    "result = \"Name: {}, Age: {}\".format(name, age)\n",
    "print(result)  # Output: Name: Alice, Age: 30"
   ]
  },
  {
   "cell_type": "markdown",
   "metadata": {},
   "source": [
    "You can also format numbers:\n",
    "\n"
   ]
  },
  {
   "cell_type": "code",
   "execution_count": null,
   "metadata": {},
   "outputs": [],
   "source": [
    "pi = 3.14159\n",
    "result = \"Pi is approximately {:.2f}\".format(pi)\n",
    "print(result)  # Output: Pi is approximately 3.14"
   ]
  },
  {
   "cell_type": "markdown",
   "metadata": {},
   "source": [
    "## **7. ``eval()``**\n",
    "\n",
    "The ``eval()`` function parses the expression passed to it and executes Python code within a string. It can be used to evaluate string representations of expressions."
   ]
  },
  {
   "cell_type": "code",
   "execution_count": null,
   "metadata": {},
   "outputs": [],
   "source": [
    "expression = \"3 + 5\"\n",
    "result = eval(expression)\n",
    "print(result)  # Output: 8"
   ]
  },
  {
   "cell_type": "markdown",
   "metadata": {},
   "source": [
    "## **8. ``repr()``**\n",
    "The ``repr()`` function returns a string containing a printable representation of an object. It is similar to ascii(), but repr() aims to give a string that can be used to recreate the object."
   ]
  },
  {
   "cell_type": "code",
   "execution_count": null,
   "metadata": {},
   "outputs": [],
   "source": [
    "str1 = \"Hello\\nWorld\"\n",
    "print(repr(str1))  # Output: 'Hello\\nWorld'"
   ]
  },
  {
   "cell_type": "markdown",
   "metadata": {},
   "source": [
    "## **9. ``bytes()``**\n",
    "The ``bytes()`` function returns a bytes object, which is an immutable sequence of integers in the range 0-255. It is often used to convert a string into bytes, which is useful when dealing with binary data."
   ]
  },
  {
   "cell_type": "code",
   "execution_count": null,
   "metadata": {},
   "outputs": [],
   "source": [
    "str1 = \"Hello\"\n",
    "byte_str = bytes(str1, 'utf-8')\n",
    "print(byte_str)  # Output: b'Hello'"
   ]
  },
  {
   "cell_type": "markdown",
   "metadata": {},
   "source": [
    "## **10. ``bytearray()``**\n",
    "The ``bytearray() ``function is similar to bytes(), but it returns a mutable sequence of bytes."
   ]
  },
  {
   "cell_type": "code",
   "execution_count": null,
   "metadata": {},
   "outputs": [],
   "source": [
    "str1 = \"Hello\"\n",
    "byte_arr = bytearray(str1, 'utf-8')\n",
    "byte_arr[0] = 104  # Modifies the first byte\n",
    "print(byte_arr)  # Output: bytearray(b'hello')"
   ]
  },
  {
   "cell_type": "markdown",
   "metadata": {},
   "source": [
    "## **11. ``slice()``**\n",
    "The ``slice()`` function returns a slice object that can be used to specify how to slice a string or other sequence types. It's a way to define the start, stop, and step values for slicing."
   ]
  },
  {
   "cell_type": "code",
   "execution_count": null,
   "metadata": {},
   "outputs": [],
   "source": [
    "str1 = \"Hello, World!\"\n",
    "s = slice(7, 12)  # Creates a slice object\n",
    "print(str1[s])    # Output: World"
   ]
  },
  {
   "cell_type": "markdown",
   "metadata": {},
   "source": [
    "You can also define a step:\n",
    "\n"
   ]
  },
  {
   "cell_type": "code",
   "execution_count": null,
   "metadata": {},
   "outputs": [],
   "source": [
    "str1 = \"Hello, World!\"\n",
    "s = slice(0, 12, 2)  # Slicing with a step of 2\n",
    "print(str1[s])  # Output: Hlo o"
   ]
  },
  {
   "cell_type": "markdown",
   "metadata": {},
   "source": [
    "## **12. ``input()``**\n",
    "The ``input()`` function allows you to take user input as a string. You can prompt the user for input and store it in a variable."
   ]
  },
  {
   "cell_type": "code",
   "execution_count": null,
   "metadata": {},
   "outputs": [],
   "source": [
    "name = input(\"Enter your name: \")\n",
    "print(\"Hello, \" + name)"
   ]
  },
  {
   "cell_type": "markdown",
   "metadata": {},
   "source": [
    "## **13. ``join()``**\n",
    "The ``join()`` method concatenates an iterable (such as a list or tuple) into a single string, with a specified separator."
   ]
  },
  {
   "cell_type": "code",
   "execution_count": null,
   "metadata": {},
   "outputs": [],
   "source": [
    "list1 = ['one', 'two', 'three']\n",
    "result = ', '.join(list1)\n",
    "print(result)  # Output: \"one, two, three\""
   ]
  },
  {
   "cell_type": "markdown",
   "metadata": {},
   "source": [
    "## **14. ``split()``**\n",
    "The ``split()`` method breaks a string into a list of substrings based on a specified separator. If no separator is provided, it splits on any whitespace by default."
   ]
  },
  {
   "cell_type": "code",
   "execution_count": null,
   "metadata": {},
   "outputs": [],
   "source": [
    "str1 = \"one two three\"\n",
    "result = str1.split()\n",
    "print(result)  # Output: ['one', 'two', 'three']"
   ]
  },
  {
   "cell_type": "markdown",
   "metadata": {},
   "source": [
    "Example with a separator:\n",
    "\n"
   ]
  },
  {
   "cell_type": "code",
   "execution_count": null,
   "metadata": {},
   "outputs": [],
   "source": [
    "str1 = \"one,two,three\"\n",
    "result = str1.split(',')\n",
    "print(result)  # Output: ['one', 'two', 'three']"
   ]
  },
  {
   "cell_type": "markdown",
   "metadata": {},
   "source": [
    "## **15. ``max()`` and ``min()``**\n",
    "The ``max()`` and ``min()`` functions return the highest and lowest value, respectively, in a string based on their Unicode values."
   ]
  },
  {
   "cell_type": "code",
   "execution_count": null,
   "metadata": {},
   "outputs": [],
   "source": [
    "str1 = \"abcdxyz\"\n",
    "print(max(str1))  # Output: z\n",
    "print(min(str1))  # Output: a"
   ]
  },
  {
   "cell_type": "markdown",
   "metadata": {},
   "source": [
    "## **16. ``enumerate()``**\n",
    "The ``enumerate()`` function returns an enumerate object, which yields pairs containing an index and the corresponding character of a string (or any iterable)."
   ]
  },
  {
   "cell_type": "code",
   "execution_count": null,
   "metadata": {},
   "outputs": [],
   "source": [
    "str1 = \"Python\"\n",
    "for index, char in enumerate(str1):\n",
    "    print(f\"Index {index}: {char}\")"
   ]
  },
  {
   "cell_type": "markdown",
   "metadata": {},
   "source": [
    "## **17. ``any()`` and ``all()``**\n",
    "* ``any()``: Returns ``True`` if any of the characters in the string are true (or non-empty).\n",
    "* ``all()``: Returns ``True`` if all of the characters in the string are true (or non-empty)."
   ]
  },
  {
   "cell_type": "markdown",
   "metadata": {},
   "source": [
    "**Example with ``any()``:**"
   ]
  },
  {
   "cell_type": "code",
   "execution_count": null,
   "metadata": {},
   "outputs": [],
   "source": [
    "str1 = \"Hello\"\n",
    "print(any(char.isdigit() for char in str1))  # Output: False (no digits)"
   ]
  },
  {
   "cell_type": "markdown",
   "metadata": {},
   "source": [
    "**Example with ``all()``:**\n",
    "\n"
   ]
  },
  {
   "cell_type": "code",
   "execution_count": null,
   "metadata": {},
   "outputs": [],
   "source": [
    "str1 = \"Hello\"\n",
    "print(all(char.isalpha() for char in str1))  # Output: True (all alphabetic)"
   ]
  },
  {
   "cell_type": "markdown",
   "metadata": {},
   "source": [
    "## **18. ``sorted()``**\n",
    "The ``sorted()`` function returns a list of characters from the string, sorted in ascending order by their Unicode values."
   ]
  },
  {
   "cell_type": "code",
   "execution_count": null,
   "metadata": {},
   "outputs": [],
   "source": [
    "str1 = \"Python\"\n",
    "result = sorted(str1)\n",
    "print(result)  # Output: ['P', 'h', 'n', 'o', 't', 'y']"
   ]
  },
  {
   "cell_type": "markdown",
   "metadata": {},
   "source": [
    "## **Conclusion**\n",
    "These built-in string functions provide a powerful set of tools for working with strings in Python. Whether you need to convert, format, or manipulate text data, Python’s built-in functions simplify these tasks and offer a flexible way to manage strings in your programs."
   ]
  }
 ],
 "metadata": {
  "kernelspec": {
   "display_name": "env",
   "language": "python",
   "name": "python3"
  },
  "language_info": {
   "codemirror_mode": {
    "name": "ipython",
    "version": 3
   },
   "file_extension": ".py",
   "mimetype": "text/x-python",
   "name": "python",
   "nbconvert_exporter": "python",
   "pygments_lexer": "ipython3",
   "version": "3.12.2"
  }
 },
 "nbformat": 4,
 "nbformat_minor": 2
}
