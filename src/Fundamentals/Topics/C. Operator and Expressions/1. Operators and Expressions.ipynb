{
 "cells": [
  {
   "cell_type": "markdown",
   "metadata": {},
   "source": [
    "# Operators and Expressions: **Operators and Expressions**\n",
    "\n",
    "<p style=\"text-align: center;\">\n",
    "  <img src=\"../img/operators-and-expressions.webp\" width=\"1000\">\n",
    "</p>\n",
    "\n",
    "*Source: [[Link to the original source](https://realpython.com)]*"
   ]
  },
  {
   "cell_type": "markdown",
   "metadata": {},
   "source": [
    "Operators and expressions are fundamental to performing operations in Python, from arithmetic calculations to comparisons and logical tests. An expression is a combination of values, variables, and operators that evaluate to a result."
   ]
  },
  {
   "cell_type": "markdown",
   "metadata": {},
   "source": [
    "## **1. Types of Operators in Python**\n",
    "Python supports a variety of operators that can be grouped into several categories:\n",
    "\n",
    "* Arithmetic Operators\n",
    "* Comparison (Relational) Operators\n",
    "* Logical Operators\n",
    "* Bitwise Operators\n",
    "* Assignment Operators\n",
    "* Membership Operators\n",
    "* Identity Operators"
   ]
  },
  {
   "cell_type": "markdown",
   "metadata": {},
   "source": [
    "## **2. Arithmetic Operators**\n",
    "These operators are used to perform basic mathematical operations.\n",
    "\n",
    "| Operator | Description                 | Example      |\n",
    "|----------|-----------------------------|--------------|\n",
    "| +        | Addition                    | 3 + 2 → 5    |\n",
    "| -        | Subtraction                 | 5 - 2 → 3    |\n",
    "| *        | Multiplication              | 3 * 2 → 6    |\n",
    "| /        | Division                    | 7 / 2 → 3.5  |\n",
    "| //       | Floor Division              | 7 // 2 → 3   |\n",
    "| %        | Modulus (remainder)          | 7 % 2 → 1    |\n",
    "| **       | Exponentiation              | 3 ** 2 → 9   |\n"
   ]
  },
  {
   "cell_type": "code",
   "execution_count": null,
   "metadata": {},
   "outputs": [],
   "source": [
    "# Addition: 3 plus 2 equals 5\n",
    "print(3 + 2)  # Output: 5\n",
    "\n",
    "# Subtraction: 5 minus 2 equals 3\n",
    "print(5 - 2)  # Output: 3\n",
    "\n",
    "# Multiplication: 3 times 2 equals 6\n",
    "print(3 * 2)  # Output: 6\n",
    "\n",
    "# Division: 7 divided by 2 equals 3.5\n",
    "print(7 / 2)  # Output: 3.5\n",
    "\n",
    "# Floor Division: 7 divided by 2 equals 3, but discards the remainder\n",
    "print(7 // 2)  # Output: 3\n",
    "\n",
    "# Modulus: 7 divided by 2 leaves a remainder of 1\n",
    "print(7 % 2)  # Output: 1\n",
    "\n",
    "# Exponentiation: 3 to the power of 2 equals 9\n",
    "print(3 ** 2)  # Output: 9"
   ]
  },
  {
   "cell_type": "markdown",
   "metadata": {},
   "source": [
    "## **3. Comparison (Relational) Operators**\n",
    "Comparison operators are used to compare two values. The result is always a Boolean value: ``True`` or ``False``.\n",
    "\n",
    "| Operator | Description              | Example        |\n",
    "|----------|--------------------------|----------------|\n",
    "| ==       | Equal to                 | 5 == 5 → True  |\n",
    "| !=       | Not equal to             | 5 != 3 → True  |\n",
    "| >        | Greater than             | 5 > 3 → True   |\n",
    "| <        | Less than                | 3 < 5 → True   |\n",
    "| >=       | Greater than or equal    | 5 >= 5 → True  |\n",
    "| <=       | Less than or equal       | 3 <= 5 → True  |\n"
   ]
  },
  {
   "cell_type": "code",
   "execution_count": null,
   "metadata": {},
   "outputs": [],
   "source": [
    "# Equal to: 5 is equal to 5\n",
    "print(5 == 5)  # Output: True\n",
    "\n",
    "# Not equal to: 5 is not equal to 3\n",
    "print(5 != 3)  # Output: True\n",
    "\n",
    "# Greater than: 5 is greater than 3\n",
    "print(5 > 3)  # Output: True\n",
    "\n",
    "# Less than: 3 is less than 5\n",
    "print(3 < 5)  # Output: True\n",
    "\n",
    "# Greater than or equal: 5 is greater than or equal to 5\n",
    "print(5 >= 5)  # Output: True\n",
    "\n",
    "# Less than or equal: 3 is less than or equal to 5\n",
    "print(3 <= 5)  # Output: True"
   ]
  },
  {
   "cell_type": "markdown",
   "metadata": {},
   "source": [
    "## **4. Logical Operators**\n",
    "Logical operators are used to combine conditional statements, returning ``True`` or ``False`` based on the conditions.\n",
    "\n",
    "| Operator | Description   | Example                |\n",
    "|----------|---------------|------------------------|\n",
    "| and      | Logical AND    | True and False → False |\n",
    "| or       | Logical OR     | True or False → True   |\n",
    "| not      | Logical NOT    | not True → False       |\n"
   ]
  },
  {
   "cell_type": "code",
   "execution_count": null,
   "metadata": {},
   "outputs": [],
   "source": [
    "# Logical AND: True AND False is False (both must be True)\n",
    "print(True and False)  # Output: False\n",
    "\n",
    "# Logical OR: True OR False is True (only one must be True)\n",
    "print(True or False)  # Output: True\n",
    "\n",
    "# Logical NOT: NOT True is False (reverses the boolean value)\n",
    "print(not True)  # Output: False"
   ]
  },
  {
   "cell_type": "markdown",
   "metadata": {},
   "source": [
    "## **5. Bitwise Operators**\n",
    "Bitwise operators perform operations at the bit level. They operate on binary numbers.\n",
    "\n",
    "| Operator | Description     | Example          |\n",
    "|----------|-----------------|------------------|\n",
    "| &        | Bitwise AND      | 5 & 3 → 1        |\n",
    "| \\|       | Bitwise OR       | 5 \\| 3 → 7       |\n",
    "| ^        | Bitwise XOR      | 5 ^ 3 → 6        |\n",
    "| ~        | Bitwise NOT      | ~5 → -6          |\n",
    "| <<       | Left Shift       | 5 << 1 → 10      |\n",
    "| >>       | Right Shift      | 5 >> 1 → 2       |\n"
   ]
  },
  {
   "cell_type": "code",
   "execution_count": null,
   "metadata": {},
   "outputs": [],
   "source": [
    "# Bitwise AND: 5 (101) AND 3 (011) is 1 (001) (bitwise AND)\n",
    "print(5 & 3)  # Output: 1\n",
    "\n",
    "# Bitwise OR: 5 (101) OR 3 (011) is 7 (111) (bitwise OR)\n",
    "print(5 | 3)  # Output: 7\n",
    "\n",
    "# Bitwise XOR: 5 (101) XOR 3 (011) is 6 (110) (bitwise XOR)\n",
    "print(5 ^ 3)  # Output: 6\n",
    "\n",
    "# Bitwise NOT: NOT 5 (bitwise inverse, flips bits) becomes -6\n",
    "print(~5)  # Output: -6\n",
    "\n",
    "# Left Shift: 5 (101) shifted left by 1 becomes 10 (1010)\n",
    "print(5 << 1)  # Output: 10\n",
    "\n",
    "# Right Shift: 5 (101) shifted right by 1 becomes 2 (10)\n",
    "print(5 >> 1)  # Output: 2"
   ]
  },
  {
   "cell_type": "markdown",
   "metadata": {},
   "source": [
    "## **6. Assignment Operators**\n",
    "Assignment operators are used to assign values to variables. They can also combine arithmetic and assignment in one step.\n",
    "\n",
    "| Operator | Description           | Example    |\n",
    "|----------|-----------------------|------------|\n",
    "| =        | Assign                | x = 5      |\n",
    "| +=       | Add and assign        | x += 3     |\n",
    "| -=       | Subtract and assign   | x -= 2     |\n",
    "| *=       | Multiply and assign   | x *= 2     |\n",
    "| /=       | Divide and assign     | x /= 2     |\n",
    "| %=       | Modulus and assign    | x %= 2     |\n",
    "| **=      | Exponent and assign   | x **= 2    |\n",
    "| //=      | Floor division assign | x //= 2    |\n"
   ]
  },
  {
   "cell_type": "code",
   "execution_count": null,
   "metadata": {},
   "outputs": [],
   "source": [
    "x = 5  # Assign: x is now 5\n",
    "print(x)  # Output: 5\n",
    "\n",
    "x += 3  # Add and assign: x is incremented by 3, so 5 + 3 = 8\n",
    "print(x)  # Output: 8\n",
    "\n",
    "x -= 2  # Subtract and assign: x is decremented by 2, so 8 - 2 = 6\n",
    "print(x)  # Output: 6\n",
    "\n",
    "x *= 2  # Multiply and assign: x is multiplied by 2, so 6 * 2 = 12\n",
    "print(x)  # Output: 12\n",
    "\n",
    "x /= 2  # Divide and assign: x is divided by 2, so 12 / 2 = 6.0\n",
    "print(x)  # Output: 6.0\n",
    "\n",
    "x %= 2  # Modulus and assign: x becomes the remainder of 6.0 / 2, which is 0.0\n",
    "print(x)  # Output: 0.0\n",
    "\n",
    "x = 5  # Reset x for exponentiation\n",
    "x **= 2  # Exponent and assign: x becomes 5 squared, which is 25\n",
    "print(x)  # Output: 25\n",
    "\n",
    "x //= 2  # Floor division and assign: x is divided by 2 and floored, so 25 // 2 = 12\n",
    "print(x)  # Output: 12"
   ]
  },
  {
   "cell_type": "markdown",
   "metadata": {},
   "source": [
    "## **7. Membership Operators**\n",
    "Membership operators are used to check if a value is a member of a sequence (such as a list, string, or tuple).\n",
    "\n",
    "| Operator | Description                        | Example                |\n",
    "|----------|------------------------------------|------------------------|\n",
    "| in       | Returns True if the value exists   | 'a' in 'apple' → True  |\n",
    "| not in   | Returns True if value does not exist | 'b' not in 'apple' → True |\n"
   ]
  },
  {
   "cell_type": "code",
   "execution_count": null,
   "metadata": {},
   "outputs": [],
   "source": [
    "# in: 'a' exists in 'apple'\n",
    "print('a' in 'apple')  # Output: True\n",
    "\n",
    "# not in: 'b' does not exist in 'apple'\n",
    "print('b' not in 'apple')  # Output: True"
   ]
  },
  {
   "cell_type": "markdown",
   "metadata": {},
   "source": [
    "## **8. Identity Operators**\n",
    "Identity operators check if two objects have the same memory location.\n",
    "| Operator  | Description                                       | Example         |\n",
    "|-----------|---------------------------------------------------|-----------------|\n",
    "| is        | Returns True if two variables point to the same object | x is y         |\n",
    "| is not    | Returns True if two variables point to different objects | x is not y     |\n"
   ]
  },
  {
   "cell_type": "code",
   "execution_count": null,
   "metadata": {},
   "outputs": [],
   "source": [
    "# \"is\": Returns True if both variables point to the same object in memory\n",
    "x = [1, 2, 3]\n",
    "y = x  # y points to the same object as x\n",
    "print(x is y)  # Output: True (x and y refer to the same object)\n",
    "\n",
    "# \"is not\": Returns True if variables point to different objects\n",
    "z = [1, 2, 3]  # z is a different object, even though it has the same content as x\n",
    "print(x is not z)  # Output: True (x and z are different objects)\n",
    "\n",
    "# Even though x and z have the same values, they are stored in different memory locations\n",
    "print(x == z)  # Output: True (the values are the same)\n",
    "print(x is z)  # Output: False (they are different objects in memory)"
   ]
  },
  {
   "cell_type": "markdown",
   "metadata": {},
   "source": [
    "## **9. Operator Precedence**\n",
    "Operator precedence defines the order in which operations are performed. Operators with higher precedence are executed before operators with lower precedence.\n",
    "\n",
    "| Precedence Level  | Operator Types                                           |\n",
    "|-------------------|----------------------------------------------------------|\n",
    "| Highest           | ** (Exponentiation)                                      |\n",
    "|                   | +x, -x, ~x (Unary plus, minus, bitwise NOT)              |\n",
    "|                   | *, /, //, % (Multiplication, division, modulus)          |\n",
    "|                   | +, - (Addition, subtraction)                             |\n",
    "|                   | <<, >> (Bitwise shifts)                                  |\n",
    "|                   | & (Bitwise AND)                                          |\n",
    "|                   | ^ (Bitwise XOR)                                          |\n",
    "|                   | \\| (Bitwise OR)                                          |\n",
    "|                   | ==, !=, >, <, >=, <= (Comparison)                        |\n",
    "|                   | is, is not, in, not in (Identity and membership)         |\n",
    "|                   | not                                                      |\n",
    "| Lowest            | and, or                                                  |\n"
   ]
  },
  {
   "cell_type": "code",
   "execution_count": null,
   "metadata": {},
   "outputs": [],
   "source": [
    "# Exponentiation has the highest precedence: 2**3 = 8, then 8 + 5 = 13\n",
    "print(2 ** 3 + 5)  # Output: 13\n",
    "\n",
    "# Unary plus/minus: -3 plus 2 equals -1\n",
    "print(-3 + 2)  # Output: -1\n",
    "\n",
    "# Multiplication before addition: 3*2 = 6, then 6 + 5 = 11\n",
    "print(3 * 2 + 5)  # Output: 11\n",
    "\n",
    "# Bitwise shifts and AND: 5 << 1 is 10, then 10 & 3 equals 2\n",
    "print(5 << 1 & 3)  # Output: 2\n",
    "\n",
    "# Comparison: 5 > 3 is True, True == True is True\n",
    "print(5 > 3 == True)  # Output: True\n",
    "\n",
    "# Logical AND evaluated before OR: True and False is False, False or True is True\n",
    "print(True and False or True)  # Output: True"
   ]
  },
  {
   "cell_type": "markdown",
   "metadata": {},
   "source": [
    "## **10. Expressions in Python**\n",
    "\n",
    "An expression is any combination of values, variables, and operators that evaluates to a value. In Python, almost everything is an expression.\n"
   ]
  },
  {
   "cell_type": "code",
   "execution_count": null,
   "metadata": {},
   "outputs": [],
   "source": [
    "# A simple arithmetic expression\n",
    "x = 10 + 5 * 2\n",
    "\n",
    "# A logical expression\n",
    "y = (x > 10) and (x < 30)\n",
    "\n",
    "# A function call expression\n",
    "result = len([1, 2, 3, 4])"
   ]
  },
  {
   "cell_type": "markdown",
   "metadata": {},
   "source": [
    "In each of these cases, the expressions produce values that can be assigned to variables or used directly in other operations."
   ]
  },
  {
   "cell_type": "markdown",
   "metadata": {},
   "source": [
    "## **Conclusion**\n",
    "Understanding operators and expressions is crucial to working with data in Python. Operators allow you to perform a wide range of actions, from basic arithmetic to complex logical tests, while expressions let you evaluate and manipulate data. By mastering operators and their precedence, you can write efficient and clear Python code."
   ]
  }
 ],
 "metadata": {
  "language_info": {
   "name": "python"
  }
 },
 "nbformat": 4,
 "nbformat_minor": 2
}
