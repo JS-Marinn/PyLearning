{
 "cells": [
  {
   "cell_type": "markdown",
   "metadata": {},
   "source": [
    "# Basic Data Types: **Integers**\n",
    "\n",
    "<p style=\"text-align: center;\">\n",
    "  <img src=\"../img/integers-floats.webp\" width=\"1000\">\n",
    "</p>\n",
    "\n",
    "*Source: [[Link to the original source](https://realpython.com)]*"
   ]
  },
  {
   "cell_type": "markdown",
   "metadata": {},
   "source": [
    "> ### ⚠️ **Warning!** Some items cover more advanced topics that will be covered in more depth later. They are included here for future reference. \n",
    "> * #### Topics that will be covered soon will be marked with: 🔶 \n",
    "> \n",
    "> * #### Topics that will be covered further away will be marked with: 🔴"
   ]
  },
  {
   "cell_type": "markdown",
   "metadata": {},
   "source": [
    "**Integers in Python** are one of the most basic and essential data types in the language. They are represented by the `int` class and can store any numeric value without decimals, whether positive or negative. Below, we’ll explore various aspects of integers in Python."
   ]
  },
  {
   "cell_type": "markdown",
   "metadata": {},
   "source": [
    "## 1. **Creating Integers**\n",
    "\n",
    "Creating integers in Python is straightforward: simply assign a numeric value to a variable."
   ]
  },
  {
   "cell_type": "code",
   "execution_count": null,
   "metadata": {},
   "outputs": [],
   "source": [
    "a = 10    # Positive integer\n",
    "b = -5    # Negative integer\n",
    "c = 0     # Zero is also an integer"
   ]
  },
  {
   "cell_type": "markdown",
   "metadata": {},
   "source": [
    "**Importance:**\n",
    "\n",
    "Integers are a fundamental data type in Python, used to represent whole numbers. They are essential for various mathematical operations, counting, indexing, and logical comparisons."
   ]
  },
  {
   "cell_type": "markdown",
   "metadata": {},
   "source": [
    "## 2. **Basic Operations with Integers** 🔶\n",
    "\n",
    "Integers support basic arithmetic operations, such as:\n",
    "\n",
    "* **Addition** (``+``): Adds two numbers.\n",
    "* **Subtraction** (``-``): Subtracts one number from another.\n",
    "* **Multiplication** (``*``): Multiplies two numbers.\n",
    "* **Floor division** (`//`): Divides and returns the integer part of the quotient.\n",
    "* **Modulus** (``%``): Returns the remainder of the division.\n",
    "* **Exponentiation** (``**``): Raises one number to the power of another."
   ]
  },
  {
   "cell_type": "code",
   "execution_count": null,
   "metadata": {},
   "outputs": [],
   "source": [
    "x = 8 + 5      # Addition: 13\n",
    "y = 10 - 4     # Subtraction: 6\n",
    "z = 7 * 3      # Multiplication: 21\n",
    "w = 20 // 3    # Floor division: 6\n",
    "m = 20 % 3     # Modulus (remainder): 2\n",
    "e = 2 ** 3     # Exponentiation: 8"
   ]
  },
  {
   "cell_type": "markdown",
   "metadata": {},
   "source": [
    "**Importance:**\n",
    "\n",
    "Basic arithmetic operations with integers are fundamental to performing calculations, solving mathematical problems, and implementing algorithms in various domains."
   ]
  },
  {
   "cell_type": "markdown",
   "metadata": {},
   "source": [
    "## 3. **Properties of integers**\n",
    "\n",
    "Python supports arbitrarily large integers since there is no predefined limit on their size (except for memory constraints)."
   ]
  },
  {
   "cell_type": "code",
   "execution_count": null,
   "metadata": {},
   "outputs": [],
   "source": [
    "big_number = 9999999999999999999999999999999999999\n",
    "print(big_number)   # Python handles it without issues"
   ]
  },
  {
   "cell_type": "markdown",
   "metadata": {},
   "source": [
    "**Importance:**\n",
    "\n",
    "Python's support for arbitrarily large integers is a significant advantage compared to languages with fixed-size integer types. This flexibility allows you to work with:\n",
    "\n",
    "* **Large numbers:** Perform calculations involving numbers that exceed the maximum value of fixed-size integer types.\n",
    "* **Cryptography:** Implement cryptographic algorithms that require large prime numbers and modular arithmetic.\n",
    "* **Scientific computing:** Handle calculations involving very large or very small numbers without overflow or underflow errors.\n",
    "* **Number theory:** Explore mathematical concepts related to integers, such as prime numbers, factorization, and Diophantine equations."
   ]
  },
  {
   "cell_type": "markdown",
   "metadata": {},
   "source": [
    "## 4. **Comparison Operators** 🔶\n",
    "\n",
    "You can compare integers using comparison operators:\n",
    "\n",
    "* ``==`` (equal to)\n",
    "* ``!=`` (not equal to)\n",
    "* ``<`` (less than)\n",
    "* ``<=`` (less than or equal to)\n",
    "* ``>`` (greater than)\n",
    "* ``>=`` (greater than or equal to)"
   ]
  },
  {
   "cell_type": "code",
   "execution_count": null,
   "metadata": {},
   "outputs": [],
   "source": [
    "a = 10\n",
    "b = 5\n",
    "\n",
    "print(a == b)   # False, because 10 is not equal to 5\n",
    "print(a > b)    # True, because 10 is greater than 5"
   ]
  },
  {
   "cell_type": "markdown",
   "metadata": {},
   "source": [
    "**Importance:**\n",
    "\n",
    "Comparison operators are essential for making decisions and controlling the flow of execution in your Python programs. They allow you to:\n",
    "\n",
    "* **Check conditions:** Determine whether a specific condition is true or false.\n",
    "* **Implement decision-making:** Use if-else statements to execute different code blocks based on comparison results.\n",
    "* **Create loops:** Iterate over a range of values or until a certain condition is met.\n",
    "* **Sort data:** Arrange elements in a specific order based on their comparison.\n",
    "* **Validate input:** Ensure that user input meets certain criteria."
   ]
  },
  {
   "cell_type": "markdown",
   "metadata": {},
   "source": [
    "## 5. **Useful Functions and Methods with Integers** 🔶\n",
    "\n",
    "Python provides several built-in functions and methods that can be applied to integers, offering additional functionality and convenience.\n",
    "\n",
    "Some of them:"
   ]
  },
  {
   "cell_type": "markdown",
   "metadata": {},
   "source": [
    "### ``abs()`` **Function**\n",
    "\n",
    "Returns the absolute value of a number (without the sign)."
   ]
  },
  {
   "cell_type": "code",
   "execution_count": null,
   "metadata": {},
   "outputs": [],
   "source": [
    "print(abs(-10))   # 10"
   ]
  },
  {
   "cell_type": "markdown",
   "metadata": {},
   "source": [
    "### ``pow()`` **Function**\n",
    "\n",
    "Calculates the power of a number or modular power.\n",
    "\n"
   ]
  },
  {
   "cell_type": "code",
   "execution_count": null,
   "metadata": {},
   "outputs": [],
   "source": [
    "print(pow(2, 3))        # 2^3 = 8\n",
    "print(pow(2, 3, 5))     # (2^3) % 5 = 3"
   ]
  },
  {
   "cell_type": "markdown",
   "metadata": {},
   "source": [
    "### ``divmod()`` **Function**\n",
    "\n",
    "Returns a tuple containing the quotient and remainder of a division.\n",
    "\n"
   ]
  },
  {
   "cell_type": "code",
   "execution_count": null,
   "metadata": {},
   "outputs": [],
   "source": [
    "quotient, remainder = divmod(20, 3)\n",
    "print(quotient)   # 6\n",
    "print(remainder)  # 2"
   ]
  },
  {
   "cell_type": "markdown",
   "metadata": {},
   "source": [
    "### ``bin(), oct(), hex()`` **Function**\n",
    "\n",
    "Convert an integer to its binary, octal, or hexadecimal representation.\n",
    "\n"
   ]
  },
  {
   "cell_type": "code",
   "execution_count": null,
   "metadata": {},
   "outputs": [],
   "source": [
    "print(bin(10))    # '0b1010'\n",
    "print(oct(10))    # '0o12'\n",
    "print(hex(10))    # '0xa'"
   ]
  },
  {
   "cell_type": "markdown",
   "metadata": {},
   "source": [
    "## 6. **Type Conversions** 🔶\n",
    "\n",
    "You can convert integers to other data types using type conversion functions.\n",
    "\n",
    "* Convert to float: ``float()``\n",
    "* Convert to string: ``str()``\n",
    "* Convert to boolean: ``bool()``\n"
   ]
  },
  {
   "cell_type": "code",
   "execution_count": null,
   "metadata": {},
   "outputs": [],
   "source": [
    "integer = 5\n",
    "float_num = float(integer)    # 5.0\n",
    "string_num = str(integer)     # '5'\n",
    "boolean_num = bool(integer)   # True, because any non-zero number is True"
   ]
  },
  {
   "cell_type": "markdown",
   "metadata": {},
   "source": [
    "**Importance:**\n",
    "\n",
    "Type conversions are crucial in Python programming as they allow you to manipulate and operate on data of different types. By converting data types, you can perform calculations, combine strings and numbers, and make logical comparisons."
   ]
  },
  {
   "cell_type": "markdown",
   "metadata": {},
   "source": [
    "## 7. **Bitwise Operations** 🔶\n",
    "\n",
    "Integers in Python allow for bitwise operations, which are useful in low-level programming:\n",
    "\n",
    "* AND ``(&)``: Bitwise AND.\n",
    "* OR ``(|)``: Bitwise OR.\n",
    "* XOR ``(^)``: Bitwise XOR.\n",
    "* NOT ``(~)``: Bitwise NOT.\n",
    "* Left shift ``(<<)``: Shifts bits to the left.\n",
    "* Right shift ``(>>)``: Shifts bits to the right."
   ]
  },
  {
   "cell_type": "code",
   "execution_count": null,
   "metadata": {},
   "outputs": [],
   "source": [
    "x = 5    # 0b0101 in binary\n",
    "y = 3    # 0b0011 in binary\n",
    "\n",
    "print(x & y)    # 1, 0b0001\n",
    "print(x | y)    # 7, 0b0111\n",
    "print(x ^ y)    # 6, 0b0110\n",
    "print(~x)       # -6 (bitwise inversion of 5)\n",
    "print(x << 1)   # 10, 0b1010 (left shift of 5)\n",
    "print(x >> 1)   # 2, 0b0010 (right shift of 5)"
   ]
  },
  {
   "cell_type": "markdown",
   "metadata": {},
   "source": [
    "**Importance**\n",
    "\n",
    "Bitwise operations are commonly used in programming for various purposes, such as:\n",
    "\n",
    "* **Bit manipulation**: Setting, clearing, or checking specific bits in a number.\n",
    "* **Data compression**: Reducing the size of data by eliminating redundant bits.\n",
    "* **Cryptography**: Encrypting and decrypting data using bitwise operations.\n",
    "* **Error detection and correction**: Detecting and correcting errors in data transmission.\n",
    "* **Optimization** :Improving the performance of algorithms by using bitwise operations instead of arithmetic operations."
   ]
  },
  {
   "cell_type": "markdown",
   "metadata": {},
   "source": [
    "## 8. **Handling Exceptions with Integers** 🔴\n",
    "\n",
    "It's important to handle potential exceptions that can arise from operations on integers, such as division by zero."
   ]
  },
  {
   "cell_type": "code",
   "execution_count": null,
   "metadata": {},
   "outputs": [],
   "source": [
    "try:\n",
    "    result = 10 // 0\n",
    "except ZeroDivisionError:\n",
    "    print(\"Cannot divide by zero.\")"
   ]
  },
  {
   "cell_type": "markdown",
   "metadata": {},
   "source": [
    "**Importance:** \n",
    "\n",
    "The importance of handling exceptions with integers lies in preventing unexpected behavior and ensuring program stability. When performing operations on integers, there are possibilities of encountering situations that could lead to errors, such as dividing by zero or attempting to perform arithmetic operations on values that exceed the maximum or minimum integer limits."
   ]
  },
  {
   "cell_type": "markdown",
   "metadata": {},
   "source": [
    "## 9. **Fibonacci Numbers Using Integers** 🔴\n",
    "\n",
    "A classic example involving integers is generating the Fibonacci sequence."
   ]
  },
  {
   "cell_type": "code",
   "execution_count": null,
   "metadata": {},
   "outputs": [],
   "source": [
    "def fibonacci(n):\n",
    "    \"\"\"\n",
    "    Generates the first `n` Fibonacci numbers.\n",
    "\n",
    "    Args:\n",
    "        n (int): The number of Fibonacci numbers to generate.\n",
    "\n",
    "    Returns:\n",
    "        None\n",
    "    \"\"\"\n",
    "\n",
    "    # Initialize variables for the first two Fibonacci numbers.\n",
    "    a, b = 0, 1\n",
    "\n",
    "    # Iterate `n` times to generate the desired number of Fibonacci numbers.\n",
    "    for _ in range(n):\n",
    "        # Print the current Fibonacci number.\n",
    "        print(a, end=\" \")\n",
    "\n",
    "        # Calculate the next Fibonacci number by adding the previous two.\n",
    "        a, b = b, a + b"
   ]
  },
  {
   "cell_type": "markdown",
   "metadata": {},
   "source": [
    "**Explanation:**\n",
    "\n",
    "- The code defines a function `is_prime(n)` that checks if a given number `n` is prime.\n",
    "- It handles base cases (0 and 1 are not prime).\n",
    "- It iterates from 2 up to the square root of `n` to check for divisibility.\n",
    "- If no divisors are found, the number is prime."
   ]
  },
  {
   "cell_type": "markdown",
   "metadata": {},
   "source": [
    "## 10. **Prime Number Check Algorithm** 🔴\n",
    "\n",
    "Another common algorithm using integers is checking if a number is prime."
   ]
  },
  {
   "cell_type": "code",
   "execution_count": null,
   "metadata": {},
   "outputs": [],
   "source": [
    "def is_prime(n):\n",
    "    \"\"\"\n",
    "    Checks if a given number is prime.\n",
    "\n",
    "    Args:\n",
    "        n (int): The number to check.\n",
    "\n",
    "    Returns:\n",
    "        bool: True if `n` is prime, False otherwise.\n",
    "    \"\"\"\n",
    "\n",
    "    # Handle base cases: 0 and 1 are not prime.\n",
    "    if n < 2:\n",
    "        return False\n",
    "\n",
    "    # Check divisibility by numbers from 2 up to the square root of `n`.\n",
    "    for i in range(2, int(n**0.5) + 1):\n",
    "        if n % i == 0:  # If `n` is divisible by `i`, it's not prime.\n",
    "            return False\n",
    "\n",
    "    # If no divisors were found, `n` is prime.\n",
    "    return True"
   ]
  },
  {
   "cell_type": "markdown",
   "metadata": {},
   "source": [
    "**Explanation:**\n",
    "\n",
    "- The code defines a function `fibonacci(n)` that generates the first `n` Fibonacci numbers.\n",
    "- It initializes variables for the first two Fibonacci numbers.\n",
    "- It iterates `n` times, printing each Fibonacci number and calculating the next one."
   ]
  },
  {
   "cell_type": "markdown",
   "metadata": {},
   "source": [
    "## **Conclusion**\n",
    "\n",
    "In Python, integers (``int``) are highly versatile and offer a wide range of operations, functions, and methods that allow efficient manipulation of numbers. Their ease of use and integration with other data types make integers a powerful tool for developers of all levels."
   ]
  }
 ],
 "metadata": {
  "kernelspec": {
   "display_name": "env",
   "language": "python",
   "name": "python3"
  },
  "language_info": {
   "codemirror_mode": {
    "name": "ipython",
    "version": 3
   },
   "file_extension": ".py",
   "mimetype": "text/x-python",
   "name": "python",
   "nbconvert_exporter": "python",
   "pygments_lexer": "ipython3",
   "version": "3.12.2"
  }
 },
 "nbformat": 4,
 "nbformat_minor": 2
}
