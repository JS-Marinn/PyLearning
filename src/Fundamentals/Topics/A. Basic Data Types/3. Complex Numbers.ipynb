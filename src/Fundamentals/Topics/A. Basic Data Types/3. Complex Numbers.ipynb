{
 "cells": [
  {
   "cell_type": "markdown",
   "metadata": {},
   "source": [
    "# Basic Data Types: **Complex Numbers**\n",
    "\n",
    "<p style=\"text-align: center;\">\n",
    "  <img src=\"../img/complex-numbers.webp\" width=\"1000\">\n",
    "</p>\n",
    "\n",
    "*Source: [[Link to the original source](https://realpython.com)]*"
   ]
  },
  {
   "cell_type": "markdown",
   "metadata": {},
   "source": [
    "> ### ⚠️ **Warning!** Some items cover more advanced topics that will be covered in more depth later. They are included here for future reference. \n",
    "> * #### Topics that will be covered soon will be marked with: 🔶 \n",
    "> \n",
    "> * #### Topics that will be covered further away will be marked with: 🔴"
   ]
  },
  {
   "cell_type": "markdown",
   "metadata": {},
   "source": [
    "In Python, **complex numbers** are a built-in data type that represents numbers with a real part and an imaginary part. They are used extensively in fields such as mathematics, physics, and engineering. Let’s explore complex numbers in Python, covering everything from creation to operations."
   ]
  },
  {
   "cell_type": "markdown",
   "metadata": {},
   "source": [
    "## 1. **Creating Complex Numbers**\n",
    "\n",
    "Complex numbers are defined using the ``complex(real, imag)`` function or by using the ``j`` notation for the imaginary part.\n",
    "\n"
   ]
  },
  {
   "cell_type": "code",
   "execution_count": null,
   "metadata": {},
   "outputs": [],
   "source": [
    "# Using complex() function\n",
    "c1 = complex(2, 3)  # Represents 2 + 3j\n",
    "\n",
    "# Using j notation\n",
    "c2 = 4 + 5j  # Represents 4 + 5j\n",
    "\n",
    "print(c1)  # Output: (2+3j)\n",
    "print(c2)  # Output: (4+5j)"
   ]
  },
  {
   "cell_type": "markdown",
   "metadata": {},
   "source": [
    "**Importance**\n",
    "\n",
    "Understanding how to create complex numbers is fundamental, as it establishes the basis for all further operations. Complex numbers are essential in various fields, including engineering and physics, where they are used to represent waveforms, electrical currents, and more."
   ]
  },
  {
   "cell_type": "markdown",
   "metadata": {},
   "source": [
    "## 2. **Real and Imaginary Parts**\n",
    "\n",
    "You can access the real and imaginary parts of a complex number using the ``.real`` and ``.imag`` attributes."
   ]
  },
  {
   "cell_type": "code",
   "execution_count": null,
   "metadata": {},
   "outputs": [],
   "source": [
    "c = 3 + 4j\n",
    "real_part = c.real  # 3.0\n",
    "imaginary_part = c.imag  # 4.0\n",
    "\n",
    "print(f\"Real part: {real_part}, Imaginary part: {imaginary_part}\")"
   ]
  },
  {
   "cell_type": "markdown",
   "metadata": {},
   "source": [
    "**Importance**\n",
    "\n",
    "Accessing the real and imaginary components allows users to extract essential information from complex numbers. This separation is crucial for many mathematical applications, such as signal processing and control systems, where real and imaginary parts may represent different physical quantities."
   ]
  },
  {
   "cell_type": "markdown",
   "metadata": {},
   "source": [
    "## 3. **Basic Operations** 🔶\n",
    " \n",
    "You can perform various mathematical operations with complex numbers, including addition, subtraction, multiplication, and division.\n"
   ]
  },
  {
   "cell_type": "markdown",
   "metadata": {},
   "source": [
    "### 3.1. **Addition**"
   ]
  },
  {
   "cell_type": "code",
   "execution_count": null,
   "metadata": {},
   "outputs": [],
   "source": [
    "c1 = 1 + 2j\n",
    "c2 = 3 + 4j\n",
    "result_add = c1 + c2  # (1+2j) + (3+4j) = 4 + 6j"
   ]
  },
  {
   "cell_type": "markdown",
   "metadata": {},
   "source": [
    "### 3.2. **Subtraction**\n",
    " "
   ]
  },
  {
   "cell_type": "code",
   "execution_count": null,
   "metadata": {},
   "outputs": [],
   "source": [
    "result_subtract = c1 - c2  # (1+2j) - (3+4j) = -2 - 2j"
   ]
  },
  {
   "cell_type": "markdown",
   "metadata": {},
   "source": [
    "### 3.3. **Multiplication**"
   ]
  },
  {
   "cell_type": "code",
   "execution_count": null,
   "metadata": {},
   "outputs": [],
   "source": [
    "result_multiply = c1 * c2  # (1+2j) * (3+4j) = -5 + 10j"
   ]
  },
  {
   "cell_type": "markdown",
   "metadata": {},
   "source": [
    "### 3.4. **Division**"
   ]
  },
  {
   "cell_type": "code",
   "execution_count": null,
   "metadata": {},
   "outputs": [],
   "source": [
    "result_divide = c1 / c2  # (1+2j) / (3+4j) = 0.44 + 0.08j"
   ]
  },
  {
   "cell_type": "markdown",
   "metadata": {},
   "source": [
    "**Importance**\n",
    "\n",
    "Performing operations like addition, subtraction, multiplication, and division is critical for manipulating complex numbers in calculations. These operations are frequently encountered in engineering, physics, and applied mathematics, making them essential for solving complex equations."
   ]
  },
  {
   "cell_type": "markdown",
   "metadata": {},
   "source": [
    "## 4. **Complex Conjugate**\n",
    "\n",
    "<p style=\"text-align: left;\">\n",
    "  <img src=\"../img/complex-conjugate.webp\" width=\"500\">\n",
    "</p>\n",
    "\n",
    "The complex conjugate of a complex number can be obtained using the .conjugate() method or by changing the sign of the imaginary part."
   ]
  },
  {
   "cell_type": "code",
   "execution_count": null,
   "metadata": {},
   "outputs": [],
   "source": [
    "c = 3 + 4j\n",
    "conjugate_c = c.conjugate()  # 3 - 4j"
   ]
  },
  {
   "cell_type": "markdown",
   "metadata": {},
   "source": [
    "**Importance**\n",
    "\n",
    "The complex conjugate plays a vital role in many mathematical and engineering applications, especially in simplifying expressions and solving equations involving complex numbers."
   ]
  },
  {
   "cell_type": "markdown",
   "metadata": {},
   "source": [
    "## 5. **Magnitude and Phase**\n",
    "\n",
    "<p style=\"text-align: left;\">\n",
    "  <img src=\"../img/magnitude-phase-complex-numbers.png\" width=\"500\">\n",
    "</p>\n",
    "\n",
    "You can calculate the magnitude (or absolute value) of a complex number using the ``abs()`` function, and the phase (or angle) using the ``cmath`` module."
   ]
  },
  {
   "cell_type": "code",
   "execution_count": null,
   "metadata": {},
   "outputs": [],
   "source": [
    "import cmath\n",
    "\n",
    "c = 3 + 4j\n",
    "magnitude = abs(c)  # 5.0\n",
    "phase = cmath.phase(c)  # 0.9272952180016122 (in radians)\n",
    "\n",
    "print(f\"Magnitude: {magnitude}, Phase: {phase}\")\n"
   ]
  },
  {
   "cell_type": "markdown",
   "metadata": {},
   "source": [
    "**Importance**\n",
    "\n",
    "Calculating the magnitude and phase of complex numbers is essential in various applications, such as signal processing and communications, where the amplitude and phase of signals are critical for understanding wave behaviors."
   ]
  },
  {
   "cell_type": "markdown",
   "metadata": {},
   "source": [
    "## 6. **Complex Number Functions** \n",
    "\n",
    "The ``cmath`` module provides several useful functions for complex numbers:\n",
    "\n",
    "* ``cmath.sqrt()``: Returns the square root.\n",
    "* ``cmath.exp()``: Returns the exponential.\n",
    "* ``cmath.log()``: Returns the natural logarithm.\n",
    "* ``cmath.sin()``, ``cmath.cos()``, ``cmath.tan()``: Trigonometric functions.\n",
    "\n"
   ]
  },
  {
   "cell_type": "code",
   "execution_count": null,
   "metadata": {},
   "outputs": [],
   "source": [
    "import cmath\n",
    "\n",
    "c = 1 + 1j\n",
    "sqrt_c = cmath.sqrt(c)  # (1.0986841134678098+0.45508986056222733j)\n",
    "exp_c = cmath.exp(c)     # (1.4686939399158851+2.2873552871788423j)\n",
    "\n",
    "print(f\"Square root: {sqrt_c}, Exponential: {exp_c}\")"
   ]
  },
  {
   "cell_type": "markdown",
   "metadata": {},
   "source": [
    "**Importance**\n",
    "\n",
    "Functions provided by the ``cmath`` module enable advanced mathematical operations, allowing users to explore properties of complex numbers, which are frequently used in scientific computations."
   ]
  },
  {
   "cell_type": "markdown",
   "metadata": {},
   "source": [
    "## 7. **Comparing Complex Numbers** 🔶\n",
    "\n",
    "Complex numbers can be compared using the equality operator (==), but you cannot directly use comparison operators like <, >, etc., because Python doesn’t define an ordering for complex numbers."
   ]
  },
  {
   "cell_type": "code",
   "execution_count": null,
   "metadata": {},
   "outputs": [],
   "source": [
    "c1 = 1 + 2j\n",
    "c2 = 1 + 2j\n",
    "c3 = 2 + 3j\n",
    "\n",
    "print(c1 == c2)  # True\n",
    "print(c1 == c3)  # False"
   ]
  },
  {
   "cell_type": "markdown",
   "metadata": {},
   "source": [
    "**Importance**\n",
    "\n",
    "Understanding how to compare complex numbers is important for logical evaluations in programming. Even though complex numbers do not have a natural order, comparing them can still be useful in certain applications."
   ]
  },
  {
   "cell_type": "markdown",
   "metadata": {},
   "source": [
    "## 8. **Complex Numbers in Lists** 🔴\n",
    "\n",
    "You can store complex numbers in lists or NumPy arrays for more complex data structures and computations.\n"
   ]
  },
  {
   "cell_type": "code",
   "execution_count": null,
   "metadata": {},
   "outputs": [],
   "source": [
    "complex_list = [1 + 2j, 3 + 4j, 5 + 6j]\n",
    "for c in complex_list:\n",
    "    print(c)"
   ]
  },
  {
   "cell_type": "markdown",
   "metadata": {},
   "source": [
    "**Importance**\n",
    "\n",
    "Storing complex numbers in data structures like lists and NumPy arrays enhances computational efficiency, especially in applications involving large datasets, making it easier to perform batch operations and analyses."
   ]
  },
  {
   "cell_type": "markdown",
   "metadata": {},
   "source": [
    "## 9. **Practical Example: Complex Number Operations** 🔴\n",
    "\n",
    "Here’s a simple example function to perform basic operations on complex numbers."
   ]
  },
  {
   "cell_type": "code",
   "execution_count": null,
   "metadata": {},
   "outputs": [],
   "source": [
    "def complex_operations(c1, c2):\n",
    "    return {\n",
    "        \"addition\": c1 + c2,\n",
    "        \"subtraction\": c1 - c2,\n",
    "        \"multiplication\": c1 * c2,\n",
    "        \"division\": c1 / c2,\n",
    "        \"conjugate_c1\": c1.conjugate(),\n",
    "        \"conjugate_c2\": c2.conjugate()\n",
    "    }\n",
    "\n",
    "c1 = 2 + 3j\n",
    "c2 = 4 + 5j\n",
    "results = complex_operations(c1, c2)\n",
    "\n",
    "for operation, result in results.items():\n",
    "    print(f\"{operation}: {result}\")"
   ]
  },
  {
   "cell_type": "markdown",
   "metadata": {},
   "source": [
    "**Importance**\n",
    "\n",
    "Providing practical examples helps reinforce understanding of how complex number operations are applied in real-world scenarios, making the learning experience more concrete and relatable."
   ]
  },
  {
   "cell_type": "markdown",
   "metadata": {},
   "source": [
    "## Conclusion\n",
    "\n",
    "Complex numbers in Python are straightforward to use and provide powerful tools for mathematical computations. With built-in support for operations, functions in the ``cmath`` module, and compatibility with data structures like lists and NumPy arrays, complex numbers can be efficiently managed and manipulated in various applications. Whether you're working in physics, engineering, or mathematics, Python’s handling of complex numbers will support your computational needs."
   ]
  }
 ],
 "metadata": {
  "kernelspec": {
   "display_name": "env",
   "language": "python",
   "name": "python3"
  },
  "language_info": {
   "codemirror_mode": {
    "name": "ipython",
    "version": 3
   },
   "file_extension": ".py",
   "mimetype": "text/x-python",
   "name": "python",
   "nbconvert_exporter": "python",
   "pygments_lexer": "ipython3",
   "version": "3.12.2"
  }
 },
 "nbformat": 4,
 "nbformat_minor": 2
}
