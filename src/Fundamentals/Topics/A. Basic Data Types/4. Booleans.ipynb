{
 "cells": [
  {
   "cell_type": "markdown",
   "metadata": {},
   "source": [
    "# Basic Data Types: **Booleans**\n",
    "\n",
    "<p style=\"text-align: center;\">\n",
    "  <img src=\"../img/complex-numbers.webp\" width=\"1000\">\n",
    "</p>\n",
    "\n",
    "*Source: [[Link to the original source](https://realpython.com)]*"
   ]
  },
  {
   "cell_type": "markdown",
   "metadata": {},
   "source": [
    "> ### ⚠️ **Warning!** Some items cover more advanced topics that will be covered in more depth later. They are included here for future reference. \n",
    "> * #### Topics that will be covered soon will be marked with: 🔶 \n",
    "> \n",
    "> * #### Topics that will be covered further away will be marked with: 🔴"
   ]
  },
  {
   "cell_type": "markdown",
   "metadata": {},
   "source": [
    "Booleans in Python represent truth values and are a fundamental data type used in conditions, comparisons, and control flow. Python uses the ``bool`` class to handle Booleans, which can have only two values: ``True`` or ``False``. They are closely tied to logical and comparison operations and are essential for making decisions in code.\n",
    "\n",
    "Let’s explore everything about Booleans in Python."
   ]
  },
  {
   "cell_type": "markdown",
   "metadata": {},
   "source": [
    "## 1. **Creating Booleans**\n",
    "\n",
    "In Python, ``True`` and ``False`` are reserved keywords representing the two Boolean values. You can directly assign them to variables:"
   ]
  },
  {
   "cell_type": "code",
   "execution_count": null,
   "metadata": {},
   "outputs": [],
   "source": [
    "a = True\n",
    "b = False"
   ]
  },
  {
   "cell_type": "markdown",
   "metadata": {},
   "source": [
    "## 2. **Booleans as Numbers**\n",
    "\n",
    "Booleans in Python are a subclass of integers, meaning that True is equivalent to 1, and False is equivalent to 0. You can perform arithmetic operations with Booleans because of this."
   ]
  },
  {
   "cell_type": "code",
   "execution_count": null,
   "metadata": {},
   "outputs": [],
   "source": [
    "print(True + True)    # 2 (1 + 1)\n",
    "print(True * 10)      # 10 (1 * 10)\n",
    "print(False - 5)      # -5 (0 - 5)"
   ]
  },
  {
   "cell_type": "markdown",
   "metadata": {},
   "source": [
    "Even though Booleans are primarily used for logical operations, Python treats them as integers under the hood."
   ]
  },
  {
   "cell_type": "markdown",
   "metadata": {},
   "source": [
    "## 3. **Comparison Operators** 🔶\n",
    " \n",
    "Booleans are often the result of comparison operators. Python supports several comparison operators that return ``True`` or ``False``:\n",
    "\n",
    "* ``==``: Equal to\n",
    "* ``!=``: Not equal to\n",
    "* ``>``: Greater than\n",
    "* ``<``: Less than\n",
    "* ``>=``: Greater than or equal to\n",
    "* ``<=``: Less than or equal to"
   ]
  },
  {
   "cell_type": "code",
   "execution_count": null,
   "metadata": {},
   "outputs": [],
   "source": [
    "x = 10\n",
    "y = 20\n",
    "\n",
    "print(x == y)    # False, because 10 is not equal to 20\n",
    "print(x < y)     # True, because 10 is less than 20"
   ]
  },
  {
   "cell_type": "markdown",
   "metadata": {},
   "source": [
    "## 4. **Logical Operators** 🔶\n",
    "\n",
    "Python provides three logical operators to combine Boolean values:\n",
    "\n",
    "* ``and``: Returns ``True`` if both operands are ``True``.\n",
    "* ``or``: Returns ``True`` if at least one operand is ``True``.\n",
    "* ``not``: Returns the negation of the operand (i.e., ``True`` becomes ``False``, and ``False`` becomes ``True``)."
   ]
  },
  {
   "cell_type": "code",
   "execution_count": null,
   "metadata": {},
   "outputs": [],
   "source": [
    "a = True\n",
    "b = False\n",
    "\n",
    "print(a and b)    # False, because both are not True\n",
    "print(a or b)     # True, because one is True\n",
    "print(not a)      # False, because not True is False"
   ]
  },
  {
   "cell_type": "markdown",
   "metadata": {},
   "source": [
    "## 5. **Truthy and Falsy Values**\n",
    "\n",
    "In Python, many values can be interpreted as Booleans. Python considers some objects to be truthy (treated as ``True``) and others as falsy (treated as ``False``).\n",
    "\n",
    "* **Truthy values**: Non-zero numbers, non-empty strings, non-empty lists, etc.\n",
    "* **Falsy values**: ``0``, ``0.0``, ``None``, empty strings (``\"\"``), empty lists (``[]``), empty tuples (``()``), empty dictionaries (``{}``), and empty sets (``set()``)."
   ]
  },
  {
   "cell_type": "code",
   "execution_count": null,
   "metadata": {},
   "outputs": [],
   "source": [
    "print(bool(1))       # True\n",
    "print(bool(0))       # False\n",
    "print(bool(\"hello\")) # True\n",
    "print(bool(\"\"))      # False\n",
    "print(bool([]))      # False, empty list"
   ]
  },
  {
   "cell_type": "markdown",
   "metadata": {},
   "source": [
    "Any non-empty or non-zero value is considered True, while empty or zero values are considered False."
   ]
  },
  {
   "cell_type": "markdown",
   "metadata": {},
   "source": [
    "## 6. **Using Booleans in Control Flow** 🔶\n",
    "\n",
    "Booleans are essential in control structures like ``if``, ``elif``, and ``else``. They allow the program to make decisions based on conditions.\n"
   ]
  },
  {
   "cell_type": "code",
   "execution_count": null,
   "metadata": {},
   "outputs": [],
   "source": [
    "age = 18\n",
    "\n",
    "if age >= 18:\n",
    "    print(\"You are an adult.\")\n",
    "else:\n",
    "    print(\"You are not an adult.\")"
   ]
  },
  {
   "cell_type": "markdown",
   "metadata": {},
   "source": [
    "In this example, the comparison ``age >= 18`` returns a Boolean value (``True`` or ``False``), determining the flow of the program."
   ]
  },
  {
   "cell_type": "markdown",
   "metadata": {},
   "source": [
    "## 7. **Boolean Functions** 🔶\n",
    "\n",
    "Python provides built-in functions that return Boolean values:\n",
    "\n",
    "* ``bool()``: Converts a value to a Boolean (as seen above with truthy and falsy values).\n",
    "* ``isinstance()``: Checks if an object is an instance of a certain type.\n",
    "* ``all()``: Returns ``True`` if all elements in an iterable are truthy.\n",
    "* ``any()``: Returns ``True`` if any element in an iterable is truthy."
   ]
  },
  {
   "cell_type": "code",
   "execution_count": null,
   "metadata": {},
   "outputs": [],
   "source": [
    "# bool() function\n",
    "print(bool(5))          # True, because 5 is truthy\n",
    "print(bool(0))          # False, because 0 is falsy\n",
    "\n",
    "# isinstance() function\n",
    "print(isinstance(10, int))    # True, 10 is an integer\n",
    "\n",
    "# all() function\n",
    "print(all([True, True, True]))    # True, all elements are True\n",
    "print(all([True, False, True]))   # False, because one element is False\n",
    "\n",
    "# any() function\n",
    "print(any([False, False, True]))  # True, because at least one element is True\n",
    "print(any([False, False, False])) # False, all elements are False"
   ]
  },
  {
   "cell_type": "markdown",
   "metadata": {},
   "source": [
    "## 8. **Short-Circuiting in Logical Operators**\n",
    "\n",
    "Python uses short-circuiting in its logical operations. This means that when evaluating logical expressions, Python stops as soon as the result is determined.\n",
    "\n",
    "* For ``and``, if the first value is ``False``, it stops and returns ``False`` (because the whole expression will be ``False``).\n",
    "* For ``or``, if the first value is ``True``, it stops and returns ``True`` (because the whole expression will be ``True``)."
   ]
  },
  {
   "cell_type": "code",
   "execution_count": 3,
   "metadata": {},
   "outputs": [
    {
     "name": "stdout",
     "output_type": "stream",
     "text": [
      "False\n",
      "True\n"
     ]
    }
   ],
   "source": [
    "# 'and' short-circuits if the first operand is False\n",
    "print(False and (1 / 0))    # False, doesn't raise ZeroDivisionError\n",
    "\n",
    "# 'or' short-circuits if the first operand is True\n",
    "print(True or (1 / 0))      # True, doesn't raise ZeroDivisionError"
   ]
  },
  {
   "cell_type": "markdown",
   "metadata": {},
   "source": [
    "## 9. **Boolean Algebra**\n",
    "\n",
    "Booleans follow the rules of Boolean algebra, which can be summarized as:\n",
    "\n",
    "* **Identity laws**: ``x and True == x``, ``x or False == x``\n",
    "* **Annihilation laws**: ``x and False == False``, ``x or True == True``\n",
    "* **Idempotent laws**: ``x and x == x``, ``x or x == x``\n",
    "* **Commutative laws**: ``x and y == y and x``, ``x or y == y or x``\n",
    "* **Distributive laws**: ``x and (y or z) == (x and y) or (x and z)``"
   ]
  },
  {
   "cell_type": "code",
   "execution_count": null,
   "metadata": {},
   "outputs": [],
   "source": [
    "x = True\n",
    "y = False\n",
    "\n",
    "print(x and True)    # True\n",
    "print(x or False)    # True\n",
    "print(x and y)       # False, follows commutative and identity laws"
   ]
  },
  {
   "cell_type": "markdown",
   "metadata": {},
   "source": [
    "## 10. **Boolean Pitfalls**\n",
    "When working with Booleans, there are a few common pitfalls to watch out for:\n",
    "\n",
    "Mistaking ``=`` for ``==``\n",
    "Using ``=`` (assignment) instead of ``==`` (comparison) in a condition can lead to unintended behavior."
   ]
  },
  {
   "cell_type": "code",
   "execution_count": null,
   "metadata": {},
   "outputs": [],
   "source": [
    "x = 5\n",
    "\n",
    "# Wrong: This assigns the value True to x instead of comparing\n",
    "if x = 5:   # This will raise a SyntaxError\n",
    "    print(\"Equal\")"
   ]
  },
  {
   "cell_type": "markdown",
   "metadata": {},
   "source": [
    "**Neglecting Short-Circuiting**\n",
    "\n",
    "Sometimes programmers forget that Python short-circuits logical operations, which can lead to confusion in complex expressions."
   ]
  },
  {
   "cell_type": "code",
   "execution_count": null,
   "metadata": {},
   "outputs": [],
   "source": [
    "a = False\n",
    "b = 1 / 0  # Raises an error\n",
    "\n",
    "print(a and b)  # No error raised, because 'a' is False, and Python doesn't evaluate 'b'"
   ]
  },
  {
   "cell_type": "markdown",
   "metadata": {},
   "source": [
    "## 11. **Practical Example: Voting Eligibility** 🔴\n",
    "\n",
    "Let’s use Booleans in a simple practical example where we determine if a person is eligible to vote based on age and citizenship."
   ]
  },
  {
   "cell_type": "code",
   "execution_count": null,
   "metadata": {},
   "outputs": [],
   "source": [
    "age = 20\n",
    "is_citizen = True\n",
    "\n",
    "def can_vote(age, is_citizen):\n",
    "    if age >= 18 and is_citizen:\n",
    "        return True\n",
    "    else:\n",
    "        return False\n",
    "\n",
    "print(can_vote(20, True))   # True\n",
    "print(can_vote(16, True))   # False\n",
    "print(can_vote(20, False))  # False"
   ]
  },
  {
   "cell_type": "markdown",
   "metadata": {},
   "source": [
    "## 12. **Advanced Example: Truth Table Generation** 🔴\n",
    "We can generate truth tables for logical operators like ``and``, ``or``, and ``not``. This is useful in Boolean algebra and logic circuit design."
   ]
  },
  {
   "cell_type": "code",
   "execution_count": 4,
   "metadata": {},
   "outputs": [
    {
     "name": "stdout",
     "output_type": "stream",
     "text": [
      "A\tB\tA AND B\tA OR B\tNOT A\n",
      "True\tTrue\tTrue\tTrue\tFalse\n",
      "True\tFalse\tFalse\tTrue\tFalse\n",
      "False\tTrue\tFalse\tTrue\tTrue\n",
      "False\tFalse\tFalse\tFalse\tTrue\n"
     ]
    }
   ],
   "source": [
    "def truth_table():\n",
    "    print(\"A\\tB\\tA AND B\\tA OR B\\tNOT A\")\n",
    "    for a in [True, False]:\n",
    "        for b in [True, False]:\n",
    "            print(f\"{a}\\t{b}\\t{a and b}\\t{a or b}\\t{not a}\")\n",
    "\n",
    "truth_table()"
   ]
  },
  {
   "cell_type": "markdown",
   "metadata": {},
   "source": [
    "**Conclusion**\n",
    "\n",
    "Booleans are simple yet powerful in Python. They form the backbone of decision-making in the language, allowing for the creation of conditional logic, loops, and more complex algorithms. Booleans, being part of logical and comparison operations, are widely used in programming, from simple control flow to advanced algorithmic logic."
   ]
  }
 ],
 "metadata": {
  "kernelspec": {
   "display_name": "env",
   "language": "python",
   "name": "python3"
  },
  "language_info": {
   "codemirror_mode": {
    "name": "ipython",
    "version": 3
   },
   "file_extension": ".py",
   "mimetype": "text/x-python",
   "name": "python",
   "nbconvert_exporter": "python",
   "pygments_lexer": "ipython3",
   "version": "3.12.2"
  }
 },
 "nbformat": 4,
 "nbformat_minor": 2
}
