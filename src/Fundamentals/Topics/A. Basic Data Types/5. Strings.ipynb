{
 "cells": [
  {
   "cell_type": "markdown",
   "id": "ed75392b",
   "metadata": {},
   "source": [
    "# Basic Data Types: **Strings**\n",
    "\n",
    "<p style=\"text-align: center;\">\n",
    "  <img src=\"../img/strings.webp\" width=\"1000\">\n",
    "</p>\n",
    "\n",
    "*Source: [[Link to the original source](https://realpython.com)]*"
   ]
  },
  {
   "cell_type": "markdown",
   "id": "1647e1a6",
   "metadata": {},
   "source": [
    "> ### ⚠️ **Warning!** Some items cover more advanced topics that will be covered in more depth later. They are included here for future reference. \n",
    "> * #### Topics that will be covered soon will be marked with: 🔶 \n",
    "> \n",
    "> * #### Topics that will be covered further away will be marked with: 🔴"
   ]
  },
  {
   "cell_type": "markdown",
   "id": "c613c49d",
   "metadata": {},
   "source": [
    "\n",
    "Strings in Python are sequences of characters enclosed within single, double, or triple quotes. They are one of the most commonly used data types and offer a wide range of operations and functionalities. Let’s explore the key concepts about strings in Python, from basic creation to more advanced manipulation techniques."
   ]
  },
  {
   "cell_type": "markdown",
   "id": "92e53cf0",
   "metadata": {},
   "source": [
    "## 1. Creating Strings\n",
    "In Python, you can create strings using single quotes ('), double quotes (\"), or triple quotes (''' or \"\"\"). Triple quotes are often used for multi-line strings or docstrings."
   ]
  },
  {
   "cell_type": "code",
   "execution_count": null,
   "id": "9ab1efd0",
   "metadata": {},
   "outputs": [],
   "source": [
    "single_quote_string = 'Hello'\n",
    "double_quote_string = \"World\"\n",
    "multi_line_string = '''This is\n",
    "a multi-line\n",
    "string.'''\n",
    "print(single_quote_string)\n",
    "print(double_quote_string)\n",
    "print(multi_line_string)"
   ]
  },
  {
   "cell_type": "markdown",
   "id": "49f72ad1",
   "metadata": {},
   "source": [
    "## 2. String Immutability\n",
    "Strings in Python are immutable, meaning once a string is created, you cannot change its content. Any operation that modifies a string creates a new string."
   ]
  },
  {
   "cell_type": "code",
   "execution_count": null,
   "id": "8084bef4",
   "metadata": {},
   "outputs": [],
   "source": [
    "s = 'hello'\n",
    "# s[0] = 'H'  # This will raise an error, as strings are immutable\n",
    "new_s = 'H' + s[1:]  # 'Hello'\n",
    "print(new_s)"
   ]
  },
  {
   "cell_type": "markdown",
   "id": "2845ffcd",
   "metadata": {},
   "source": [
    "## 3. String Concatenation and Repetition\n",
    "You can concatenate strings using the `+` operator or repeat them with the `*` operator."
   ]
  },
  {
   "cell_type": "code",
   "execution_count": 2,
   "id": "4e1d610f",
   "metadata": {},
   "outputs": [
    {
     "name": "stdout",
     "output_type": "stream",
     "text": [
      "Hello, World!\n",
      "Hello Hello Hello \n"
     ]
    }
   ],
   "source": [
    "greeting = 'Hello, ' + 'World!'\n",
    "repeat_hello = 'Hello ' * 3\n",
    "print(greeting)\n",
    "print(repeat_hello)"
   ]
  },
  {
   "cell_type": "markdown",
   "id": "725fc95d",
   "metadata": {},
   "source": [
    "## 4. String Indexing and Slicing\n",
    "Strings are sequences, so you can access individual characters using indexing, and you can extract subparts of strings using slicing.\n",
    "- **Indexing**: Access characters by their position (starting from 0).\n",
    "- **Slicing**: Extract a part of the string using `start:stop:step`."
   ]
  },
  {
   "cell_type": "code",
   "execution_count": null,
   "id": "43899380",
   "metadata": {},
   "outputs": [],
   "source": [
    "s = 'Python'\n",
    "# Indexing\n",
    "first_char = s[0]      # 'P'\n",
    "last_char = s[-1]      # 'n'\n",
    "print(f'First character: {first_char}')\n",
    "print(f'Last character: {last_char}')\n",
    "\n",
    "# Slicing\n",
    "sub_string = s[1:4]    # 'yth'\n",
    "reverse_s = s[::-1]    # 'nohtyP'\n",
    "print(f'Substring (1:4): {sub_string}')\n",
    "print(f'Reversed string: {reverse_s}')"
   ]
  },
  {
   "cell_type": "markdown",
   "id": "943647ab",
   "metadata": {},
   "source": [
    "## 5. String Methods\n",
    "Python provides a vast number of built-in methods for string manipulation. Let’s explore the most commonly used ones:\n"
   ]
  },
  {
   "cell_type": "markdown",
   "id": "b98b0074",
   "metadata": {},
   "source": [
    "### 5.1. Changing Case\n",
    "\n",
    "* ``upper()``: Converts all characters to uppercase.\n",
    "* ``lower()``: Converts all characters to lowercase.\n",
    "* ``capitalize()``: Capitalizes the first letter of the string.\n",
    "* ``title()``: Capitalizes the first letter of each word."
   ]
  },
  {
   "cell_type": "code",
   "execution_count": null,
   "id": "d5eeb82c",
   "metadata": {},
   "outputs": [],
   "source": [
    "s = 'python is Fun'\n",
    "print(s.upper())      # 'PYTHON IS FUN'\n",
    "print(s.lower())      # 'python is fun'\n",
    "print(s.capitalize()) # 'Python is fun'\n",
    "print(s.title())      # 'Python Is Fun'"
   ]
  },
  {
   "cell_type": "markdown",
   "id": "e8790462",
   "metadata": {},
   "source": [
    "### 5.2. Trimming Whitespace\n",
    "\n",
    "* ``strip()``: Removes leading and trailing whitespace.\n",
    "* ``lstrip()``: Removes leading whitespace.\n",
    "* ``rstrip()``: Removes trailing whitespace."
   ]
  },
  {
   "cell_type": "code",
   "execution_count": null,
   "id": "3bfee6f2",
   "metadata": {},
   "outputs": [],
   "source": [
    "s = '   Hello World!   '\n",
    "print(s.strip())  # 'Hello World!'\n",
    "print(s.lstrip()) # 'Hello World!   '\n",
    "print(s.rstrip()) # '   Hello World!'"
   ]
  },
  {
   "cell_type": "markdown",
   "id": "9a43be5f",
   "metadata": {},
   "source": [
    "### 5.3. Finding and Replacing\n",
    "\n",
    "* ``find(substring)``: Returns the index of the first occurrence of substring. Returns ``-1`` if not found.\n",
    "* ``replace(old, new)``: Replaces all occurrences of ``old`` with ``new``."
   ]
  },
  {
   "cell_type": "code",
   "execution_count": null,
   "id": "3c034226",
   "metadata": {},
   "outputs": [],
   "source": [
    "s = 'Hello, World!'\n",
    "print(s.find('World'))    # 7\n",
    "print(s.replace('World', 'Python'))  # 'Hello, Python!'"
   ]
  },
  {
   "cell_type": "markdown",
   "id": "b1a701c7",
   "metadata": {},
   "source": [
    "### 5.4. Splitting and Joining\n",
    "\n",
    "* ``split(separator)``: Splits the string into a list of substrings based on the ``separator``.\n",
    "* ``join(iterable)``: Joins the elements of an iterable into a single string with a ``separator``."
   ]
  },
  {
   "cell_type": "code",
   "execution_count": null,
   "id": "6ee0105c",
   "metadata": {},
   "outputs": [],
   "source": [
    "s = 'apple,banana,cherry'\n",
    "fruits = s.split(',')\n",
    "print(fruits)\n",
    "new_s = ' '.join(fruits)\n",
    "print(new_s)"
   ]
  },
  {
   "cell_type": "markdown",
   "id": "35beb9be",
   "metadata": {},
   "source": [
    "## 6. String Formatting\n",
    "Python provides several ways to format strings:\n",
    "### 6.1. % Operator (Old Style)"
   ]
  },
  {
   "cell_type": "code",
   "execution_count": null,
   "id": "f920f06c",
   "metadata": {},
   "outputs": [],
   "source": [
    "name = 'Alice'\n",
    "age = 30\n",
    "formatted_string = 'My name is %s and I am %d years old' % (name, age)\n",
    "print(formatted_string)"
   ]
  },
  {
   "cell_type": "markdown",
   "id": "dfd17fee",
   "metadata": {},
   "source": [
    "### 6.2. `str.format()` Method\n",
    "\n",
    "This is a more powerful and flexible way to format strings.\n",
    "\n"
   ]
  },
  {
   "cell_type": "code",
   "execution_count": null,
   "id": "89e15d4a",
   "metadata": {},
   "outputs": [],
   "source": [
    "formatted_string = 'My name is {} and I am {} years old'.format(name, age)\n",
    "print(formatted_string)\n",
    "\n",
    "# Using named placeholders\n",
    "formatted_string = 'My name is {name} and I am {age} years old'.format(name='Alice', age=30)\n",
    "print(formatted_string)"
   ]
  },
  {
   "cell_type": "markdown",
   "id": "571c7e49",
   "metadata": {},
   "source": [
    "### 6.3. f-Strings (Python 3.6+)\n",
    "\n",
    "This is the most modern and concise way to format strings, using the f prefix."
   ]
  },
  {
   "cell_type": "code",
   "execution_count": null,
   "id": "f9ef2635",
   "metadata": {},
   "outputs": [],
   "source": [
    "name = \"Alice\"\n",
    "age = 30\n",
    "\n",
    "formatted_string = f'My name is {name} and I am {age} years old'\n",
    "print(formatted_string)\n",
    "\n",
    "# Expressions inside f-strings\n",
    "formatted_string = f'I will be {age + 5} in 5 years'\n",
    "print(formatted_string)"
   ]
  },
  {
   "cell_type": "markdown",
   "id": "e7885a6a",
   "metadata": {},
   "source": [
    "## 7. Escape Characters\n",
    "Escape characters allow you to insert special characters into strings.\n",
    "\n",
    "common ones are:\n",
    "\n",
    "* ``\\n``: Newline\n",
    "* ``\\t``: Tab\n",
    "* ``\\'``: Single quote\n",
    "* ``\\\"``: Double quote\n",
    "* ``\\\\``: Backslash"
   ]
  },
  {
   "cell_type": "code",
   "execution_count": null,
   "id": "0009251c",
   "metadata": {},
   "outputs": [],
   "source": [
    "s = 'Hello\\nWorld'\n",
    "print(s)\n",
    "\n",
    "path = 'C:\\\\Program Files\\\\Python'\n",
    "print(path)"
   ]
  },
  {
   "cell_type": "markdown",
   "id": "86c1fe49",
   "metadata": {},
   "source": [
    "## 8. Raw Strings\n",
    "\n",
    "If you want to prevent escape characters from being processed, you can use raw strings by adding an ``r`` before the string:"
   ]
  },
  {
   "cell_type": "code",
   "execution_count": 5,
   "id": "1b7fc604",
   "metadata": {},
   "outputs": [
    {
     "name": "stdout",
     "output_type": "stream",
     "text": [
      "C:\\Program Files\\Python\n"
     ]
    }
   ],
   "source": [
    "path = r'C:\\Program Files\\Python'\n",
    "print(path)"
   ]
  },
  {
   "cell_type": "markdown",
   "id": "a93da7c4",
   "metadata": {},
   "source": [
    "## 9. String Membership Test\n",
    "You can check if a substring exists within a string using the `in` keyword."
   ]
  },
  {
   "cell_type": "code",
   "execution_count": null,
   "id": "c55a7531",
   "metadata": {},
   "outputs": [],
   "source": [
    "s = 'Python programming is fun'\n",
    "print('Python' in s)  # True\n",
    "print('Java' in s)    # False"
   ]
  },
  {
   "cell_type": "markdown",
   "id": "159bb5c4",
   "metadata": {},
   "source": [
    "## 10. String Iteration\n",
    "Strings are iterable, so you can loop over each character using a `for` loop."
   ]
  },
  {
   "cell_type": "code",
   "execution_count": null,
   "id": "5fac8bdd",
   "metadata": {},
   "outputs": [],
   "source": [
    "s = 'Hello'\n",
    "for char in s:\n",
    "    print(char)"
   ]
  },
  {
   "cell_type": "markdown",
   "id": "6abdef87",
   "metadata": {},
   "source": [
    "## 11. Advanced String Operations\n"
   ]
  },
  {
   "cell_type": "markdown",
   "id": "d3f19bef",
   "metadata": {},
   "source": [
    "### 11.1. Checking String Properties\n",
    "\n",
    "* ``isalpha()``: Checks if all characters are alphabetic.\n",
    "* ``isdigit()``: Checks if all characters are digits.\n",
    "* ``isalnum()``: Checks if all characters are alphanumeric.\n",
    "* ``isspace()``: Checks if the string contains only whitespace."
   ]
  },
  {
   "cell_type": "code",
   "execution_count": null,
   "id": "e83990d8",
   "metadata": {},
   "outputs": [],
   "source": [
    "s = 'Python123'\n",
    "print(s.isalpha())  # False\n",
    "print(s.isalnum())  # True"
   ]
  },
  {
   "cell_type": "markdown",
   "id": "70be5d93",
   "metadata": {},
   "source": [
    "### 11.2. Counting Occurrences\n",
    "\n",
    "You can count the number of times a substring appears using the count() method."
   ]
  },
  {
   "cell_type": "code",
   "execution_count": null,
   "id": "ed2240f7",
   "metadata": {},
   "outputs": [],
   "source": [
    "s = 'banana'\n",
    "print(s.count('a'))  # 3"
   ]
  },
  {
   "cell_type": "markdown",
   "id": "ecfda5f8",
   "metadata": {},
   "source": [
    "### 11.3. Checking Start and End"
   ]
  },
  {
   "cell_type": "markdown",
   "id": "07e40366",
   "metadata": {},
   "source": [
    "* ``startswith(substring)``: Checks if the string starts with a given substring.\n",
    "* ``endswith(substring)``: Checks if the string ends with a given substring"
   ]
  },
  {
   "cell_type": "code",
   "execution_count": null,
   "id": "c158c83e",
   "metadata": {},
   "outputs": [],
   "source": [
    "s = 'hello world'\n",
    "print(s.startswith('hello'))   # True\n",
    "print(s.endswith('world'))     # True"
   ]
  },
  {
   "cell_type": "markdown",
   "id": "fe1fec30",
   "metadata": {},
   "source": [
    "## 12. Practical Example: Reversing Words in a Sentence 🔴\n",
    "Let's create a function to reverse the words in a sentence while keeping the word order."
   ]
  },
  {
   "cell_type": "code",
   "execution_count": null,
   "id": "089a3435",
   "metadata": {},
   "outputs": [],
   "source": [
    "def reverse_words(sentence):\n",
    "    words = sentence.split()\n",
    "    reversed_words = [word[::-1] for word in words]\n",
    "    return ' '.join(reversed_words)\n",
    "\n",
    "s = 'Hello World'\n",
    "print(reverse_words(s))  # 'olleH dlroW'"
   ]
  },
  {
   "cell_type": "markdown",
   "id": "6a900f18",
   "metadata": {},
   "source": [
    "## Conclusion\n",
    "\n",
    "Strings in Python are versatile and packed with functionality. From simple string creation to powerful manipulations like formatting, slicing, and advanced string operations, Python provides a rich set of tools to work with text. Whether you"
   ]
  }
 ],
 "metadata": {
  "kernelspec": {
   "display_name": "env",
   "language": "python",
   "name": "python3"
  },
  "language_info": {
   "codemirror_mode": {
    "name": "ipython",
    "version": 3
   },
   "file_extension": ".py",
   "mimetype": "text/x-python",
   "name": "python",
   "nbconvert_exporter": "python",
   "pygments_lexer": "ipython3",
   "version": "3.12.2"
  }
 },
 "nbformat": 4,
 "nbformat_minor": 5
}
